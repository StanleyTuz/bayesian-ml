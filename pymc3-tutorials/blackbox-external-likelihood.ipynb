{
 "metadata": {
  "language_info": {
   "codemirror_mode": {
    "name": "ipython",
    "version": 3
   },
   "file_extension": ".py",
   "mimetype": "text/x-python",
   "name": "python",
   "nbconvert_exporter": "python",
   "pygments_lexer": "ipython3",
   "version": "3.8.5-final"
  },
  "orig_nbformat": 2,
  "kernelspec": {
   "name": "Python 3.8.5 64-bit",
   "display_name": "Python 3.8.5 64-bit",
   "metadata": {
    "interpreter": {
     "hash": "1ee38ef4a5a9feb55287fd749643f13d043cb0a7addaab2a9c224cbe137c0062"
    }
   }
  }
 },
 "nbformat": 4,
 "nbformat_minor": 2,
 "cells": [
  {
   "cell_type": "code",
   "execution_count": 2,
   "metadata": {},
   "outputs": [
    {
     "output_type": "stream",
     "name": "stdout",
     "text": [
      "The Cython extension is already loaded. To reload it, use:\n  %reload_ext Cython\nRunning on PyMC3 v3.9.0\n"
     ]
    }
   ],
   "source": [
    "%load_ext Cython\n",
    "\n",
    "import arviz as az\n",
    "import corner\n",
    "import cython\n",
    "import emcee\n",
    "import IPython\n",
    "import matplotlib\n",
    "import matplotlib.pyplot as plt\n",
    "import numpy as np\n",
    "import os\n",
    "import platform\n",
    "import pymc3 as pm\n",
    "import theano\n",
    "import theano.tensor as tt\n",
    "\n",
    "print('Running on PyMC3 v{}'.format(pm.__version__))\n",
    "az.style.use('arviz-darkgrid')"
   ]
  },
  {
   "source": [
    "If we have a model function or probability distribution that relies on external code and may even be wrapped C code, what can we do? If we want to pass `PyMC3` variables or distributions to these external functions, we need to be clever, since these external functions probably expect floats."
   ],
   "cell_type": "markdown",
   "metadata": {}
  },
  {
   "source": [
    "Also, to perform gradient-based step sampling, the models or likelihoods we pass will need a specified gradient. If the model uses Theano operators, then autodiff is automatic; otherwise, if our model is a black box, we will not know what the gradients are."
   ],
   "cell_type": "markdown",
   "metadata": {}
  },
  {
   "source": [
    "Defining a model or likelihood that uses our \"black box\" external function is possible: we need to create a custom Theano Op."
   ],
   "cell_type": "markdown",
   "metadata": {}
  },
  {
   "source": [
    "This example creates a simple model and log-likelihood using `Cython`. This is merely an example where we call external `C` code, but we could easily do this if we were calling external Python code."
   ],
   "cell_type": "markdown",
   "metadata": {}
  },
  {
   "source": [
    "We will write our external function in `C` and use the GNU Scientific Library `GSL` to perform operations, showing that we can use external `C` libraries."
   ],
   "cell_type": "markdown",
   "metadata": {}
  },
  {
   "source": [
    "The below seems to work to use Cython. We need to tell it which files to link, though."
   ],
   "cell_type": "markdown",
   "metadata": {}
  },
  {
   "cell_type": "code",
   "execution_count": 22,
   "metadata": {},
   "outputs": [],
   "source": [
    "%%cython -I/usr/local/include -L/usr/local/lib -lgsl -lgslcblas -lm\n",
    "# -I : list of include directories\n",
    "# -L : list of library directories\n",
    "# -l : add library to link the extension against\n",
    "# %%cython -I/usr/include -L/usr/lib/x86_64-linux-gnu -lgsl -lgslcblas -lm\n",
    "import cython \n",
    "cimport cython\n",
    "\n",
    "import numpy as np \n",
    "cimport numpy as np"
   ]
  },
  {
   "cell_type": "code",
   "execution_count": null,
   "metadata": {},
   "outputs": [],
   "source": []
  }
 ]
}
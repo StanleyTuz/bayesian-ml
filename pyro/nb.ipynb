{
 "cells": [
  {
   "cell_type": "markdown",
   "metadata": {},
   "source": [
    "Effect handling seems like a principled way to treat compositions of functions."
   ]
  },
  {
   "cell_type": "code",
   "execution_count": 1,
   "metadata": {},
   "outputs": [],
   "source": [
    "import minipyro"
   ]
  },
  {
   "cell_type": "code",
   "execution_count": 2,
   "metadata": {},
   "outputs": [],
   "source": [
    "fn = lambda x: x**2\n",
    "\n",
    "msgr = minipyro.Messenger(fn)"
   ]
  },
  {
   "cell_type": "code",
   "execution_count": 3,
   "metadata": {},
   "outputs": [
    {
     "name": "stdout",
     "output_type": "stream",
     "text": [
      "Entering Messenger <minipyro.Messenger object at 0x7fc3b82fc3a0>\n",
      "Exiting Messenger <minipyro.Messenger object at 0x7fc3b82fc3a0>\n"
     ]
    },
    {
     "data": {
      "text/plain": [
       "9"
      ]
     },
     "execution_count": 3,
     "metadata": {},
     "output_type": "execute_result"
    }
   ],
   "source": [
    "msgr(3)"
   ]
  },
  {
   "cell_type": "code",
   "execution_count": 4,
   "metadata": {},
   "outputs": [],
   "source": [
    "tr = minipyro.trace(fn)"
   ]
  },
  {
   "cell_type": "code",
   "execution_count": 5,
   "metadata": {},
   "outputs": [
    {
     "name": "stdout",
     "output_type": "stream",
     "text": [
      "Entering Messenger <minipyro.trace object at 0x7fc3a902cbe0>\n",
      "odict_values([])\n",
      "Exiting Messenger <minipyro.trace object at 0x7fc3a902cbe0>\n"
     ]
    }
   ],
   "source": [
    "with minipyro.trace() as test_trace:\n",
    "    print(test_trace.values())"
   ]
  },
  {
   "cell_type": "code",
   "execution_count": 13,
   "metadata": {},
   "outputs": [],
   "source": [
    "fn = lambda x: x**2\n",
    "loc = minipyro.sample(\"testname\", fn, x=3)"
   ]
  },
  {
   "cell_type": "code",
   "execution_count": 20,
   "metadata": {},
   "outputs": [],
   "source": [
    "import pyro\n",
    "d = pyro.distributions.Normal(0.0, 1.0)\n",
    "\n",
    "# take a sample if no effects on stack\n",
    "loc = minipyro.sample(\"loc\", d)"
   ]
  },
  {
   "cell_type": "code",
   "execution_count": 22,
   "metadata": {},
   "outputs": [],
   "source": [
    "def model(data=None):\n",
    "    d = pyro.distributions.Normal(0.0, 1.0)\n",
    "    \n",
    "    # take a sample if no effects on stack\n",
    "    # If stack, apply all effects\n",
    "    loc = minipyro.sample(\"loc\", d, obs=data)"
   ]
  },
  {
   "cell_type": "code",
   "execution_count": 25,
   "metadata": {},
   "outputs": [
    {
     "name": "stdout",
     "output_type": "stream",
     "text": [
      "Entering Messenger <minipyro.trace object at 0x7fc319cc4ee0>\n",
      "OrderedDict([('loc', {'type': 'sample', 'name': 'loc', 'fn': Normal(loc: 0.0, scale: 1.0), 'args': (), 'kwargs': {}, 'value': tensor(0.4431)})])\n",
      "Exiting Messenger <minipyro.trace object at 0x7fc319cc4ee0>\n"
     ]
    }
   ],
   "source": [
    "with minipyro.trace() as capt:\n",
    "    model()\n",
    "    print(capt)"
   ]
  },
  {
   "cell_type": "markdown",
   "metadata": {},
   "source": [
    "\\begin{align}\n",
    "    \\text{weight} & \\sim \\mathcal{N}\\left(\\text{guess}, 1.0\\right) \\\\\n",
    "    \\text{measurement}\\; |\\; \\text{weight}, \\text{guess} & \\sim \\mathcal{N}\\left(\\text{weight}, 0.75\\right) \\\\\n",
    "\\end{align}"
   ]
  },
  {
   "cell_type": "code",
   "execution_count": 2,
   "metadata": {},
   "outputs": [],
   "source": [
    "import pyro\n",
    "import pyro.distributions as dist\n",
    "\n",
    "def scale(guess):\n",
    "    weight = pyro.sample(\"weight\", dist.Normal(guess, 1.0))\n",
    "    return pyro.sample(\"measurement\", dist.Normal(weight, 0.75))    "
   ]
  },
  {
   "cell_type": "markdown",
   "metadata": {},
   "source": [
    "This defines a (unnormalized) joint prob dist over `weight` and `measurement` (where `guess` is a hyperparameter):\n",
    "\n",
    "\\begin{align*}\n",
    "    w, m \\; | \\; g & \\sim p\\left(w, m \\, \\middle| \\, g\\right) \\\\\n",
    "    & = p\\left(m\\,\\middle|\\, w, g\\right)p\\left(w\\,\\middle|\\, g\\right) \\\\\n",
    "    & = p\\left(m\\,\\middle|\\, w\\right)p\\left(w\\,\\middle|\\, g\\right) \\\\\n",
    "    & = \\text{N}\\left(m; w, 0.75\\right)\\text{N}\\left(w; g, 1.0\\right) \\\\\n",
    "\\end{align*}\n",
    "\n",
    "where we assume $m$ is conditionally independent of $g$ given $w$."
   ]
  },
  {
   "cell_type": "markdown",
   "metadata": {},
   "source": [
    "Given the model as a Python function (`scale()` above), we don't have access to the underlying internal distributions. So it's hard to calculate things like the joint (or log-joint) probablility directly.\n",
    "\n",
    "`poutine` is Pyro's backend of effect handlers, AKA composable building blocks."
   ]
  },
  {
   "cell_type": "code",
   "execution_count": 33,
   "metadata": {},
   "outputs": [],
   "source": [
    "import pyro.poutine as poutine\n",
    "\n",
    "def make_log_joint(model):\n",
    "    def _log_joint(cond_data, *args, **kwargs):\n",
    "        conditioned_model = poutine.condition(model, data=cond_data)\n",
    "        trace = poutine.trace(conditioned_model).get_trace(*args, **kwargs)\n",
    "        return trace.log_prob_sum()\n",
    "    return _log_joint\n"
   ]
  },
  {
   "cell_type": "code",
   "execution_count": 34,
   "metadata": {},
   "outputs": [],
   "source": [
    "scale_log_joint = make_log_joint(scale)"
   ]
  },
  {
   "cell_type": "code",
   "execution_count": 42,
   "metadata": {},
   "outputs": [
    {
     "name": "stdout",
     "output_type": "stream",
     "text": [
      "tensor(-3.0203)\n"
     ]
    }
   ],
   "source": [
    "import torch\n",
    "\n",
    "print(scale_log_joint({\"measurement\": torch.tensor(9.5), \"weight\": torch.tensor(8.23)}, 8.5))"
   ]
  },
  {
   "cell_type": "code",
   "execution_count": 12,
   "metadata": {},
   "outputs": [],
   "source": [
    "import torch\n",
    "from pyro.poutine.trace_messenger import TraceMessenger\n",
    "from pyro.poutine.condition_messenger import ConditionMessenger\n",
    "import pyro\n",
    "import pyro.distributions as dist\n",
    "\n",
    "def scale_joint_distribution(guess):\n",
    "    weight = pyro.sample(\"weight\", dist.Normal(guess, 1.0))\n",
    "    return pyro.sample(\"measurement\", dist.Normal(weight, 0.75))    \n",
    "\n",
    "def make_log_joint2(model):\n",
    "    def _log_joint(cond_data, *args, **kwargs):\n",
    "        with TraceMessenger() as tracer:\n",
    "            with ConditionMessenger(data=cond_data):\n",
    "                model(*args, **kwargs)\n",
    "\n",
    "        trace = tracer.trace\n",
    "        # print(trace.nodes)\n",
    "        logp = 0.\n",
    "        for name, node in trace.nodes.items():\n",
    "            if node[\"type\"] == \"sample\":\n",
    "                if node[\"is_observed\"]:\n",
    "                    assert node[\"value\"] is cond_data[name]\n",
    "                    logp = logp + node[\"fn\"].log_prob(node[\"value\"]).sum()\n",
    "        return logp\n",
    "    return _log_joint\n",
    "    \n",
    "\n",
    "scale_log_joint = make_log_joint2(scale_joint_distribution)"
   ]
  },
  {
   "cell_type": "code",
   "execution_count": 13,
   "metadata": {},
   "outputs": [
    {
     "data": {
      "text/plain": [
       "tensor(-3.0203)"
      ]
     },
     "execution_count": 13,
     "metadata": {},
     "output_type": "execute_result"
    }
   ],
   "source": [
    "cond_data = {\n",
    "    \"measurement\": torch.tensor(9.5),\n",
    "    \"weight\": torch.tensor(8.23),\n",
    "    }\n",
    "guess = 8.5\n",
    "scale_log_joint(cond_data, guess)"
   ]
  },
  {
   "cell_type": "markdown",
   "metadata": {},
   "source": [
    ">`poutine.trace` produces a data structure (a Trace) containing a dictionary whose keys are `sample` site names and values are dictionaries containing the distribution (\"`fn`\") and output (\"`value`\") at each site, and that the output values at each site are exactly the values specified in `data`.\n",
    "\n",
    "It looks like this is how observations are \"set\" in the model."
   ]
  },
  {
   "cell_type": "markdown",
   "metadata": {},
   "source": [
    "`Messenger`s are stateful context manager objects that are placed on a global stack and send messages up and down that stack at each effectful operation (e.g., `pyro.sample` call)."
   ]
  },
  {
   "cell_type": "code",
   "execution_count": null,
   "metadata": {},
   "outputs": [],
   "source": []
  },
  {
   "cell_type": "code",
   "execution_count": null,
   "metadata": {},
   "outputs": [],
   "source": []
  }
 ],
 "metadata": {
  "kernelspec": {
   "display_name": "Python 3.8.12 ('.venv': venv)",
   "language": "python",
   "name": "python3"
  },
  "language_info": {
   "codemirror_mode": {
    "name": "ipython",
    "version": 3
   },
   "file_extension": ".py",
   "mimetype": "text/x-python",
   "name": "python",
   "nbconvert_exporter": "python",
   "pygments_lexer": "ipython3",
   "version": "3.8.12"
  },
  "orig_nbformat": 4,
  "vscode": {
   "interpreter": {
    "hash": "5ee19b82fd99a012bea4ec0e3f76be5c7a0cf5cc25d107856e87c55c22b4f3d1"
   }
  }
 },
 "nbformat": 4,
 "nbformat_minor": 2
}

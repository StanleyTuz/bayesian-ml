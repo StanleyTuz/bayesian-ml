{
 "cells": [
  {
   "cell_type": "code",
   "execution_count": 4,
   "metadata": {},
   "outputs": [],
   "source": [
    "import torch\n",
    "import matplotlib.pyplot as plt"
   ]
  },
  {
   "cell_type": "code",
   "execution_count": 2,
   "metadata": {},
   "outputs": [],
   "source": [
    "t_c = [0.5,  14.0, 15.0, 28.0, 11.0,  8.0,  3.0, -4.0,  6.0, 13.0, 21.0]\n",
    "t_u = [35.7, 55.9, 58.2, 81.9, 56.3, 48.9, 33.9, 21.8, 48.4, 60.4, 68.4]\n",
    "t_c = torch.tensor(t_c)\n",
    "t_u = torch.tensor(t_u)"
   ]
  },
  {
   "cell_type": "code",
   "execution_count": 8,
   "metadata": {},
   "outputs": [
    {
     "data": {
      "text/plain": [
       "Text(0, 0.5, 'Temperature (°Celsius)')"
      ]
     },
     "execution_count": 8,
     "metadata": {},
     "output_type": "execute_result"
    },
    {
     "data": {
      "image/png": "[encoded data removed]",
      "text/plain": [
       "<Figure size 432x288 with 1 Axes>"
      ]
     },
     "metadata": {
      "needs_background": "light"
     },
     "output_type": "display_data"
    }
   ],
   "source": [
    "fig, ax = plt.subplots()\n",
    "ax.scatter(t_u, t_c)\n",
    "ax.set_xlabel('Measurement')\n",
    "ax.set_ylabel('Temperature (°Celsius)')"
   ]
  },
  {
   "cell_type": "code",
   "execution_count": 11,
   "metadata": {},
   "outputs": [],
   "source": [
    "def model(t_u, w, b):\n",
    "    return w * t_u + b\n",
    "\n",
    "def loss_fn(t_p, t_c):\n",
    "    return torch.mean((t_p - t_c)**2)"
   ]
  },
  {
   "cell_type": "code",
   "execution_count": 15,
   "metadata": {},
   "outputs": [
    {
     "data": {
      "text/plain": [
       "tensor(1763.8848)"
      ]
     },
     "execution_count": 15,
     "metadata": {},
     "output_type": "execute_result"
    }
   ],
   "source": [
    "w = torch.ones(())\n",
    "b = torch.zeros(())\n",
    "\n",
    "t_p = model(t_u, w, b)\n",
    "loss_fn(t_p, t_c)"
   ]
  },
  {
   "cell_type": "markdown",
   "metadata": {},
   "source": [
    ">Broadcasting, which is popular in NumPy and adapted by PyTorch, relaxes this assump- tion for most binary operations. It uses the following rules to match tensor elements:\n",
    "- For each index dimension, counted from the back, if one of the operands is size 1 in that dimension, PyTorch will use the single entry along this dimen- sion with each of the entries in the other tensor along this dimension.\n",
    "- If both sizes are greater than 1, they must be the same, and natural matching is used.\n",
    "- If one of the tensors has more index dimensions than the other, the entirety of the other tensor will be used for each entry along these dimensions.\n"
   ]
  },
  {
   "cell_type": "code",
   "execution_count": 17,
   "metadata": {},
   "outputs": [
    {
     "data": {
      "text/plain": [
       "tensor(4517.2974)"
      ]
     },
     "execution_count": 17,
     "metadata": {},
     "output_type": "execute_result"
    }
   ],
   "source": [
    "delta = 0.1\n",
    "loss_w_plus  = loss_fn(model(t_u, w+delta, b), t_c)  # perturb w, calc loss\n",
    "loss_w_minus = loss_fn(model(t_u, w-delta, b), t_c)  # perturb w, calc loss\n",
    "dl_dw = (loss_w_plus - loss_w_minus) / (2.0 * delta)  # grad\n",
    "dl_dw"
   ]
  },
  {
   "cell_type": "code",
   "execution_count": 18,
   "metadata": {},
   "outputs": [],
   "source": [
    "lr = 1e-2\n",
    "w = w - lr * dl_dw"
   ]
  },
  {
   "cell_type": "markdown",
   "metadata": {},
   "source": [
    "Use the chain rule to decompose the derivative:\n",
    "$$ \\frac{d\\left(\\text{loss function}\\right)}{dw} = \\frac{d\\left(\\text{loss function}\\right)}{d t} \\frac{d t}{dw} $$ \n",
    "\n",
    "where $t$ is the output of the model, i.e., the input to the loss function. Here we can compute it analytically:"
   ]
  },
  {
   "cell_type": "code",
   "execution_count": 23,
   "metadata": {},
   "outputs": [],
   "source": [
    "def dl_dt(t_p, t_c):\n",
    "    \"\"\"Derivative of loss function.\"\"\"\n",
    "    return 2.0 * (t_p - t_c) / t_p.size(0)\n",
    "\n",
    "def dt_dw(t_u, w, b):\n",
    "    \"\"\"Derivative of model wrt w.\"\"\"\n",
    "    return t_u\n",
    "\n",
    "def dt_db(t_u, w, b):\n",
    "    \"\"\"Derivative of model wrt b.\"\"\"\n",
    "    return 1.0\n",
    "\n",
    "def gradient(t_u, t_c, t_p, w, b):\n",
    "    _dldt = dl_dt(t_p, t_c)\n",
    "    _dldw = _dldt * dt_dw(t_u, w, b)\n",
    "    _dldb = _dldt * dt_db(t_u, w, b)\n",
    "    return torch.stack([\n",
    "        _dldw.sum(),\n",
    "        _dldb.sum(),\n",
    "    ])"
   ]
  },
  {
   "cell_type": "code",
   "execution_count": 42,
   "metadata": {},
   "outputs": [
    {
     "data": {
      "text/plain": [
       "[<matplotlib.lines.Line2D at 0x7f8fe3d8dcf0>]"
      ]
     },
     "execution_count": 42,
     "metadata": {},
     "output_type": "execute_result"
    },
    {
     "data": {
      "image/png": "[encoded data removed]",
      "text/plain": [
       "<Figure size 432x288 with 1 Axes>"
      ]
     },
     "metadata": {
      "needs_background": "light"
     },
     "output_type": "display_data"
    }
   ],
   "source": [
    "def train_loop(n_epochs, lr, params, t_u, t_c):\n",
    "    loss_tensor = torch.zeros(n_epochs)\n",
    "    for epoch in range(1, n_epochs+1):\n",
    "        w, b = params\n",
    "\n",
    "        t_p = model(t_u, w, b)  # forward pass\n",
    "        loss = loss_fn(t_p, t_c)  # calculate loss\n",
    "        loss_tensor[epoch-1] = loss\n",
    "        grad = gradient(t_u, t_c, t_p, w, b)  # backward pass (gradient)\n",
    "\n",
    "        # step\n",
    "        params = params - lr * grad\n",
    "\n",
    "        # print(f'Epoch {epoch:3d}: Loss {float(loss):.4f}')\n",
    "    return loss_tensor, params\n",
    "\n",
    "t_un = 0.1 * t_u\n",
    "\n",
    "losses, params = train_loop(\n",
    "    n_epochs=1500,\n",
    "    lr=1e-2,\n",
    "    params=torch.tensor([1.0, 0.0]),\n",
    "    t_u=t_un,\n",
    "    t_c=t_c,\n",
    ")\n",
    "\n",
    "fig, ax = plt.subplots()\n",
    "ax.plot(losses)"
   ]
  },
  {
   "cell_type": "markdown",
   "metadata": {},
   "source": [
    "Plot trained model"
   ]
  },
  {
   "cell_type": "code",
   "execution_count": 43,
   "metadata": {},
   "outputs": [
    {
     "data": {
      "text/plain": [
       "[<matplotlib.lines.Line2D at 0x7f8fe3df5c60>]"
      ]
     },
     "execution_count": 43,
     "metadata": {},
     "output_type": "execute_result"
    },
    {
     "data": {
      "image/png": "[encoded data removed]",
      "text/plain": [
       "<Figure size 432x288 with 1 Axes>"
      ]
     },
     "metadata": {
      "needs_background": "light"
     },
     "output_type": "display_data"
    }
   ],
   "source": [
    "fig, ax = plt.subplots()\n",
    "t_p = model(t_un, *params)  # unpacking\n",
    "\n",
    "ax.plot(t_un, t_p)\n",
    "ax.plot(t_un, t_c, 'o')"
   ]
  },
  {
   "cell_type": "markdown",
   "metadata": {},
   "source": [
    "# `autograd`"
   ]
  },
  {
   "cell_type": "markdown",
   "metadata": {},
   "source": [
    "For complicated nonlinear models, analytically computing the gradient is painstaking and a bottleneck."
   ]
  },
  {
   "cell_type": "markdown",
   "metadata": {},
   "source": [
    "PyTorch tensors can remember the operations that created and modified them; it can automatically do this differentiation by performing the chain rule behind-the-scenes."
   ]
  },
  {
   "cell_type": "code",
   "execution_count": 51,
   "metadata": {},
   "outputs": [],
   "source": [
    "def model(t_u, w, b):\n",
    "    return w * t_u + b\n",
    "\n",
    "def loss_fn(t_p, t_c):\n",
    "    return torch.mean((t_p - t_c)**2)\n",
    "\n",
    "params = torch.tensor([1.0, 0.0], requires_grad=True)"
   ]
  },
  {
   "cell_type": "markdown",
   "metadata": {},
   "source": [
    "Setting `requires_grad=True` means PyTorch will track all tensors resulting from operating on `params`. Any tensor which is has `params` as an \"ancestor\" will be able to see the chain of functions that created it from `params`.\n",
    "\n",
    "For differentiable transformations, `params.grad` will automatically be populated."
   ]
  },
  {
   "cell_type": "code",
   "execution_count": 52,
   "metadata": {},
   "outputs": [
    {
     "data": {
      "text/plain": [
       "True"
      ]
     },
     "execution_count": 52,
     "metadata": {},
     "output_type": "execute_result"
    }
   ],
   "source": [
    "params.grad is None"
   ]
  },
  {
   "cell_type": "code",
   "execution_count": 61,
   "metadata": {},
   "outputs": [],
   "source": [
    "loss = loss_fn(model(t_u, *params), t_c)  # compute the loss\n",
    "# loss knows it has `params` as an ancestor\n",
    "\n",
    "loss.backward()  # computes the gradient of loss wrt params\n",
    "# this is the backward pass.\n",
    "# The gradients of loss wrt each ancestor is accumulated(!!!) in that \n",
    "#   ancestor's .grad attribute"
   ]
  },
  {
   "cell_type": "markdown",
   "metadata": {},
   "source": [
    "The ancestors are called \"leaf nodes\".\n",
    "\n",
    "`.backward()` makes gradients *accummulate* at the leaf nodes, so we need to zero them out."
   ]
  },
  {
   "cell_type": "code",
   "execution_count": 62,
   "metadata": {},
   "outputs": [
    {
     "data": {
      "text/plain": [
       "tensor([22586.4844,   413.0000])"
      ]
     },
     "execution_count": 62,
     "metadata": {},
     "output_type": "execute_result"
    }
   ],
   "source": [
    "params.grad"
   ]
  },
  {
   "cell_type": "code",
   "execution_count": 72,
   "metadata": {},
   "outputs": [
    {
     "name": "stdout",
     "output_type": "stream",
     "text": [
      "Epoch 500: Loss 7.8601\n",
      "Epoch 1000: Loss 3.8285\n",
      "Epoch 1500: Loss 3.0922\n",
      "Epoch 2000: Loss 2.9577\n",
      "Epoch 2500: Loss 2.9331\n",
      "Epoch 3000: Loss 2.9286\n",
      "Epoch 3500: Loss 2.9278\n",
      "Epoch 4000: Loss 2.9277\n",
      "Epoch 4500: Loss 2.9277\n",
      "Epoch 5000: Loss 2.9276\n"
     ]
    },
    {
     "data": {
      "image/png": "[encoded data removed]",
      "text/plain": [
       "<Figure size 432x288 with 1 Axes>"
      ]
     },
     "metadata": {
      "needs_background": "light"
     },
     "output_type": "display_data"
    }
   ],
   "source": [
    "def training_loop(n_epochs, lr, params, t_u, t_c):\n",
    "    loss_tensor = torch.zeros(n_epochs)\n",
    "    for epoch in range(1, n_epochs+1):\n",
    "\n",
    "        t_p = model(t_u, *params)  # forward pass\n",
    "        loss = loss_fn(t_p, t_c)  # calculate loss\n",
    "        loss_tensor[epoch-1] = loss\n",
    "        \n",
    "        # compute gradients\n",
    "        if params.grad is not None:\n",
    "            params.grad.zero_()  # zero-out the gradients\n",
    "        loss.backward()\n",
    "\n",
    "        with torch.no_grad():\n",
    "            params -= lr * params.grad\n",
    "\n",
    "        if epoch % 500 == 0:\n",
    "            print(f'Epoch {epoch:3d}: Loss {float(loss):.4f}')\n",
    "    return loss_tensor, params\n",
    "\n",
    "\n",
    "t_c = [0.5,  14.0, 15.0, 28.0, 11.0,  8.0,  3.0, -4.0,  6.0, 13.0, 21.0]\n",
    "t_u = [35.7, 55.9, 58.2, 81.9, 56.3, 48.9, 33.9, 21.8, 48.4, 60.4, 68.4]\n",
    "t_c = torch.tensor(t_c)\n",
    "t_u = torch.tensor(t_u)\n",
    "t_un = 0.1 * t_u\n",
    "\n",
    "losses, params = training_loop(\n",
    "    n_epochs=5000,\n",
    "    lr=1e-2,\n",
    "    params=torch.tensor([1.0, 0.0], requires_grad=True),\n",
    "    t_u=t_un,\n",
    "    t_c=t_c,\n",
    ")\n",
    "\n",
    "fig, ax = plt.subplots()\n",
    "ax.plot(losses.detach());"
   ]
  },
  {
   "cell_type": "markdown",
   "metadata": {},
   "source": [
    "In the future, when we register parameters with an optimizer, we will **not want to update parameters in-place!**"
   ]
  },
  {
   "cell_type": "markdown",
   "metadata": {},
   "source": [
    "The `torch.optim` submodule helps us abstract away from manually updating parameters. The optimizers store a reference to the model parameters, and they can update the parameters once the gradient information is populated. Different optimization algorithms will use different update formulas."
   ]
  },
  {
   "cell_type": "markdown",
   "metadata": {},
   "source": [
    "Optimizers have two key methods:\n",
    "- `.zero_grad` zeros-out the `grad` attribute of all parameters registered to it.\n",
    "- `.step` updates the parameters registered to it."
   ]
  },
  {
   "cell_type": "code",
   "execution_count": 77,
   "metadata": {},
   "outputs": [],
   "source": [
    "params = torch.tensor([1.0, 0.0], requires_grad=True)\n",
    "lr = 1e-5\n",
    "optimizer = torch.optim.SGD([params], lr=lr)"
   ]
  },
  {
   "cell_type": "code",
   "execution_count": 84,
   "metadata": {},
   "outputs": [
    {
     "data": {
      "text/plain": [
       "tensor([ 9.5483e-01, -8.2600e-04], requires_grad=True)"
      ]
     },
     "execution_count": 84,
     "metadata": {},
     "output_type": "execute_result"
    }
   ],
   "source": [
    "t_p = model(t_u, *params)\n",
    "loss = loss_fn(t_p, t_c)\n",
    "loss.backward()  # compute gradients\n",
    "\n",
    "optimizer.zero_grad()\n",
    "optimizer.step()\n",
    "params"
   ]
  },
  {
   "cell_type": "markdown",
   "metadata": {},
   "source": [
    "PyTorch provides the `torch.no_grad` context manager to shut off tracking operations for `requires_grad=True` tensors.\n",
    "\n",
    "Another option is to `torch.detach()` the Tensor from the computation graph.\n",
    "\n",
    "Another context manager, `toch.set_grad_enabled`, takes a `bool` as an input and runs with `autograd` accordingly enabled or disables.\n",
    "\n",
    "This is useful, e.g., if we want to conditionally train a model or just make forward passes (predictions) with it."
   ]
  },
  {
   "cell_type": "code",
   "execution_count": 87,
   "metadata": {},
   "outputs": [],
   "source": [
    "def calc_forward(t_u, t_c, is_train):\n",
    "    with torch.set_grad_enabled(is_train):\n",
    "        t_p = model(t_u, *params)\n",
    "        loss = loss_fn(t_p, t_c)\n",
    "    return loss"
   ]
  },
  {
   "cell_type": "markdown",
   "metadata": {},
   "source": [
    "# Exercises"
   ]
  },
  {
   "cell_type": "markdown",
   "metadata": {},
   "source": [
    "5.1 Redefine the model to be $w_2 * t_u^2 + w_1 * t_u + b$."
   ]
  },
  {
   "cell_type": "code",
   "execution_count": 117,
   "metadata": {},
   "outputs": [
    {
     "name": "stdout",
     "output_type": "stream",
     "text": [
      "init params: tensor([1., 0., 1.], requires_grad=True)\n",
      "Epoch     5, Loss 63.47\n",
      "\tparams: tensor([ 0.5472, -0.0737,  0.9870], requires_grad=True)\n",
      "Epoch    10, Loss 13.60\n",
      "\tparams: tensor([ 0.4286, -0.0952,  0.9826], requires_grad=True)\n",
      "Epoch    15, Loss 10.14\n",
      "\tparams: tensor([ 0.3978, -0.1030,  0.9805], requires_grad=True)\n",
      "Epoch    20, Loss 9.88\n",
      "\tparams: tensor([ 0.3901, -0.1071,  0.9790], requires_grad=True)\n",
      "Epoch    25, Loss 9.85\n",
      "\tparams: tensor([ 0.3884, -0.1103,  0.9776], requires_grad=True)\n",
      "Epoch    30, Loss 9.83\n",
      "\tparams: tensor([ 0.3883, -0.1133,  0.9763], requires_grad=True)\n"
     ]
    },
    {
     "data": {
      "image/png": "[encoded data removed]",
      "text/plain": [
       "<Figure size 432x288 with 1 Axes>"
      ]
     },
     "metadata": {
      "needs_background": "light"
     },
     "output_type": "display_data"
    }
   ],
   "source": [
    "# t_u - model inputs\n",
    "# t_p - model predictions\n",
    "# t_c - ground truth targets\n",
    "# w2, w1, b - model parameters\n",
    "def model(t_u, w2, w1, b):\n",
    "    \"\"\"Map inputs to predictions.\"\"\"\n",
    "    return w2 * torch.pow(t_u, 2) + w1 * t_u + b\n",
    "\n",
    "def loss_fn(t_p, t_c):\n",
    "    \"\"\"Map \"\"\"\n",
    "    return torch.mean((t_p - t_c)**2)\n",
    "\n",
    "def training_loop(t_u, t_c, params, optimizer, n_epochs: int = 10):    \n",
    "    losses = torch.zeros(n_epochs)\n",
    "    print(f'init params: {params}')\n",
    "    for epoch in range(1, n_epochs+1):\n",
    "        t_p = model(t_u, *params)  # forward pass\n",
    "        train_loss = loss_fn(t_p, t_c)\n",
    "        losses[epoch-1] = train_loss\n",
    "\n",
    "        optimizer.zero_grad()\n",
    "        train_loss.backward()\n",
    "        optimizer.step()\n",
    "\n",
    "        if epoch % 5 == 0:\n",
    "            print(f\"Epoch {epoch:5d}, Loss {train_loss:.2f}\")\n",
    "            print(f\"\\tparams: {params}\")\n",
    "    return params.detach(), losses.detach()\n",
    "\n",
    "t_c = [0.5,  14.0, 15.0, 28.0, 11.0,  8.0,  3.0, -4.0,  6.0, 13.0, 21.0]\n",
    "t_u = [35.7, 55.9, 58.2, 81.9, 56.3, 48.9, 33.9, 21.8, 48.4, 60.4, 68.4]\n",
    "t_c = torch.tensor(t_c)\n",
    "t_u = torch.tensor(t_u)\n",
    "t_un = 0.1 * t_u\n",
    "\n",
    "lr = 1e-4\n",
    "params = torch.tensor([1.0, 0.0, 1.0], requires_grad=True)  # device?\n",
    "optimizer = torch.optim.SGD([params], lr=lr)\n",
    "\n",
    "params, losses = training_loop(\n",
    "    t_u=t_un,\n",
    "    t_c=t_c,\n",
    "    optimizer=optimizer,\n",
    "    params=params,\n",
    "    n_epochs=30,\n",
    "    )\n",
    "\n",
    "fig, ax = plt.subplots()\n",
    "ax.plot(losses);\n"
   ]
  },
  {
   "cell_type": "markdown",
   "metadata": {},
   "source": [
    "a. What parts of the training loop, and so on, need to change to accommodate this redefinition?\n",
    "\n",
    "Only the model definition needed changed. Other things do change, but behind-the-scenes; e.g., `params` is now a 3-vector (`torch.Tensor`)."
   ]
  },
  {
   "cell_type": "markdown",
   "metadata": {},
   "source": [
    "b. What parts are agnostic to swapping out the model?\n",
    "\n",
    "The actual calls to the `torch.optim` object."
   ]
  },
  {
   "cell_type": "markdown",
   "metadata": {},
   "source": [
    "c. Is the resulting loss higher or lower after training?\n",
    "\n",
    "I didn't directly compare, but most likely lower due to the higher model complexity."
   ]
  },
  {
   "cell_type": "markdown",
   "metadata": {},
   "source": [
    "d. Is the actual result better or worse?\n",
    "\n",
    "The actual result may be worse if the model is overfitting."
   ]
  },
  {
   "cell_type": "code",
   "execution_count": 133,
   "metadata": {},
   "outputs": [
    {
     "data": {
      "text/plain": [
       "[<matplotlib.lines.Line2D at 0x7f8fd8474310>]"
      ]
     },
     "execution_count": 133,
     "metadata": {},
     "output_type": "execute_result"
    },
    {
     "data": {
      "image/png": "[encoded data removed]",
      "text/plain": [
       "<Figure size 432x288 with 1 Axes>"
      ]
     },
     "metadata": {
      "needs_background": "light"
     },
     "output_type": "display_data"
    }
   ],
   "source": [
    "fig, ax = plt.subplots()\n",
    "ax.scatter(t_un, t_c, c='orange')\n",
    "\n",
    "t_plot = torch.linspace(start=t_un.min(), end=t_un.max(), steps=10)\n",
    "ax.plot(t_plot, model(t_plot, *params))"
   ]
  },
  {
   "cell_type": "code",
   "execution_count": null,
   "metadata": {},
   "outputs": [],
   "source": []
  }
 ],
 "metadata": {
  "interpreter": {
   "hash": "05483f9220296ac6701beca760617d71fd368db46c55bd0e8f8bdeca047a6cee"
  },
  "kernelspec": {
   "display_name": "Python 3.10.4",
   "language": "python",
   "name": "python3"
  },
  "language_info": {
   "codemirror_mode": {
    "name": "ipython",
    "version": 3
   },
   "file_extension": ".py",
   "mimetype": "text/x-python",
   "name": "python",
   "nbconvert_exporter": "python",
   "pygments_lexer": "ipython3",
   "version": "3.10.4"
  },
  "orig_nbformat": 4
 },
 "nbformat": 4,
 "nbformat_minor": 2
}

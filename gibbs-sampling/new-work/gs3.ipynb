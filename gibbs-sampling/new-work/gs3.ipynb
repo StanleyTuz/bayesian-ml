{
 "cells": [
  {
   "cell_type": "code",
   "execution_count": 1,
   "metadata": {},
   "outputs": [],
   "source": [
    "import numpy as np \n",
    "import matplotlib.pyplot as plt\n",
    "import scipy.stats as ss"
   ]
  },
  {
   "cell_type": "code",
   "execution_count": 16,
   "metadata": {},
   "outputs": [],
   "source": [
    "mu_true = np.array([0.0, 8.0])\n",
    "sigma_true = np.array([1.0, 3.0])\n",
    "pi_true = np.array([0.4, 0.6])\n",
    "n_obs = 500\n",
    "\n",
    "X = np.empty(shape=(n_obs, 2))\n",
    "\n",
    "component_dists = [\n",
    "    ss.norm(loc=mu_true[i], scale=sigma_true[i]) for i in range(2)\n",
    "]\n",
    "\n",
    "z_i = ss.bernoulli(pi_true[0]).rvs(n_obs)\n",
    "y_i = component_dists[0].rvs(n_obs) * z_i + component_dists[1].rvs(n_obs) * (1-z_i)"
   ]
  },
  {
   "cell_type": "markdown",
   "metadata": {},
   "source": [
    "### Model 1: don't estimate assignments"
   ]
  },
  {
   "cell_type": "markdown",
   "metadata": {},
   "source": [
    "The joint distribution is\n",
    "\n",
    "\\begin{align*}\n",
    "    p\\left(Y, \\mu_{1:2}, \\sigma_{1:2}, \\pi\\right) & = p\\left(Y\\, \\middle| \\, \\mu_{1:2}, \\sigma_{1:2}, \\pi\\right) p\\left(\\mu_{1:2}, \\sigma_{1:2}, \\pi\\right) \\\\\n",
    "    & = p\\left(Y\\, \\middle| \\, \\mu_{1:2}, \\sigma_{1:2}, \\pi\\right) p\\left(\\mu_{1:2}\\right)p\\left(\\sigma_{1:2}\\right)p\\left(\\pi\\right) \\\\\n",
    "\\end{align*}\n"
   ]
  },
  {
   "cell_type": "markdown",
   "metadata": {},
   "source": [
    "\\begin{align*}\n",
    "    p\\left(\\mu_1 \\, \\middle| \\, Y, \\mu_{2}, \\sigma_{1:2}, \\pi\\right) & = p\\left(Y, \\mu_{1:2}, \\sigma_{1:2}, \\pi\\right) / p\\left(Y, \\mu_2, \\sigma_{1:2}, \\pi\\right) \\\\\n",
    "     & \\propto p\\left(Y\\, \\middle| \\, \\mu_{1:2}, \\sigma_{1:2}, \\pi\\right) p\\left(\\mu_{1}\\right) \\\\\n",
    "\\end{align*}\n"
   ]
  },
  {
   "cell_type": "markdown",
   "metadata": {},
   "source": [
    "\\begin{align*}\n",
    "    \\log p\\left(\\mu_1\\,\\middle|\\, Y, \\mu_2, \\sigma_{1:2}, \\pi\\right) + \\text{const.} & = \\log p\\left(Y\\,\\middle|\\,\\mu_{1:2}, \\sigma_{1:2}, \\pi\\right) + \\log p\\left(\\mu_1\\right) \\\\\n",
    "\\end{align*}"
   ]
  },
  {
   "cell_type": "markdown",
   "metadata": {},
   "source": [
    "\\begin{align*}\n",
    "    p\\left(Y\\, \\middle| \\, \\mu_{1:2}, \\sigma_{1:2}, \\pi\\right) & = \\prod_{i=1}^{n_{\\text{obs}}} p\\left(y_i \\, \\middle| \\, \\mu_{1:2}, \\sigma_{1:2}, \\pi\\right) \\\\\n",
    "    \\log p\\left(Y\\, \\middle| \\, \\mu_{1:2}, \\sigma_{1:2}, \\pi\\right) & = \\sum_{i=1}^{n_{\\text{obs}}} \\log p\\left(y_i \\, \\middle| \\, \\mu_{1:2}, \\sigma_{1:2}, \\pi\\right) \\\\\n",
    "\\end{align*}\n",
    "\n",
    "\\begin{align*}\n",
    "    p\\left(y\\, \\middle| \\, \\mu_{1:2}, \\sigma_{1:2}, \\pi\\right) & = \\pi \\mathcal{N}\\left(y; \\mu_1, \\sigma_1\\right) + \\left(1-\\pi\\right)\\mathcal{N}\\left(y; \\mu_2, \\sigma_2\\right) \\\\\n",
    "\\end{align*}"
   ]
  },
  {
   "cell_type": "markdown",
   "metadata": {},
   "source": [
    "so we have\n",
    "\n",
    "\\begin{align*}\n",
    "    p\\left(\\mu_1\\, \\middle| \\, Y, \\mu_2, \\sigma_{1:2}, \\pi\\right) & \\propto \\prod_{i=1}^{N_{\\text{obs}}} \\left[\\pi \\mathcal{N}\\left(y_i; \\mu_1, \\sigma_1\\right) + \\left(1 - \\pi\\right)\\mathcal{N}\\left(y_i; \\mu_2, \\sigma_2\\right) \\right] \\\\\n",
    "\\end{align*}"
   ]
  },
  {
   "cell_type": "code",
   "execution_count": 17,
   "metadata": {},
   "outputs": [],
   "source": [
    "mu = np.array([4.0, 5.0])\n",
    "sigma = np.array([1.0, 1.0])\n",
    "pi = np.array([0.5, 0.5])\n",
    "\n",
    "# def p_mu_j(Y, mu, sigma, pi):\n",
    "c_dists = [\n",
    "    ss.norm(loc=mu[i], scale=sigma[i]) for i in range(len(pi))\n",
    "]\n",
    "\n"
   ]
  },
  {
   "cell_type": "code",
   "execution_count": 56,
   "metadata": {},
   "outputs": [],
   "source": [
    "mu_1 = np.linspace(0, 5, 100)\n",
    "\n",
    "\n",
    "p_mu_1 = np.zeros_like(mu_1)\n",
    "\n",
    "for idx, mu_1_s in enumerate(mu_1):\n",
    "\n",
    "    preds = []\n",
    "    c_dists = [\n",
    "        ss.norm(loc=mu_1_s, scale=sigma[0]),\n",
    "        ss.norm(loc=mu[1], scale=sigma[1])\n",
    "    ]\n",
    "    for i in range(len(pi)):\n",
    "        preds.append(c_dists[i].pdf(y_i))\n",
    "    preds = np.stack(preds, axis=1)\n",
    "\n",
    "    like_obs = preds @ pi\n",
    "    p_mu_1[idx] = np.log(like_obs).sum()"
   ]
  },
  {
   "cell_type": "code",
   "execution_count": 73,
   "metadata": {},
   "outputs": [],
   "source": [
    "import random\n",
    "\n",
    "def categ(c):\n",
    "    cm = np.max(c)\n",
    "    while True:\n",
    "        x = np.random.randint(0, len(c) - 1)\n",
    "        y = cm - random.expovariate(1)\n",
    "        if y < c[x]:\n",
    "            return x"
   ]
  },
  {
   "cell_type": "code",
   "execution_count": 58,
   "metadata": {},
   "outputs": [
    {
     "data": {
      "text/plain": [
       "1"
      ]
     },
     "execution_count": 58,
     "metadata": {},
     "output_type": "execute_result"
    }
   ],
   "source": [
    "categ(p_mu_1)"
   ]
  },
  {
   "cell_type": "code",
   "execution_count": 67,
   "metadata": {},
   "outputs": [
    {
     "data": {
      "text/plain": [
       "0.10101010101010101"
      ]
     },
     "execution_count": 67,
     "metadata": {},
     "output_type": "execute_result"
    }
   ],
   "source": [
    "mu_1[categ(p_mu_1)]"
   ]
  },
  {
   "cell_type": "code",
   "execution_count": 71,
   "metadata": {},
   "outputs": [
    {
     "data": {
      "text/plain": [
       "array([4., 5.])"
      ]
     },
     "execution_count": 71,
     "metadata": {},
     "output_type": "execute_result"
    }
   ],
   "source": [
    "mu"
   ]
  },
  {
   "cell_type": "code",
   "execution_count": 75,
   "metadata": {},
   "outputs": [
    {
     "data": {
      "text/plain": [
       "<BarContainer object of 100 artists>"
      ]
     },
     "execution_count": 75,
     "metadata": {},
     "output_type": "execute_result"
    },
    {
     "data": {
      "image/png": "[encoded data removed]",
      "text/plain": [
       "<Figure size 640x480 with 1 Axes>"
      ]
     },
     "metadata": {},
     "output_type": "display_data"
    }
   ],
   "source": [
    "plt.bar(range(len(p_mu_1)), p_mu_1, width=0.3)"
   ]
  },
  {
   "cell_type": "code",
   "execution_count": null,
   "metadata": {},
   "outputs": [],
   "source": []
  }
 ],
 "metadata": {
  "kernelspec": {
   "display_name": "Python 3.8.12 ('.venv': venv)",
   "language": "python",
   "name": "python3"
  },
  "language_info": {
   "codemirror_mode": {
    "name": "ipython",
    "version": 3
   },
   "file_extension": ".py",
   "mimetype": "text/x-python",
   "name": "python",
   "nbconvert_exporter": "python",
   "pygments_lexer": "ipython3",
   "version": "3.8.12"
  },
  "orig_nbformat": 4,
  "vscode": {
   "interpreter": {
    "hash": "5ee19b82fd99a012bea4ec0e3f76be5c7a0cf5cc25d107856e87c55c22b4f3d1"
   }
  }
 },
 "nbformat": 4,
 "nbformat_minor": 2
}

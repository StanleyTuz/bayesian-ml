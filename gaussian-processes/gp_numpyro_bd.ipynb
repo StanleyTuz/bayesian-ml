{
 "metadata": {
  "language_info": {
   "codemirror_mode": {
    "name": "ipython",
    "version": 3
   },
   "file_extension": ".py",
   "mimetype": "text/x-python",
   "name": "python",
   "nbconvert_exporter": "python",
   "pygments_lexer": "ipython3",
   "version": "3.8.3-final"
  },
  "orig_nbformat": 2,
  "kernelspec": {
   "name": ".env",
   "display_name": "python3 (.env)"
  }
 },
 "nbformat": 4,
 "nbformat_minor": 2,
 "cells": [
  {
   "cell_type": "code",
   "execution_count": 1,
   "metadata": {},
   "outputs": [],
   "source": [
    "import pandas as pd \n",
    "import arviz \n",
    "import pickle\n",
    "\n",
    "import argparse\n",
    "import os\n",
    "import time\n",
    "\n",
    "import matplotlib\n",
    "import matplotlib.pyplot as plt\n",
    "import numpy as np\n",
    "\n",
    "import jax\n",
    "from jax import vmap\n",
    "import jax.numpy as jnp\n",
    "import jax.random as random\n",
    "\n",
    "import numpyro\n",
    "import numpyro.distributions as dist\n",
    "from numpyro.infer import MCMC, NUTS\n",
    "\n",
    "# matplotlib.use('Agg')  # noqa: E402"
   ]
  },
  {
   "cell_type": "code",
   "execution_count": 2,
   "metadata": {},
   "outputs": [],
   "source": [
    "bd = pd.read_csv('./numpyro/birthdays.txt')\n",
    "\n",
    "lam_date_join = lambda row: f\"{row['year']}-{row['month']}-{row['day']}\"\n",
    "bd[\"date\"] = pd.to_datetime(bd.apply(lam_date_join, axis=1), format=\"%Y-%m-%d\")\n",
    "\n",
    "lam_get_day = lambda date: date.days\n",
    "\n",
    "bd_sm = bd[bd[\"year\"] <= 1970]\n",
    "bd_sm['date_indexed'] = (bd_sm['date'] - bd_sm['date'].min()).apply(lam_get_day)\n",
    "# bd_sm['date_normed'] = (bd_sm['date_indexed'] - bd_sm['date_indexed'].mean()) / bd_sm['date_indexed'].std()\n",
    "bd_sm['births_normed'] = (bd_sm['births'] - bd_sm['births'].mean()) / bd_sm['births'].std()\n",
    "\n",
    "# date_scale = 1/bd_sm['date_indexed'].std() # one day corresps to date_scale normed days\n",
    "\n",
    "bd_sm['date_normed'] = bd_sm['date_indexed']\n",
    "# bd_sm['births_normed'] = bd_sm['births']\n",
    "\n",
    "\n",
    "# add in the special days\n",
    "\n",
    "# get the day of the week (used for some holidays)\n",
    "n_weeks = int(np.ceil(bd_sm.shape[0] / 7))\n",
    "bd_sm[\"weekdays\"] = pd.Series([\"Wed\",\"Thr\",\"Fri\",\"Sat\",\"Sun\",\"Mon\",\"Tue\"] * n_weeks)\n",
    "\n",
    "def find_holiday(df: pd.DataFrame, month: int, weekday: str, n: int):\n",
    "    \"\"\"\n",
    "        Get indicator column for holiday which occurs on\n",
    "        n-th weekday of month. (n=-1 for last)\n",
    "    \"\"\"\n",
    "    indic = pd.Series(0, df.index) \n",
    "    hols = df.query(f\"month == {month} and weekdays == '{weekday}'\").groupby(by=['year']).nth(n=n)\n",
    "    for j in range(hols.shape[0]): # for each one...\n",
    "        j_date = hols.iloc[j][\"date\"] # ...get the date...\n",
    "        indic[df[\"date\"]==j_date] = 1 # ...and record it\n",
    "\n",
    "    return indic\n",
    "\n",
    "bd_sm[\"spd_newyears\"] = ((bd_sm[\"month\"] == 1) & (bd_sm[\"day\"] == 1)).astype(int)\n",
    "bd_sm[\"spd_val\"] = ((bd_sm[\"month\"] == 2) & (bd_sm[\"day\"] == 14)).astype(int)\n",
    "bd_sm[\"spd_leap\"] = ((bd_sm[\"month\"] == 2) & (bd_sm[\"day\"] == 29)).astype(int)\n",
    "bd_sm[\"spd_aprilf\"] = ((bd_sm[\"month\"] == 4) & (bd_sm[\"day\"] == 1)).astype(int)\n",
    "bd_sm[\"spd_memorial\"] = find_holiday(bd_sm, month=5, weekday='Mon', n=-1) \n",
    "bd_sm[\"spd_indep\"] = ((bd_sm[\"month\"] == 7) & (bd_sm[\"day\"] == 4)).astype(int)\n",
    "bd_sm[\"spd_labor\"] = find_holiday(bd_sm, month=9, weekday='Mon', n=0) \n",
    "bd_sm[\"spd_halloween\"] = ((bd_sm[\"month\"] == 10) & (bd_sm[\"day\"] == 31)).astype(int)\n",
    "bd_sm[\"spd_thanks\"] = find_holiday(bd_sm, month=11, weekday='Thr', n=3)\n",
    "bd_sm[\"spd_xmas\"] = ((bd_sm[\"month\"] == 12) & (bd_sm[\"day\"] == 25)).astype(int)"
   ]
  },
  {
   "cell_type": "code",
   "execution_count": 3,
   "metadata": {},
   "outputs": [],
   "source": [
    "# X = bd_sm[['date_normed', 'spd_newyears', 'spd_val', 'spd_leap', 'spd_aprilf',\n",
    "#     'spd_memorial','spd_indep','spd_labor','spd_halloween','spd_thanks',\n",
    "#     'spd_xmas']].values[:,:]\n",
    "# y = bd_sm['births_normed'].values[:,None]"
   ]
  },
  {
   "cell_type": "code",
   "execution_count": 4,
   "metadata": {},
   "outputs": [],
   "source": [
    "X = bd_sm[[\"date_indexed\"]].values[:]\n",
    "Y = bd_sm[[\"births_normed\"]].values[:]\n",
    "\n",
    "n = X.shape[0]\n",
    "n_train = int(np.floor(.8*n))\n",
    "# tts_idx = np.random.permutation(range(n))\n",
    "tts_idx = range(n) # no shuffling\n",
    "\n",
    "X_test = X[tts_idx[n_train:]]\n",
    "Y_test = Y[tts_idx[n_train:]]\n",
    "X = X[tts_idx[:n_train]]\n",
    "Y = Y[tts_idx[:n_train]]"
   ]
  },
  {
   "source": [
    "## Kernels"
   ],
   "cell_type": "markdown",
   "metadata": {}
  },
  {
   "cell_type": "code",
   "execution_count": 12,
   "metadata": {},
   "outputs": [],
   "source": [
    "def kernel_sqexp(X,Xp,sigma,length,noise, jitter=1.0e-6, include_noise=True):\n",
    "    \"\"\"Radial basis function/Gaussian kernel.\n",
    "    \n",
    "    Args:\n",
    "        X,Xp (np.ndarray): two dataset inputs to kernel.\n",
    "        sigma (float): standard deviation parameter.\n",
    "        length (float): length scale parameter.\n",
    "\n",
    "    \"\"\"\n",
    "    k = sigma * jnp.exp(-0.5 * jnp.power((X-Xp)/length, 2.))\n",
    "    if include_noise:\n",
    "        k += (noise + jitter) * jnp.eye(X.shape[0])\n",
    "    return k"
   ]
  },
  {
   "cell_type": "code",
   "execution_count": 15,
   "metadata": {},
   "outputs": [],
   "source": [
    "def model(X, Y):\n",
    "    var = numpyro.sample(\"kernel_var\", dist.LogNormal(0.0, 10.0))\n",
    "    noise = numpyro.sample(\"kernel_noise\", dist.LogNormal(0.0, 10.0))\n",
    "    length = numpyro.sample(\"kernel_length\", dist.LogNormal(0.0, 10.0))\n",
    "\n",
    "    # compute the (observed data) kernel\n",
    "    k = kernel_sqexp(X, X, var, length, noise)\n",
    "\n",
    "    # sample Y according to standard GP formula\n",
    "    numpyro.sample(\"Y\", dist.MultivariateNormal(loc=jnp.zeros(X.shape[0]), covariance_matrix=k),\n",
    "        obs=Y)"
   ]
  },
  {
   "cell_type": "code",
   "execution_count": 14,
   "metadata": {},
   "outputs": [
    {
     "output_type": "error",
     "ename": "NameError",
     "evalue": "name 'noise' is not defined",
     "traceback": [
      "\u001b[0;31m---------------------------------------------------------------------------\u001b[0m",
      "\u001b[0;31mNameError\u001b[0m                                 Traceback (most recent call last)",
      "\u001b[0;32m<ipython-input-14-581edf28295b>\u001b[0m in \u001b[0;36m<module>\u001b[0;34m\u001b[0m\n\u001b[1;32m     36\u001b[0m mcmc = MCMC(kernel, args.num_warmup, args.num_samples, num_chains=args.num_chains,\n\u001b[1;32m     37\u001b[0m     progress_bar=False if \"NUMPYRO_SPHINXBUILD\" in os.environ else True)\n\u001b[0;32m---> 38\u001b[0;31m \u001b[0mmcmc\u001b[0m\u001b[0;34m.\u001b[0m\u001b[0mrun\u001b[0m\u001b[0;34m(\u001b[0m\u001b[0mrng_key\u001b[0m\u001b[0;34m,\u001b[0m \u001b[0mX\u001b[0m\u001b[0;34m,\u001b[0m \u001b[0mY\u001b[0m\u001b[0;34m)\u001b[0m\u001b[0;34m\u001b[0m\u001b[0;34m\u001b[0m\u001b[0m\n\u001b[0m\u001b[1;32m     39\u001b[0m \u001b[0mmcmc\u001b[0m\u001b[0;34m.\u001b[0m\u001b[0mprint_summary\u001b[0m\u001b[0;34m(\u001b[0m\u001b[0;34m)\u001b[0m\u001b[0;34m\u001b[0m\u001b[0;34m\u001b[0m\u001b[0m\n\u001b[1;32m     40\u001b[0m \u001b[0;34m\u001b[0m\u001b[0m\n",
      "\u001b[0;32m/usr/local/lib/python3.8/site-packages/numpyro/infer/mcmc.py\u001b[0m in \u001b[0;36mrun\u001b[0;34m(self, rng_key, extra_fields, init_params, *args, **kwargs)\u001b[0m\n\u001b[1;32m    447\u001b[0m         \u001b[0mmap_args\u001b[0m \u001b[0;34m=\u001b[0m \u001b[0;34m(\u001b[0m\u001b[0mrng_key\u001b[0m\u001b[0;34m,\u001b[0m \u001b[0minit_state\u001b[0m\u001b[0;34m,\u001b[0m \u001b[0minit_params\u001b[0m\u001b[0;34m)\u001b[0m\u001b[0;34m\u001b[0m\u001b[0;34m\u001b[0m\u001b[0m\n\u001b[1;32m    448\u001b[0m         \u001b[0;32mif\u001b[0m \u001b[0mself\u001b[0m\u001b[0;34m.\u001b[0m\u001b[0mnum_chains\u001b[0m \u001b[0;34m==\u001b[0m \u001b[0;36m1\u001b[0m\u001b[0;34m:\u001b[0m\u001b[0;34m\u001b[0m\u001b[0;34m\u001b[0m\u001b[0m\n\u001b[0;32m--> 449\u001b[0;31m             \u001b[0mstates_flat\u001b[0m\u001b[0;34m,\u001b[0m \u001b[0mlast_state\u001b[0m \u001b[0;34m=\u001b[0m \u001b[0mpartial_map_fn\u001b[0m\u001b[0;34m(\u001b[0m\u001b[0mmap_args\u001b[0m\u001b[0;34m)\u001b[0m\u001b[0;34m\u001b[0m\u001b[0;34m\u001b[0m\u001b[0m\n\u001b[0m\u001b[1;32m    450\u001b[0m             \u001b[0mstates\u001b[0m \u001b[0;34m=\u001b[0m \u001b[0mtree_map\u001b[0m\u001b[0;34m(\u001b[0m\u001b[0;32mlambda\u001b[0m \u001b[0mx\u001b[0m\u001b[0;34m:\u001b[0m \u001b[0mx\u001b[0m\u001b[0;34m[\u001b[0m\u001b[0mjnp\u001b[0m\u001b[0;34m.\u001b[0m\u001b[0mnewaxis\u001b[0m\u001b[0;34m,\u001b[0m \u001b[0;34m...\u001b[0m\u001b[0;34m]\u001b[0m\u001b[0;34m,\u001b[0m \u001b[0mstates_flat\u001b[0m\u001b[0;34m)\u001b[0m\u001b[0;34m\u001b[0m\u001b[0;34m\u001b[0m\u001b[0m\n\u001b[1;32m    451\u001b[0m         \u001b[0;32melse\u001b[0m\u001b[0;34m:\u001b[0m\u001b[0;34m\u001b[0m\u001b[0;34m\u001b[0m\u001b[0m\n",
      "\u001b[0;32m/usr/local/lib/python3.8/site-packages/numpyro/infer/mcmc.py\u001b[0m in \u001b[0;36m_single_chain_mcmc\u001b[0;34m(self, init, args, kwargs, collect_fields)\u001b[0m\n\u001b[1;32m    310\u001b[0m         \u001b[0mrng_key\u001b[0m\u001b[0;34m,\u001b[0m \u001b[0minit_state\u001b[0m\u001b[0;34m,\u001b[0m \u001b[0minit_params\u001b[0m \u001b[0;34m=\u001b[0m \u001b[0minit\u001b[0m\u001b[0;34m\u001b[0m\u001b[0;34m\u001b[0m\u001b[0m\n\u001b[1;32m    311\u001b[0m         \u001b[0;32mif\u001b[0m \u001b[0minit_state\u001b[0m \u001b[0;32mis\u001b[0m \u001b[0;32mNone\u001b[0m\u001b[0;34m:\u001b[0m\u001b[0;34m\u001b[0m\u001b[0;34m\u001b[0m\u001b[0m\n\u001b[0;32m--> 312\u001b[0;31m             init_state = self.sampler.init(rng_key, self.num_warmup, init_params,\n\u001b[0m\u001b[1;32m    313\u001b[0m                                            model_args=args, model_kwargs=kwargs)\n\u001b[1;32m    314\u001b[0m         \u001b[0;32mif\u001b[0m \u001b[0mself\u001b[0m\u001b[0;34m.\u001b[0m\u001b[0mpostprocess_fn\u001b[0m \u001b[0;32mis\u001b[0m \u001b[0;32mNone\u001b[0m\u001b[0;34m:\u001b[0m\u001b[0;34m\u001b[0m\u001b[0;34m\u001b[0m\u001b[0m\n",
      "\u001b[0;32m/usr/local/lib/python3.8/site-packages/numpyro/infer/hmc.py\u001b[0m in \u001b[0;36minit\u001b[0;34m(self, rng_key, num_warmup, init_params, model_args, model_kwargs)\u001b[0m\n\u001b[1;32m    448\u001b[0m         \u001b[0;32melse\u001b[0m\u001b[0;34m:\u001b[0m\u001b[0;34m\u001b[0m\u001b[0;34m\u001b[0m\u001b[0m\n\u001b[1;32m    449\u001b[0m             \u001b[0mrng_key\u001b[0m\u001b[0;34m,\u001b[0m \u001b[0mrng_key_init_model\u001b[0m \u001b[0;34m=\u001b[0m \u001b[0mjnp\u001b[0m\u001b[0;34m.\u001b[0m\u001b[0mswapaxes\u001b[0m\u001b[0;34m(\u001b[0m\u001b[0mvmap\u001b[0m\u001b[0;34m(\u001b[0m\u001b[0mrandom\u001b[0m\u001b[0;34m.\u001b[0m\u001b[0msplit\u001b[0m\u001b[0;34m)\u001b[0m\u001b[0;34m(\u001b[0m\u001b[0mrng_key\u001b[0m\u001b[0;34m)\u001b[0m\u001b[0;34m,\u001b[0m \u001b[0;36m0\u001b[0m\u001b[0;34m,\u001b[0m \u001b[0;36m1\u001b[0m\u001b[0;34m)\u001b[0m\u001b[0;34m\u001b[0m\u001b[0;34m\u001b[0m\u001b[0m\n\u001b[0;32m--> 450\u001b[0;31m         \u001b[0minit_params\u001b[0m \u001b[0;34m=\u001b[0m \u001b[0mself\u001b[0m\u001b[0;34m.\u001b[0m\u001b[0m_init_state\u001b[0m\u001b[0;34m(\u001b[0m\u001b[0mrng_key_init_model\u001b[0m\u001b[0;34m,\u001b[0m \u001b[0mmodel_args\u001b[0m\u001b[0;34m,\u001b[0m \u001b[0mmodel_kwargs\u001b[0m\u001b[0;34m,\u001b[0m \u001b[0minit_params\u001b[0m\u001b[0;34m)\u001b[0m\u001b[0;34m\u001b[0m\u001b[0;34m\u001b[0m\u001b[0m\n\u001b[0m\u001b[1;32m    451\u001b[0m         \u001b[0;32mif\u001b[0m \u001b[0mself\u001b[0m\u001b[0;34m.\u001b[0m\u001b[0m_potential_fn\u001b[0m \u001b[0;32mand\u001b[0m \u001b[0minit_params\u001b[0m \u001b[0;32mis\u001b[0m \u001b[0;32mNone\u001b[0m\u001b[0;34m:\u001b[0m\u001b[0;34m\u001b[0m\u001b[0;34m\u001b[0m\u001b[0m\n\u001b[1;32m    452\u001b[0m             raise ValueError('Valid value of `init_params` must be provided with'\n",
      "\u001b[0;32m/usr/local/lib/python3.8/site-packages/numpyro/infer/hmc.py\u001b[0m in \u001b[0;36m_init_state\u001b[0;34m(self, rng_key, model_args, model_kwargs, init_params)\u001b[0m\n\u001b[1;32m    405\u001b[0m     \u001b[0;32mdef\u001b[0m \u001b[0m_init_state\u001b[0m\u001b[0;34m(\u001b[0m\u001b[0mself\u001b[0m\u001b[0;34m,\u001b[0m \u001b[0mrng_key\u001b[0m\u001b[0;34m,\u001b[0m \u001b[0mmodel_args\u001b[0m\u001b[0;34m,\u001b[0m \u001b[0mmodel_kwargs\u001b[0m\u001b[0;34m,\u001b[0m \u001b[0minit_params\u001b[0m\u001b[0;34m)\u001b[0m\u001b[0;34m:\u001b[0m\u001b[0;34m\u001b[0m\u001b[0;34m\u001b[0m\u001b[0m\n\u001b[1;32m    406\u001b[0m         \u001b[0;32mif\u001b[0m \u001b[0mself\u001b[0m\u001b[0;34m.\u001b[0m\u001b[0m_model\u001b[0m \u001b[0;32mis\u001b[0m \u001b[0;32mnot\u001b[0m \u001b[0;32mNone\u001b[0m\u001b[0;34m:\u001b[0m\u001b[0;34m\u001b[0m\u001b[0;34m\u001b[0m\u001b[0m\n\u001b[0;32m--> 407\u001b[0;31m             init_params, potential_fn, postprocess_fn, model_trace = initialize_model(\n\u001b[0m\u001b[1;32m    408\u001b[0m                 \u001b[0mrng_key\u001b[0m\u001b[0;34m,\u001b[0m\u001b[0;34m\u001b[0m\u001b[0;34m\u001b[0m\u001b[0m\n\u001b[1;32m    409\u001b[0m                 \u001b[0mself\u001b[0m\u001b[0;34m.\u001b[0m\u001b[0m_model\u001b[0m\u001b[0;34m,\u001b[0m\u001b[0;34m\u001b[0m\u001b[0;34m\u001b[0m\u001b[0m\n",
      "\u001b[0;32m/usr/local/lib/python3.8/site-packages/numpyro/infer/util.py\u001b[0m in \u001b[0;36minitialize_model\u001b[0;34m(rng_key, model, init_strategy, dynamic_args, model_args, model_kwargs)\u001b[0m\n\u001b[1;32m    392\u001b[0m     substituted_model = substitute(seed(model, rng_key if jnp.ndim(rng_key) == 1 else rng_key[0]),\n\u001b[1;32m    393\u001b[0m                                    substitute_fn=init_strategy)\n\u001b[0;32m--> 394\u001b[0;31m     inv_transforms, replay_model, has_enumerate_support, model_trace = _get_model_transforms(\n\u001b[0m\u001b[1;32m    395\u001b[0m         substituted_model, model_args, model_kwargs)\n\u001b[1;32m    396\u001b[0m     \u001b[0;31m# substitute param sites from model_trace to model so\u001b[0m\u001b[0;34m\u001b[0m\u001b[0;34m\u001b[0m\u001b[0;34m\u001b[0m\u001b[0m\n",
      "\u001b[0;32m/usr/local/lib/python3.8/site-packages/numpyro/infer/util.py\u001b[0m in \u001b[0;36m_get_model_transforms\u001b[0;34m(model, model_args, model_kwargs)\u001b[0m\n\u001b[1;32m    263\u001b[0m \u001b[0;32mdef\u001b[0m \u001b[0m_get_model_transforms\u001b[0m\u001b[0;34m(\u001b[0m\u001b[0mmodel\u001b[0m\u001b[0;34m,\u001b[0m \u001b[0mmodel_args\u001b[0m\u001b[0;34m=\u001b[0m\u001b[0;34m(\u001b[0m\u001b[0;34m)\u001b[0m\u001b[0;34m,\u001b[0m \u001b[0mmodel_kwargs\u001b[0m\u001b[0;34m=\u001b[0m\u001b[0;32mNone\u001b[0m\u001b[0;34m)\u001b[0m\u001b[0;34m:\u001b[0m\u001b[0;34m\u001b[0m\u001b[0;34m\u001b[0m\u001b[0m\n\u001b[1;32m    264\u001b[0m     \u001b[0mmodel_kwargs\u001b[0m \u001b[0;34m=\u001b[0m \u001b[0;34m{\u001b[0m\u001b[0;34m}\u001b[0m \u001b[0;32mif\u001b[0m \u001b[0mmodel_kwargs\u001b[0m \u001b[0;32mis\u001b[0m \u001b[0;32mNone\u001b[0m \u001b[0;32melse\u001b[0m \u001b[0mmodel_kwargs\u001b[0m\u001b[0;34m\u001b[0m\u001b[0;34m\u001b[0m\u001b[0m\n\u001b[0;32m--> 265\u001b[0;31m     \u001b[0mmodel_trace\u001b[0m \u001b[0;34m=\u001b[0m \u001b[0mtrace\u001b[0m\u001b[0;34m(\u001b[0m\u001b[0mmodel\u001b[0m\u001b[0;34m)\u001b[0m\u001b[0;34m.\u001b[0m\u001b[0mget_trace\u001b[0m\u001b[0;34m(\u001b[0m\u001b[0;34m*\u001b[0m\u001b[0mmodel_args\u001b[0m\u001b[0;34m,\u001b[0m \u001b[0;34m**\u001b[0m\u001b[0mmodel_kwargs\u001b[0m\u001b[0;34m)\u001b[0m\u001b[0;34m\u001b[0m\u001b[0;34m\u001b[0m\u001b[0m\n\u001b[0m\u001b[1;32m    266\u001b[0m     \u001b[0minv_transforms\u001b[0m \u001b[0;34m=\u001b[0m \u001b[0;34m{\u001b[0m\u001b[0;34m}\u001b[0m\u001b[0;34m\u001b[0m\u001b[0;34m\u001b[0m\u001b[0m\n\u001b[1;32m    267\u001b[0m     \u001b[0;31m# model code may need to be replayed in the presence of deterministic sites\u001b[0m\u001b[0;34m\u001b[0m\u001b[0;34m\u001b[0m\u001b[0;34m\u001b[0m\u001b[0m\n",
      "\u001b[0;32m/usr/local/lib/python3.8/site-packages/numpyro/handlers.py\u001b[0m in \u001b[0;36mget_trace\u001b[0;34m(self, *args, **kwargs)\u001b[0m\n\u001b[1;32m    156\u001b[0m         \u001b[0;34m:\u001b[0m\u001b[0;32mreturn\u001b[0m\u001b[0;34m:\u001b[0m\u001b[0;31m \u001b[0m\u001b[0;31m`\u001b[0m\u001b[0mOrderedDict\u001b[0m\u001b[0;31m`\u001b[0m \u001b[0mcontaining\u001b[0m \u001b[0mthe\u001b[0m \u001b[0mexecution\u001b[0m \u001b[0mtrace\u001b[0m\u001b[0;34m.\u001b[0m\u001b[0;34m\u001b[0m\u001b[0;34m\u001b[0m\u001b[0m\n\u001b[1;32m    157\u001b[0m         \"\"\"\n\u001b[0;32m--> 158\u001b[0;31m         \u001b[0mself\u001b[0m\u001b[0;34m(\u001b[0m\u001b[0;34m*\u001b[0m\u001b[0margs\u001b[0m\u001b[0;34m,\u001b[0m \u001b[0;34m**\u001b[0m\u001b[0mkwargs\u001b[0m\u001b[0;34m)\u001b[0m\u001b[0;34m\u001b[0m\u001b[0;34m\u001b[0m\u001b[0m\n\u001b[0m\u001b[1;32m    159\u001b[0m         \u001b[0;32mreturn\u001b[0m \u001b[0mself\u001b[0m\u001b[0;34m.\u001b[0m\u001b[0mtrace\u001b[0m\u001b[0;34m\u001b[0m\u001b[0;34m\u001b[0m\u001b[0m\n\u001b[1;32m    160\u001b[0m \u001b[0;34m\u001b[0m\u001b[0m\n",
      "\u001b[0;32m/usr/local/lib/python3.8/site-packages/numpyro/primitives.py\u001b[0m in \u001b[0;36m__call__\u001b[0;34m(self, *args, **kwargs)\u001b[0m\n\u001b[1;32m     66\u001b[0m     \u001b[0;32mdef\u001b[0m \u001b[0m__call__\u001b[0m\u001b[0;34m(\u001b[0m\u001b[0mself\u001b[0m\u001b[0;34m,\u001b[0m \u001b[0;34m*\u001b[0m\u001b[0margs\u001b[0m\u001b[0;34m,\u001b[0m \u001b[0;34m**\u001b[0m\u001b[0mkwargs\u001b[0m\u001b[0;34m)\u001b[0m\u001b[0;34m:\u001b[0m\u001b[0;34m\u001b[0m\u001b[0;34m\u001b[0m\u001b[0m\n\u001b[1;32m     67\u001b[0m         \u001b[0;32mwith\u001b[0m \u001b[0mself\u001b[0m\u001b[0;34m:\u001b[0m\u001b[0;34m\u001b[0m\u001b[0;34m\u001b[0m\u001b[0m\n\u001b[0;32m---> 68\u001b[0;31m             \u001b[0;32mreturn\u001b[0m \u001b[0mself\u001b[0m\u001b[0;34m.\u001b[0m\u001b[0mfn\u001b[0m\u001b[0;34m(\u001b[0m\u001b[0;34m*\u001b[0m\u001b[0margs\u001b[0m\u001b[0;34m,\u001b[0m \u001b[0;34m**\u001b[0m\u001b[0mkwargs\u001b[0m\u001b[0;34m)\u001b[0m\u001b[0;34m\u001b[0m\u001b[0;34m\u001b[0m\u001b[0m\n\u001b[0m\u001b[1;32m     69\u001b[0m \u001b[0;34m\u001b[0m\u001b[0m\n\u001b[1;32m     70\u001b[0m \u001b[0;34m\u001b[0m\u001b[0m\n",
      "\u001b[0;32m/usr/local/lib/python3.8/site-packages/numpyro/primitives.py\u001b[0m in \u001b[0;36m__call__\u001b[0;34m(self, *args, **kwargs)\u001b[0m\n\u001b[1;32m     66\u001b[0m     \u001b[0;32mdef\u001b[0m \u001b[0m__call__\u001b[0m\u001b[0;34m(\u001b[0m\u001b[0mself\u001b[0m\u001b[0;34m,\u001b[0m \u001b[0;34m*\u001b[0m\u001b[0margs\u001b[0m\u001b[0;34m,\u001b[0m \u001b[0;34m**\u001b[0m\u001b[0mkwargs\u001b[0m\u001b[0;34m)\u001b[0m\u001b[0;34m:\u001b[0m\u001b[0;34m\u001b[0m\u001b[0;34m\u001b[0m\u001b[0m\n\u001b[1;32m     67\u001b[0m         \u001b[0;32mwith\u001b[0m \u001b[0mself\u001b[0m\u001b[0;34m:\u001b[0m\u001b[0;34m\u001b[0m\u001b[0;34m\u001b[0m\u001b[0m\n\u001b[0;32m---> 68\u001b[0;31m             \u001b[0;32mreturn\u001b[0m \u001b[0mself\u001b[0m\u001b[0;34m.\u001b[0m\u001b[0mfn\u001b[0m\u001b[0;34m(\u001b[0m\u001b[0;34m*\u001b[0m\u001b[0margs\u001b[0m\u001b[0;34m,\u001b[0m \u001b[0;34m**\u001b[0m\u001b[0mkwargs\u001b[0m\u001b[0;34m)\u001b[0m\u001b[0;34m\u001b[0m\u001b[0;34m\u001b[0m\u001b[0m\n\u001b[0m\u001b[1;32m     69\u001b[0m \u001b[0;34m\u001b[0m\u001b[0m\n\u001b[1;32m     70\u001b[0m \u001b[0;34m\u001b[0m\u001b[0m\n",
      "\u001b[0;32m/usr/local/lib/python3.8/site-packages/numpyro/primitives.py\u001b[0m in \u001b[0;36m__call__\u001b[0;34m(self, *args, **kwargs)\u001b[0m\n\u001b[1;32m     66\u001b[0m     \u001b[0;32mdef\u001b[0m \u001b[0m__call__\u001b[0m\u001b[0;34m(\u001b[0m\u001b[0mself\u001b[0m\u001b[0;34m,\u001b[0m \u001b[0;34m*\u001b[0m\u001b[0margs\u001b[0m\u001b[0;34m,\u001b[0m \u001b[0;34m**\u001b[0m\u001b[0mkwargs\u001b[0m\u001b[0;34m)\u001b[0m\u001b[0;34m:\u001b[0m\u001b[0;34m\u001b[0m\u001b[0;34m\u001b[0m\u001b[0m\n\u001b[1;32m     67\u001b[0m         \u001b[0;32mwith\u001b[0m \u001b[0mself\u001b[0m\u001b[0;34m:\u001b[0m\u001b[0;34m\u001b[0m\u001b[0;34m\u001b[0m\u001b[0m\n\u001b[0;32m---> 68\u001b[0;31m             \u001b[0;32mreturn\u001b[0m \u001b[0mself\u001b[0m\u001b[0;34m.\u001b[0m\u001b[0mfn\u001b[0m\u001b[0;34m(\u001b[0m\u001b[0;34m*\u001b[0m\u001b[0margs\u001b[0m\u001b[0;34m,\u001b[0m \u001b[0;34m**\u001b[0m\u001b[0mkwargs\u001b[0m\u001b[0;34m)\u001b[0m\u001b[0;34m\u001b[0m\u001b[0;34m\u001b[0m\u001b[0m\n\u001b[0m\u001b[1;32m     69\u001b[0m \u001b[0;34m\u001b[0m\u001b[0m\n\u001b[1;32m     70\u001b[0m \u001b[0;34m\u001b[0m\u001b[0m\n",
      "\u001b[0;32m<ipython-input-13-8b9e44af3686>\u001b[0m in \u001b[0;36mmodel\u001b[0;34m(X, Y)\u001b[0m\n\u001b[1;32m      5\u001b[0m \u001b[0;34m\u001b[0m\u001b[0m\n\u001b[1;32m      6\u001b[0m     \u001b[0;31m# compute the (observed data) kernel\u001b[0m\u001b[0;34m\u001b[0m\u001b[0;34m\u001b[0m\u001b[0;34m\u001b[0m\u001b[0m\n\u001b[0;32m----> 7\u001b[0;31m     \u001b[0mk\u001b[0m \u001b[0;34m=\u001b[0m \u001b[0mkernel_sqexp\u001b[0m\u001b[0;34m(\u001b[0m\u001b[0mX\u001b[0m\u001b[0;34m,\u001b[0m \u001b[0mX\u001b[0m\u001b[0;34m,\u001b[0m \u001b[0mvar\u001b[0m\u001b[0;34m,\u001b[0m \u001b[0mlength\u001b[0m\u001b[0;34m,\u001b[0m \u001b[0mnoise\u001b[0m\u001b[0;34m)\u001b[0m\u001b[0;34m\u001b[0m\u001b[0;34m\u001b[0m\u001b[0m\n\u001b[0m\u001b[1;32m      8\u001b[0m \u001b[0;34m\u001b[0m\u001b[0m\n\u001b[1;32m      9\u001b[0m     \u001b[0;31m# sample Y according to standard GP formula\u001b[0m\u001b[0;34m\u001b[0m\u001b[0;34m\u001b[0m\u001b[0;34m\u001b[0m\u001b[0m\n",
      "\u001b[0;31mNameError\u001b[0m: name 'noise' is not defined"
     ]
    }
   ],
   "source": [
    "from numpyro.infer import MCMC, NUTS, init_to_value, init_to_median, init_to_feasible, init_to_sample, init_to_uniform\n",
    "\n",
    "class Args:\n",
    "    num_chains = 1\n",
    "    num_samples = 1_000\n",
    "    num_warmup = 1_000\n",
    "    num_data = 25\n",
    "    device = 'cpu' #'gpu'\n",
    "    init_strategy = 'value'\n",
    "\n",
    "args = Args()\n",
    "\n",
    "numpyro.set_platform(args.device)\n",
    "numpyro.set_host_device_count(args.num_chains)\n",
    "\n",
    "\n",
    "# do the inference\n",
    "rng_key, rng_key_predict = random.split(random.PRNGKey(0))\n",
    "\n",
    "\n",
    "start = time.time()\n",
    "\n",
    "# different HMC initialization strategies\n",
    "if args.init_strategy == \"value\":\n",
    "    init_strategy = init_to_value(values={\"kernel_var\":1., \"kernel_noise\":.05, \"kernel_length\":.5})\n",
    "elif args.init_strategy == \"median\":\n",
    "    init_strategy = init_to_median(num_samples=10)\n",
    "elif args.init_strategy == \"feasible\":\n",
    "    init_strategy = init_to_feasible()\n",
    "elif args.init_strategy == \"sample\":\n",
    "    init_strategy = init_to_sample()\n",
    "elif args.init_strategy == \"uniform\":\n",
    "    init_strategy = init_to_uniform(radius=1)\n",
    "\n",
    "kernel = NUTS(model, init_strategy=init_strategy)\n",
    "mcmc = MCMC(kernel, args.num_warmup, args.num_samples, num_chains=args.num_chains,\n",
    "    progress_bar=False if \"NUMPYRO_SPHINXBUILD\" in os.environ else True)\n",
    "mcmc.run(rng_key, X, Y)\n",
    "mcmc.print_summary()\n",
    "\n",
    "samples = mcmc.get_samples()\n",
    "\n",
    "print('\\nMCMC elapsed time: ', time.time()-start)\n",
    "\n",
    "# do prediction\n",
    "vmap_args = (random.split(rng_key_predict, args.num_samples * args.num_chains), samples['kernel_var'],\n",
    "    samples['kernel_length'], samples['kernel_noise'])\n",
    "means, predictions = vmap(lambda rng_key, var, length, noise:\n",
    "    predict(rng_key, X, Y, X_test, var, length, noise))(*vmap_args)\n",
    "\n",
    "mean_prediction = np.mean(means, axis=0)\n",
    "percentiles = np.percentile(predictions, [5., 95.], axis=0)\n",
    "\n",
    "\n"
   ]
  },
  {
   "cell_type": "code",
   "execution_count": null,
   "metadata": {},
   "outputs": [],
   "source": []
  },
  {
   "cell_type": "code",
   "execution_count": null,
   "metadata": {},
   "outputs": [],
   "source": []
  },
  {
   "source": [
    "# Define kernels"
   ],
   "cell_type": "markdown",
   "metadata": {}
  },
  {
   "cell_type": "code",
   "execution_count": 22,
   "metadata": {},
   "outputs": [],
   "source": [
    "def kernel(X,Z, var, length, noise, jitter=1.0e-6, include_noise=True):\n",
    "    deltaXsq = jnp.power((X[:,None]-Z)/length, 2.)\n",
    "    k = var * jnp.exp(-.5 * deltaXsq)\n",
    "    if include_noise:\n",
    "        k += (noise + jitter) * jnp.eye(X.shape[0])\n",
    "    return k"
   ]
  },
  {
   "source": [
    "# Define the model"
   ],
   "cell_type": "markdown",
   "metadata": {}
  },
  {
   "cell_type": "code",
   "execution_count": 23,
   "metadata": {},
   "outputs": [],
   "source": [
    "def model(X, Y):\n",
    "    var = numpyro.sample(\"kernel_var\", dist.LogNormal(0.0, 10.0))\n",
    "    noise = numpyro.sample(\"kernel_noise\", dist.LogNormal(0.0, 10.0))\n",
    "    length = numpyro.sample(\"kernel_length\", dist.LogNormal(0.0, 10.0))\n",
    "\n",
    "    # compute the kernel\n",
    "    k = kernel(X, X, var, length, noise)\n",
    "\n",
    "    # sample Y according to standard GP formula\n",
    "    numpyro.sample(\"Y\", dist.MultivariateNormal(loc=jnp.zeros(X.shape[0]), covariance_matrix=k),\n",
    "        obs=Y)"
   ]
  },
  {
   "source": [
    "# Wrapper function for performing inference"
   ],
   "cell_type": "markdown",
   "metadata": {}
  },
  {
   "cell_type": "code",
   "execution_count": 32,
   "metadata": {},
   "outputs": [],
   "source": [
    "from numpyro.infer import MCMC, NUTS, init_to_value, init_to_median, init_to_feasible, init_to_sample, init_to_uniform\n",
    "\n",
    "def run_inference(model, args, rng_key, X, Y):\n",
    "    start = time.time()\n",
    "\n",
    "    # different HMC initialization strategies\n",
    "    if args.init_strategy == \"value\":\n",
    "        init_strategy = init_to_value(values={\"kernel_var\":1., \"kernel_noise\":.05, \"kernel_length\":.5})\n",
    "    elif args.init_strategy == \"median\":\n",
    "        init_strategy = init_to_median(num_samples=10)\n",
    "    elif args.init_strategy == \"feasible\":\n",
    "        init_strategy = init_to_feasible()\n",
    "    elif args.init_strategy == \"sample\":\n",
    "        init_strategy = init_to_sample()\n",
    "    elif args.init_strategy == \"uniform\":\n",
    "        init_strategy = init_to_uniform(radius=1)\n",
    "\n",
    "    kernel = NUTS(model, init_strategy=init_strategy)\n",
    "    mcmc = MCMC(kernel, args.num_warmup, args.num_samples, num_chains=args.num_chains,\n",
    "        progress_bar=False if \"NUMPYRO_SPHINXBUILD\" in os.environ else True)\n",
    "    mcmc.run(rng_key, X, Y)\n",
    "    mcmc.print_summary()\n",
    "\n",
    "    print('\\nMCMC elapsed time: ', time.time()-start)\n",
    "    return mcmc.get_samples()"
   ]
  },
  {
   "source": [
    "# Do prediction, given a set of hyperparameters"
   ],
   "cell_type": "markdown",
   "metadata": {}
  },
  {
   "cell_type": "code",
   "execution_count": 25,
   "metadata": {},
   "outputs": [],
   "source": [
    "def predict(rng_key, X, Y, X_test, var, length, noise):\n",
    "    # compute the kernels (blocks)\n",
    "    k_pp = kernel(X_test, X_test, var, length, noise, include_noise=True)\n",
    "    k_pX = kernel(X_test, X, var, length, noise, include_noise=False)\n",
    "    k_XX = kernel(X, X, var, length, noise, include_noise=True)\n",
    "\n",
    "    K_xx_inv = jnp.linalg.inv(k_XX)\n",
    "    K = k_pp - jnp.matmul(k_pX, jnp.matmul(K_xx_inv, jnp.transpose(k_pX)))\n",
    "\n",
    "    sigma_noise = jnp.sqrt(jnp.clip(jnp.diag(K), a_min=0.)) * jax.random.normal(rng_key, X_test.shape[:1])\n",
    "    mean = jnp.matmul(k_pX, jnp.matmul(K_xx_inv, Y))\n",
    "\n",
    "    return mean, mean+sigma_noise # return mean and a sample from posterior predictive"
   ]
  },
  {
   "source": [
    "# Make data"
   ],
   "cell_type": "markdown",
   "metadata": {}
  },
  {
   "cell_type": "code",
   "execution_count": 26,
   "metadata": {},
   "outputs": [],
   "source": [
    "def get_data(N=30, sigma_obs=0.15, N_test=400):\n",
    "    np.random.seed(0)\n",
    "    X = jnp.linspace(-1,1,N)\n",
    "    Y = X + 0.2 * jnp.power(X, 3.) + 0.5 * jnp.power(0.5 + X, 2.) * jnp.sin(4. * X)\n",
    "    Y += sigma_obs * np.random.randn(N)\n",
    "    Y -= jnp.mean(Y)\n",
    "    Y /= jnp.std(Y)\n",
    "\n",
    "    assert X.shape == (N,)\n",
    "    assert Y.shape == (N,)\n",
    "\n",
    "    X_test = jnp.linspace(-1.3, 1.3, N_test)\n",
    "\n",
    "    return X, Y, X_test"
   ]
  },
  {
   "source": [
    "# Run it"
   ],
   "cell_type": "markdown",
   "metadata": {}
  },
  {
   "cell_type": "code",
   "execution_count": 33,
   "metadata": {},
   "outputs": [
    {
     "output_type": "stream",
     "name": "stderr",
     "text": [
      "sample: 100%|██████████| 2000/2000 [00:12<00:00, 159.93it/s, 7 steps of size 4.91e-01. acc. prob=0.94] \n",
      "\n",
      "                     mean       std    median      5.0%     95.0%     n_eff     r_hat\n",
      "  kernel_length      0.71      0.22      0.67      0.36      1.02    507.98      1.00\n",
      "   kernel_noise      0.06      0.02      0.06      0.03      0.09    574.15      1.00\n",
      "     kernel_var      2.85      5.61      1.45      0.22      5.44    530.29      1.00\n",
      "\n",
      "Number of divergences: 0\n",
      "\n",
      "MCMC elapsed time:  15.481137990951538\n"
     ]
    }
   ],
   "source": [
    "class Args:\n",
    "    num_chains = 1\n",
    "    num_samples = 1_000\n",
    "    num_warmup = 1_000\n",
    "    num_data = 25\n",
    "    device = 'cpu' #'gpu'\n",
    "    init_strategy = 'value'\n",
    "\n",
    "args = Args()\n",
    "\n",
    "numpyro.set_platform(args.device)\n",
    "numpyro.set_host_device_count(args.num_chains)\n",
    "\n",
    "\n",
    "\n",
    "X, Y, X_test = get_data(N=args.num_data)\n",
    "\n",
    "# do the inference\n",
    "rng_key, rng_key_predict = random.split(random.PRNGKey(0))\n",
    "samples = run_inference(model, args, rng_key, X, Y) # wrapper fn\n",
    "\n",
    "# do prediction\n",
    "vmap_args = (random.split(rng_key_predict, args.num_samples * args.num_chains), samples['kernel_var'],\n",
    "    samples['kernel_length'], samples['kernel_noise'])\n",
    "means, predictions = vmap(lambda rng_key, var, length, noise:\n",
    "    predict(rng_key, X, Y, X_test, var, length, noise))(*vmap_args)\n",
    "\n",
    "mean_prediction = np.mean(means, axis=0)\n",
    "percentiles = np.percentile(predictions, [5., 95.], axis=0)\n"
   ]
  },
  {
   "source": [
    "# visualize output"
   ],
   "cell_type": "markdown",
   "metadata": {}
  },
  {
   "cell_type": "code",
   "execution_count": 40,
   "metadata": {},
   "outputs": [
    {
     "output_type": "display_data",
     "data": {
      "text/plain": "<Figure size 432x288 with 1 Axes>",
      "image/svg+xml": "<?xml version=\"1.0\" encoding=\"utf-8\" standalone=\"no\"?>\n<!DOCTYPE svg PUBLIC \"-//W3C//DTD SVG 1.1//EN\"\n  \"http://www.w3.org/Graphics/SVG/1.1/DTD/svg11.dtd\">\n<!-- Created with matplotlib (https://matplotlib.org/) -->\n<svg height=\"277.314375pt\" version=\"1.1\" viewBox=\"0 0 384.620312 277.314375\" width=\"384.620312pt\" xmlns=\"http://www.w3.org/2000/svg\" xmlns:xlink=\"http://www.w3.org/1999/xlink\">\n <defs>\n  <style type=\"text/css\">\n*{stroke-linecap:butt;stroke-linejoin:round;}\n  </style>\n </defs>\n <g id=\"figure_1\">\n  <g id=\"patch_1\">\n   <path d=\"M 0 277.314375 \nL 384.620312 277.314375 \nL 384.620312 0 \nL 0 0 \nz\n\" style=\"fill:none;\"/>\n  </g>\n  <g id=\"axes_1\">\n   <g id=\"patch_2\">\n    <path d=\"M 42.620313 239.758125 \nL 377.420313 239.758125 \nL 377.420313 22.318125 \nL 42.620313 22.318125 \nz\n\" style=\"fill:#ffffff;\"/>\n   </g>\n   <g id=\"PolyCollection_1\">\n    <defs>\n     <path d=\"M 57.838494 -133.780164 \nL 57.838494 -47.439886 \nL 58.601302 -53.279484 \nL 59.364124 -49.158851 \nL 60.126945 -48.973401 \nL 60.889753 -51.999336 \nL 61.652588 -52.682557 \nL 62.415396 -49.141764 \nL 63.178204 -52.06419 \nL 63.941011 -54.975291 \nL 64.703833 -54.28476 \nL 65.466655 -56.870457 \nL 66.229462 -54.114784 \nL 66.992298 -56.138193 \nL 67.755106 -58.177188 \nL 68.517913 -58.033026 \nL 69.280735 -58.144007 \nL 70.043557 -55.33894 \nL 70.806364 -58.928552 \nL 71.569186 -57.795163 \nL 72.332007 -58.120484 \nL 73.094815 -59.701698 \nL 73.857623 -55.459725 \nL 74.620458 -60.777137 \nL 75.383266 -59.320878 \nL 76.146074 -61.139775 \nL 76.908909 -61.559875 \nL 77.671717 -62.136822 \nL 78.434525 -61.634367 \nL 79.197332 -61.461018 \nL 79.960168 -63.125838 \nL 80.722976 -63.082467 \nL 81.485783 -64.687297 \nL 82.248619 -64.251974 \nL 83.011426 -65.247158 \nL 83.774248 -64.913547 \nL 84.53707 -66.147204 \nL 85.299877 -65.073217 \nL 86.062685 -65.637501 \nL 86.825507 -67.862419 \nL 87.588328 -65.531004 \nL 88.351136 -67.683904 \nL 89.113972 -67.818079 \nL 89.876779 -68.954767 \nL 90.639587 -69.410747 \nL 91.402395 -69.669263 \nL 92.16523 -71.526292 \nL 92.928038 -70.656436 \nL 93.690859 -68.223218 \nL 94.453674 -71.485845 \nL 95.216489 -71.749263 \nL 95.979296 -72.019256 \nL 96.742111 -71.219302 \nL 97.50494 -70.689287 \nL 98.267747 -72.87599 \nL 99.030576 -74.044687 \nL 99.793384 -72.721811 \nL 100.556198 -73.120847 \nL 101.319013 -74.506896 \nL 102.08182 -73.465515 \nL 102.844649 -74.766359 \nL 103.607457 -76.192273 \nL 104.370285 -75.758821 \nL 105.1331 -75.060906 \nL 105.895908 -75.205627 \nL 106.658722 -74.622965 \nL 107.421537 -74.533305 \nL 108.184359 -78.241226 \nL 108.947173 -76.901193 \nL 109.709995 -77.865447 \nL 110.472809 -78.141948 \nL 111.235617 -76.583537 \nL 111.998446 -76.158177 \nL 112.76126 -78.029609 \nL 113.524068 -78.168832 \nL 114.286897 -79.344833 \nL 115.049711 -81.114467 \nL 115.812519 -80.795099 \nL 116.575327 -78.098483 \nL 117.338148 -79.073451 \nL 118.10097 -81.712066 \nL 118.863778 -81.124222 \nL 119.626606 -80.861925 \nL 120.389421 -80.287243 \nL 121.152228 -81.021164 \nL 121.915057 -82.064627 \nL 122.677872 -82.084928 \nL 123.440679 -82.647846 \nL 124.203494 -81.917279 \nL 124.966316 -82.956379 \nL 125.72913 -82.481452 \nL 126.491938 -82.763262 \nL 127.254753 -83.403251 \nL 128.017581 -84.465368 \nL 128.780403 -86.381265 \nL 129.54321 -84.903116 \nL 130.306018 -85.075638 \nL 131.068854 -86.809622 \nL 131.831661 -88.13689 \nL 132.594483 -86.99341 \nL 133.357291 -87.068862 \nL 134.120112 -85.822694 \nL 134.88292 -88.12763 \nL 135.645735 -89.248636 \nL 136.408549 -88.213823 \nL 137.171364 -88.719539 \nL 137.934193 -89.503697 \nL 138.697 -90.341547 \nL 139.459822 -89.628653 \nL 140.222643 -89.629153 \nL 140.985458 -90.620327 \nL 141.748273 -93.174697 \nL 142.511094 -91.052744 \nL 143.273902 -92.45837 \nL 144.03671 -93.116312 \nL 144.799531 -93.819035 \nL 145.562346 -93.693063 \nL 146.325161 -94.661609 \nL 147.087982 -94.361569 \nL 147.850804 -95.172916 \nL 148.613611 -95.54506 \nL 149.376419 -94.791583 \nL 150.139255 -96.791515 \nL 150.902069 -96.40981 \nL 151.664881 -97.416468 \nL 152.427695 -97.601043 \nL 153.19051 -98.613913 \nL 153.953321 -98.803837 \nL 154.716143 -99.58085 \nL 155.478954 -100.06014 \nL 156.241765 -99.97647 \nL 157.004594 -99.784075 \nL 157.767405 -101.343149 \nL 158.530223 -101.29628 \nL 159.293051 -100.416689 \nL 160.055863 -102.104609 \nL 160.81867 -103.105269 \nL 161.581492 -104.318799 \nL 162.344303 -104.402469 \nL 163.107121 -105.055602 \nL 163.869936 -105.428649 \nL 164.632747 -105.838077 \nL 165.395565 -106.275005 \nL 166.158387 -106.846622 \nL 166.921205 -107.055099 \nL 167.684012 -106.316817 \nL 168.446845 -108.384416 \nL 169.209652 -110.301021 \nL 169.97247 -109.267117 \nL 170.735282 -109.97936 \nL 171.498103 -110.022518 \nL 172.260914 -109.719028 \nL 173.023725 -112.366682 \nL 173.786547 -109.085582 \nL 174.549355 -111.887193 \nL 175.312166 -113.42678 \nL 176.074995 -115.493276 \nL 176.837816 -115.859623 \nL 177.600624 -114.864766 \nL 178.363452 -116.473818 \nL 179.12626 -117.037533 \nL 179.889075 -115.430595 \nL 180.651896 -116.609835 \nL 181.414704 -117.143197 \nL 182.177526 -117.886455 \nL 182.94034 -119.634623 \nL 183.703148 -120.922932 \nL 184.46597 -120.652571 \nL 185.228798 -120.948517 \nL 185.991606 -122.343287 \nL 186.754414 -123.158785 \nL 187.517242 -122.964113 \nL 188.280057 -124.160146 \nL 189.042871 -125.654395 \nL 189.805686 -125.832274 \nL 190.568508 -126.475588 \nL 191.331315 -125.803826 \nL 192.094123 -127.883751 \nL 192.856945 -129.176426 \nL 193.619759 -128.675683 \nL 194.382574 -129.861995 \nL 195.145396 -131.06425 \nL 195.908217 -132.0066 \nL 196.671025 -131.366671 \nL 197.433853 -131.190828 \nL 198.196668 -132.250451 \nL 198.959483 -134.091638 \nL 199.722297 -134.900811 \nL 200.485105 -136.787824 \nL 201.247927 -137.60331 \nL 202.010741 -137.09176 \nL 202.773556 -138.43875 \nL 203.536371 -138.369228 \nL 204.299199 -140.230308 \nL 205.062007 -140.389174 \nL 205.824828 -142.67387 \nL 206.58765 -143.218392 \nL 207.350465 -142.802333 \nL 208.113272 -144.383233 \nL 208.876087 -144.854992 \nL 209.638909 -145.479785 \nL 210.401716 -146.792036 \nL 211.164538 -146.887573 \nL 211.927346 -147.209266 \nL 212.690181 -148.591201 \nL 213.452989 -150.443969 \nL 214.215797 -151.348888 \nL 214.978618 -153.137377 \nL 215.741426 -152.940563 \nL 216.504247 -151.545318 \nL 217.267069 -152.794741 \nL 218.029891 -154.532447 \nL 218.792698 -157.374305 \nL 219.55552 -156.477366 \nL 220.318328 -156.511276 \nL 221.081135 -157.530505 \nL 221.843957 -159.292152 \nL 222.606779 -159.854328 \nL 223.3696 -159.684322 \nL 224.132408 -161.779948 \nL 224.895229 -161.669528 \nL 225.658037 -162.711655 \nL 226.420845 -163.184593 \nL 227.18368 -164.952177 \nL 227.946502 -165.809146 \nL 228.70931 -167.151971 \nL 229.472117 -168.058009 \nL 230.234939 -168.857087 \nL 230.997747 -168.693001 \nL 231.760582 -170.053151 \nL 232.52339 -169.814185 \nL 233.286211 -171.403883 \nL 234.049019 -172.880532 \nL 234.811827 -172.37986 \nL 235.574648 -174.312774 \nL 236.337484 -174.238788 \nL 237.100292 -177.303604 \nL 237.863099 -175.948265 \nL 238.625921 -175.617841 \nL 239.388729 -178.22081 \nL 240.15155 -179.49041 \nL 240.914358 -178.356096 \nL 241.677194 -178.977008 \nL 242.440001 -179.543555 \nL 243.202809 -181.047615 \nL 243.96563 -180.672728 \nL 244.728438 -181.536477 \nL 245.491256 -184.040748 \nL 246.254085 -183.715224 \nL 247.0169 -184.223685 \nL 247.779711 -186.42022 \nL 248.542522 -186.028505 \nL 249.30534 -185.00363 \nL 250.068151 -186.841962 \nL 250.830983 -187.076454 \nL 251.593794 -189.237375 \nL 252.356613 -189.407818 \nL 253.11942 -189.342113 \nL 253.882238 -188.964512 \nL 254.645049 -190.187759 \nL 255.407882 -189.833168 \nL 256.170693 -190.933426 \nL 256.933504 -192.743921 \nL 257.696322 -192.37646 \nL 258.459133 -192.818405 \nL 259.221948 -192.579379 \nL 259.984776 -192.142305 \nL 260.747595 -194.531731 \nL 261.510402 -194.126871 \nL 262.27322 -194.533809 \nL 263.036031 -194.448041 \nL 263.798843 -194.892189 \nL 264.561661 -196.791944 \nL 265.324486 -195.005887 \nL 266.087304 -199.009139 \nL 266.850115 -197.665862 \nL 267.61293 -197.182316 \nL 268.375741 -197.280085 \nL 269.138549 -198.758102 \nL 269.901384 -196.690167 \nL 270.664206 -198.629702 \nL 271.427014 -199.335366 \nL 272.189821 -197.606441 \nL 272.952643 -200.054783 \nL 273.71545 -200.675159 \nL 274.478286 -198.738287 \nL 275.241094 -198.748644 \nL 276.003915 -200.824693 \nL 276.766723 -199.931429 \nL 277.529531 -198.999898 \nL 278.292352 -199.912079 \nL 279.055188 -200.364756 \nL 279.817996 -200.368329 \nL 280.580803 -201.928895 \nL 281.343625 -199.737788 \nL 282.106432 -201.94359 \nL 282.869254 -201.091473 \nL 283.632062 -200.248001 \nL 284.394897 -201.044768 \nL 285.157705 -200.768303 \nL 285.920513 -202.064256 \nL 286.683334 -201.201808 \nL 287.446142 -200.174855 \nL 288.208964 -200.25469 \nL 288.971785 -200.540622 \nL 289.734607 -199.542708 \nL 290.497415 -201.221944 \nL 291.260222 -199.963689 \nL 292.023044 -198.136223 \nL 292.785851 -200.021421 \nL 293.548687 -199.260517 \nL 294.311495 -200.036879 \nL 295.074309 -199.885827 \nL 295.837131 -198.941599 \nL 296.599946 -199.892094 \nL 297.362753 -198.698368 \nL 298.125589 -199.230288 \nL 298.888397 -197.691942 \nL 299.651204 -198.792784 \nL 300.414019 -197.839372 \nL 301.176847 -197.022315 \nL 301.939655 -196.948099 \nL 302.702463 -196.661789 \nL 303.465298 -195.733335 \nL 304.228106 -195.729088 \nL 304.990914 -193.81141 \nL 305.753728 -196.149323 \nL 306.51655 -194.012893 \nL 307.279365 -195.499862 \nL 308.0422 -194.56268 \nL 308.805008 -193.167394 \nL 309.567816 -193.289447 \nL 310.33063 -191.923623 \nL 311.093452 -191.304649 \nL 311.856266 -192.043902 \nL 312.619095 -190.252181 \nL 313.38191 -189.822479 \nL 314.144717 -190.169189 \nL 314.907525 -188.597797 \nL 315.67034 -189.791718 \nL 316.433161 -187.809654 \nL 317.195983 -187.685892 \nL 317.958805 -186.621152 \nL 318.721619 -185.894839 \nL 319.484427 -184.332733 \nL 320.247235 -188.235765 \nL 321.010049 -183.423873 \nL 321.772871 -183.255476 \nL 322.535692 -183.28378 \nL 323.298514 -181.716072 \nL 324.061329 -181.336861 \nL 324.824136 -181.431912 \nL 325.586944 -179.145583 \nL 326.349759 -178.901485 \nL 327.112587 -179.272534 \nL 327.875395 -174.566536 \nL 328.63823 -176.679189 \nL 329.401038 -176.147808 \nL 330.163846 -175.118022 \nL 330.926653 -174.298273 \nL 331.689489 -174.722806 \nL 332.452297 -174.327477 \nL 333.215132 -172.722952 \nL 333.97794 -170.219603 \nL 334.740748 -170.931919 \nL 335.503555 -169.284249 \nL 336.266391 -167.839839 \nL 337.029199 -164.899889 \nL 337.792006 -165.307802 \nL 338.554842 -165.568967 \nL 339.317649 -163.709633 \nL 340.080457 -162.543934 \nL 340.843293 -162.000734 \nL 341.6061 -161.931591 \nL 342.368908 -159.998336 \nL 343.131716 -160.433396 \nL 343.894551 -158.767564 \nL 344.657359 -155.275989 \nL 345.420167 -156.366713 \nL 346.183002 -156.191157 \nL 346.94581 -152.675377 \nL 347.708618 -151.717067 \nL 348.471425 -152.558438 \nL 349.234261 -146.161437 \nL 349.997068 -149.506846 \nL 350.759904 -145.632928 \nL 351.522712 -147.766027 \nL 352.285519 -150.116193 \nL 353.048327 -145.598204 \nL 353.811163 -142.911453 \nL 354.57397 -145.76338 \nL 355.336806 -139.814001 \nL 356.099614 -138.84127 \nL 356.862421 -138.999078 \nL 357.625229 -139.310456 \nL 358.388037 -139.525143 \nL 359.150872 -135.149398 \nL 359.91368 -133.409203 \nL 360.676515 -135.317674 \nL 361.439323 -134.888617 \nL 362.202131 -130.640826 \nL 362.202131 -219.501357 \nL 362.202131 -219.501357 \nL 361.439323 -216.959852 \nL 360.676515 -215.338617 \nL 359.91368 -216.408433 \nL 359.150872 -215.762802 \nL 358.388037 -217.346979 \nL 357.625229 -216.524255 \nL 356.862421 -218.919878 \nL 356.099614 -220.216669 \nL 355.336806 -221.18164 \nL 354.57397 -218.609682 \nL 353.811163 -215.64104 \nL 353.048327 -218.097549 \nL 352.285519 -218.74455 \nL 351.522712 -218.249852 \nL 350.759904 -218.884963 \nL 349.997068 -218.624905 \nL 349.234261 -216.295448 \nL 348.471425 -219.955901 \nL 347.708618 -220.409179 \nL 346.94581 -220.515184 \nL 346.183002 -220.480808 \nL 345.420167 -220.153462 \nL 344.657359 -221.798514 \nL 343.894551 -220.832963 \nL 343.131716 -221.7382 \nL 342.368908 -219.024982 \nL 341.6061 -223.464752 \nL 340.843293 -219.629736 \nL 340.080457 -221.248875 \nL 339.317649 -223.667061 \nL 338.554842 -222.845809 \nL 337.792006 -220.767585 \nL 337.029199 -221.42383 \nL 336.266391 -223.66321 \nL 335.503555 -223.380078 \nL 334.740748 -224.664867 \nL 333.97794 -223.967063 \nL 333.215132 -224.068676 \nL 332.452297 -229.117567 \nL 331.689489 -224.428539 \nL 330.926653 -224.034003 \nL 330.163846 -225.586372 \nL 329.401038 -225.189151 \nL 328.63823 -227.694824 \nL 327.875395 -226.829757 \nL 327.112587 -228.200888 \nL 326.349759 -228.531136 \nL 325.586944 -227.642179 \nL 324.824136 -228.578645 \nL 324.061329 -229.671227 \nL 323.298514 -228.423977 \nL 322.535692 -229.504965 \nL 321.772871 -229.475953 \nL 321.010049 -228.768317 \nL 320.247235 -229.944005 \nL 319.484427 -230.997595 \nL 318.721619 -231.317515 \nL 317.958805 -230.726184 \nL 317.195983 -231.461183 \nL 316.433161 -232.057107 \nL 315.67034 -231.593072 \nL 314.907525 -232.338142 \nL 314.144717 -234.476334 \nL 313.38191 -232.344572 \nL 312.619095 -235.184366 \nL 311.856266 -234.175685 \nL 311.093452 -236.468574 \nL 310.33063 -236.312357 \nL 309.567816 -235.525058 \nL 308.805008 -235.229025 \nL 308.0422 -234.749363 \nL 307.279365 -237.551089 \nL 306.51655 -236.370649 \nL 305.753728 -237.025601 \nL 304.990914 -238.79672 \nL 304.228106 -237.648893 \nL 303.465298 -237.951454 \nL 302.702463 -238.273486 \nL 301.939655 -238.785707 \nL 301.176847 -240.628066 \nL 300.414019 -240.972496 \nL 299.651204 -238.998034 \nL 298.888397 -239.88657 \nL 298.125589 -241.423618 \nL 297.362753 -240.68809 \nL 296.599946 -240.868159 \nL 295.837131 -241.624624 \nL 295.074309 -241.002504 \nL 294.311495 -241.61525 \nL 293.548687 -240.731721 \nL 292.785851 -241.731844 \nL 292.023044 -240.931008 \nL 291.260222 -242.867051 \nL 290.497415 -241.989194 \nL 289.734607 -242.582952 \nL 288.971785 -241.844477 \nL 288.208964 -243.425411 \nL 287.446142 -242.342373 \nL 286.683334 -242.960807 \nL 285.920513 -243.471964 \nL 285.157705 -242.572345 \nL 284.394897 -244.532093 \nL 283.632062 -243.483229 \nL 282.869254 -242.199841 \nL 282.106432 -245.112614 \nL 281.343625 -242.464353 \nL 280.580803 -243.017852 \nL 279.817996 -244.630987 \nL 279.055188 -243.944229 \nL 278.292352 -242.623659 \nL 277.529531 -242.454242 \nL 276.766723 -242.605404 \nL 276.003915 -242.774527 \nL 275.241094 -241.709297 \nL 274.478286 -242.454809 \nL 273.71545 -242.596061 \nL 272.952643 -243.189629 \nL 272.189821 -240.958628 \nL 271.427014 -239.859624 \nL 270.664206 -240.260895 \nL 269.901384 -242.268228 \nL 269.138549 -242.848363 \nL 268.375741 -241.292815 \nL 267.61293 -241.276786 \nL 266.850115 -239.72091 \nL 266.087304 -238.952611 \nL 265.324486 -239.054715 \nL 264.561661 -239.386087 \nL 263.798843 -239.765023 \nL 263.036031 -237.409476 \nL 262.27322 -236.109277 \nL 261.510402 -238.248238 \nL 260.747595 -236.354621 \nL 259.984776 -236.537181 \nL 259.221948 -236.257042 \nL 258.459133 -236.774342 \nL 257.696322 -234.106551 \nL 256.933504 -234.13062 \nL 256.170693 -234.909306 \nL 255.407882 -234.403957 \nL 254.645049 -233.451062 \nL 253.882238 -233.633259 \nL 253.11942 -231.674582 \nL 252.356613 -231.611293 \nL 251.593794 -231.074368 \nL 250.830983 -228.254134 \nL 250.068151 -231.100024 \nL 249.30534 -228.748115 \nL 248.542522 -228.298265 \nL 247.779711 -227.266352 \nL 247.0169 -227.475955 \nL 246.254085 -225.536451 \nL 245.491256 -226.300265 \nL 244.728438 -225.021726 \nL 243.96563 -223.5909 \nL 243.202809 -224.065551 \nL 242.440001 -223.43071 \nL 241.677194 -220.540754 \nL 240.914358 -221.646364 \nL 240.15155 -219.656737 \nL 239.388729 -219.150476 \nL 238.625921 -219.40798 \nL 237.863099 -217.792947 \nL 237.100292 -218.108686 \nL 236.337484 -215.280067 \nL 235.574648 -215.439108 \nL 234.811827 -215.286855 \nL 234.049019 -214.619812 \nL 233.286211 -212.704445 \nL 232.52339 -211.141679 \nL 231.760582 -210.854198 \nL 230.997747 -210.999148 \nL 230.234939 -209.662154 \nL 229.472117 -208.624988 \nL 228.70931 -210.222473 \nL 227.946502 -207.653241 \nL 227.18368 -207.746368 \nL 226.420845 -205.947091 \nL 225.658037 -203.261304 \nL 224.895229 -205.069541 \nL 224.132408 -203.689973 \nL 223.3696 -203.160662 \nL 222.606779 -202.301232 \nL 221.843957 -201.337004 \nL 221.081135 -199.935298 \nL 220.318328 -201.247377 \nL 219.55552 -198.011546 \nL 218.792698 -197.613334 \nL 218.029891 -198.127807 \nL 217.267069 -196.566997 \nL 216.504247 -195.998431 \nL 215.741426 -194.812673 \nL 214.978618 -194.254346 \nL 214.215797 -191.398049 \nL 213.452989 -193.943353 \nL 212.690181 -192.137157 \nL 211.927346 -190.379321 \nL 211.164538 -189.72308 \nL 210.401716 -189.241311 \nL 209.638909 -186.96419 \nL 208.876087 -186.330721 \nL 208.113272 -186.781864 \nL 207.350465 -186.945479 \nL 206.58765 -185.187561 \nL 205.824828 -182.979099 \nL 205.062007 -185.3783 \nL 204.299199 -183.670488 \nL 203.536371 -181.768258 \nL 202.773556 -180.700395 \nL 202.010741 -180.227082 \nL 201.247927 -179.694307 \nL 200.485105 -179.100362 \nL 199.722297 -176.846165 \nL 198.959483 -176.460834 \nL 198.196668 -177.665797 \nL 197.433853 -176.74165 \nL 196.671025 -175.924481 \nL 195.908217 -174.127443 \nL 195.145396 -172.652985 \nL 194.382574 -171.466939 \nL 193.619759 -171.456023 \nL 192.856945 -171.51128 \nL 192.094123 -172.058825 \nL 191.331315 -168.992363 \nL 190.568508 -169.268002 \nL 189.805686 -167.114811 \nL 189.042871 -166.53657 \nL 188.280057 -167.076417 \nL 187.517242 -165.569202 \nL 186.754414 -165.712655 \nL 185.991606 -164.513064 \nL 185.228798 -163.709796 \nL 184.46597 -163.619881 \nL 183.703148 -162.348268 \nL 182.94034 -161.255144 \nL 182.177526 -161.186952 \nL 181.414704 -161.819404 \nL 180.651896 -158.965467 \nL 179.889075 -157.57074 \nL 179.12626 -159.921579 \nL 178.363452 -157.059554 \nL 177.600624 -156.44946 \nL 176.837816 -156.964939 \nL 176.074995 -155.659295 \nL 175.312166 -154.713678 \nL 174.549355 -154.41423 \nL 173.786547 -154.240256 \nL 173.023725 -155.887588 \nL 172.260914 -152.303798 \nL 171.498103 -150.66668 \nL 170.735282 -152.510452 \nL 169.97247 -149.71119 \nL 169.209652 -152.010877 \nL 168.446845 -150.70961 \nL 167.684012 -148.889862 \nL 166.921205 -150.73959 \nL 166.158387 -149.104162 \nL 165.395565 -148.570132 \nL 164.632747 -148.621612 \nL 163.869936 -145.966626 \nL 163.107121 -148.1992 \nL 162.344303 -146.42788 \nL 161.581492 -145.808231 \nL 160.81867 -145.772684 \nL 160.055863 -143.440403 \nL 159.293051 -142.691514 \nL 158.530223 -143.20367 \nL 157.767405 -143.857502 \nL 157.004594 -142.104952 \nL 156.241765 -141.39162 \nL 155.478954 -142.494191 \nL 154.716143 -141.334341 \nL 153.953321 -141.309052 \nL 153.19051 -141.598974 \nL 152.427695 -139.540717 \nL 151.664881 -139.969678 \nL 150.902069 -137.92572 \nL 150.139255 -137.987212 \nL 149.376419 -139.439558 \nL 148.613611 -137.447633 \nL 147.850804 -136.981009 \nL 147.087982 -135.515868 \nL 146.325161 -135.598488 \nL 145.562346 -136.681181 \nL 144.799531 -136.73245 \nL 144.03671 -133.686647 \nL 143.273902 -135.466425 \nL 142.511094 -134.807981 \nL 141.748273 -133.882642 \nL 140.985458 -132.908931 \nL 140.222643 -133.420716 \nL 139.459822 -133.583207 \nL 138.697 -132.363779 \nL 137.934193 -128.906394 \nL 137.171364 -132.877372 \nL 136.408549 -131.956687 \nL 135.645735 -132.53302 \nL 134.88292 -132.008583 \nL 134.120112 -131.679751 \nL 133.357291 -128.916777 \nL 132.594483 -131.223927 \nL 131.831661 -129.202135 \nL 131.068854 -129.933844 \nL 130.306018 -127.596071 \nL 129.54321 -128.574979 \nL 128.780403 -128.793024 \nL 128.017581 -128.048078 \nL 127.254753 -126.330409 \nL 126.491938 -125.761648 \nL 125.72913 -126.655876 \nL 124.966316 -124.630727 \nL 124.203494 -128.052716 \nL 123.440679 -125.03715 \nL 122.677872 -124.493368 \nL 121.915057 -123.271901 \nL 121.152228 -124.756291 \nL 120.389421 -122.424005 \nL 119.626606 -122.381248 \nL 118.863778 -123.968459 \nL 118.10097 -122.452393 \nL 117.338148 -122.640392 \nL 116.575327 -123.62588 \nL 115.812519 -122.539667 \nL 115.049711 -122.372935 \nL 114.286897 -122.176245 \nL 113.524068 -121.188535 \nL 112.76126 -120.250433 \nL 111.998446 -119.108504 \nL 111.235617 -120.932908 \nL 110.472809 -120.437024 \nL 109.709995 -120.313489 \nL 108.947173 -119.933319 \nL 108.184359 -119.840137 \nL 107.421537 -120.421628 \nL 106.658722 -119.96128 \nL 105.895908 -120.545484 \nL 105.1331 -117.443812 \nL 104.370285 -119.679267 \nL 103.607457 -118.507515 \nL 102.844649 -120.112963 \nL 102.08182 -118.814527 \nL 101.319013 -117.173889 \nL 100.556198 -116.612992 \nL 99.793384 -117.314368 \nL 99.030576 -117.628998 \nL 98.267747 -117.220778 \nL 97.50494 -116.643425 \nL 96.742111 -117.145436 \nL 95.979296 -117.960326 \nL 95.216489 -115.988496 \nL 94.453674 -117.58983 \nL 93.690859 -117.654357 \nL 92.928038 -120.102796 \nL 92.16523 -119.340398 \nL 91.402395 -116.636603 \nL 90.639587 -118.096335 \nL 89.876779 -117.732766 \nL 89.113972 -117.099132 \nL 88.351136 -119.647003 \nL 87.588328 -118.546736 \nL 86.825507 -117.647461 \nL 86.062685 -117.189848 \nL 85.299877 -120.678526 \nL 84.53707 -117.919914 \nL 83.774248 -119.121909 \nL 83.011426 -119.045208 \nL 82.248619 -121.096787 \nL 81.485783 -119.419926 \nL 80.722976 -119.468804 \nL 79.960168 -119.156863 \nL 79.197332 -122.283155 \nL 78.434525 -121.843168 \nL 77.671717 -122.620502 \nL 76.908909 -122.93739 \nL 76.146074 -123.521081 \nL 75.383266 -122.374813 \nL 74.620458 -124.134528 \nL 73.857623 -122.712657 \nL 73.094815 -126.533151 \nL 72.332007 -123.152027 \nL 71.569186 -123.844599 \nL 70.806364 -124.132562 \nL 70.043557 -123.332607 \nL 69.280735 -125.979838 \nL 68.517913 -126.977467 \nL 67.755106 -128.395868 \nL 66.992298 -127.238833 \nL 66.229462 -125.777499 \nL 65.466655 -128.68704 \nL 64.703833 -130.050424 \nL 63.941011 -128.826107 \nL 63.178204 -132.304151 \nL 62.415396 -132.893164 \nL 61.652588 -134.067098 \nL 60.889753 -135.34907 \nL 60.126945 -137.540045 \nL 59.364124 -136.247771 \nL 58.601302 -136.731667 \nL 57.838494 -133.780164 \nz\n\" id=\"m1ce5e9acac\" style=\"stroke:#add8e6;\"/>\n    </defs>\n    <g clip-path=\"url(#paa3c0d8df1)\">\n     <use style=\"fill:#add8e6;stroke:#add8e6;\" x=\"0\" xlink:href=\"#m1ce5e9acac\" y=\"277.314375\"/>\n    </g>\n   </g>\n   <g id=\"matplotlib.axis_1\">\n    <g id=\"xtick_1\">\n     <g id=\"line2d_1\">\n      <defs>\n       <path d=\"M 0 0 \nL 0 3.5 \n\" id=\"m5633e6e784\" style=\"stroke:#000000;stroke-width:0.8;\"/>\n      </defs>\n      <g>\n       <use style=\"stroke:#000000;stroke-width:0.8;\" x=\"92.957371\" xlink:href=\"#m5633e6e784\" y=\"239.758125\"/>\n      </g>\n     </g>\n     <g id=\"text_1\">\n      <!-- −1.0 -->\n      <defs>\n       <path d=\"M 10.59375 35.5 \nL 73.1875 35.5 \nL 73.1875 27.203125 \nL 10.59375 27.203125 \nz\n\" id=\"DejaVuSans-8722\"/>\n       <path d=\"M 12.40625 8.296875 \nL 28.515625 8.296875 \nL 28.515625 63.921875 \nL 10.984375 60.40625 \nL 10.984375 69.390625 \nL 28.421875 72.90625 \nL 38.28125 72.90625 \nL 38.28125 8.296875 \nL 54.390625 8.296875 \nL 54.390625 0 \nL 12.40625 0 \nz\n\" id=\"DejaVuSans-49\"/>\n       <path d=\"M 10.6875 12.40625 \nL 21 12.40625 \nL 21 0 \nL 10.6875 0 \nz\n\" id=\"DejaVuSans-46\"/>\n       <path d=\"M 31.78125 66.40625 \nQ 24.171875 66.40625 20.328125 58.90625 \nQ 16.5 51.421875 16.5 36.375 \nQ 16.5 21.390625 20.328125 13.890625 \nQ 24.171875 6.390625 31.78125 6.390625 \nQ 39.453125 6.390625 43.28125 13.890625 \nQ 47.125 21.390625 47.125 36.375 \nQ 47.125 51.421875 43.28125 58.90625 \nQ 39.453125 66.40625 31.78125 66.40625 \nz\nM 31.78125 74.21875 \nQ 44.046875 74.21875 50.515625 64.515625 \nQ 56.984375 54.828125 56.984375 36.375 \nQ 56.984375 17.96875 50.515625 8.265625 \nQ 44.046875 -1.421875 31.78125 -1.421875 \nQ 19.53125 -1.421875 13.0625 8.265625 \nQ 6.59375 17.96875 6.59375 36.375 \nQ 6.59375 54.828125 13.0625 64.515625 \nQ 19.53125 74.21875 31.78125 74.21875 \nz\n\" id=\"DejaVuSans-48\"/>\n      </defs>\n      <g transform=\"translate(80.815965 254.356562)scale(0.1 -0.1)\">\n       <use xlink:href=\"#DejaVuSans-8722\"/>\n       <use x=\"83.789062\" xlink:href=\"#DejaVuSans-49\"/>\n       <use x=\"147.412109\" xlink:href=\"#DejaVuSans-46\"/>\n       <use x=\"179.199219\" xlink:href=\"#DejaVuSans-48\"/>\n      </g>\n     </g>\n    </g>\n    <g id=\"xtick_2\">\n     <g id=\"line2d_2\">\n      <g>\n       <use style=\"stroke:#000000;stroke-width:0.8;\" x=\"151.488842\" xlink:href=\"#m5633e6e784\" y=\"239.758125\"/>\n      </g>\n     </g>\n     <g id=\"text_2\">\n      <!-- −0.5 -->\n      <defs>\n       <path d=\"M 10.796875 72.90625 \nL 49.515625 72.90625 \nL 49.515625 64.59375 \nL 19.828125 64.59375 \nL 19.828125 46.734375 \nQ 21.96875 47.46875 24.109375 47.828125 \nQ 26.265625 48.1875 28.421875 48.1875 \nQ 40.625 48.1875 47.75 41.5 \nQ 54.890625 34.8125 54.890625 23.390625 \nQ 54.890625 11.625 47.5625 5.09375 \nQ 40.234375 -1.421875 26.90625 -1.421875 \nQ 22.3125 -1.421875 17.546875 -0.640625 \nQ 12.796875 0.140625 7.71875 1.703125 \nL 7.71875 11.625 \nQ 12.109375 9.234375 16.796875 8.0625 \nQ 21.484375 6.890625 26.703125 6.890625 \nQ 35.15625 6.890625 40.078125 11.328125 \nQ 45.015625 15.765625 45.015625 23.390625 \nQ 45.015625 31 40.078125 35.4375 \nQ 35.15625 39.890625 26.703125 39.890625 \nQ 22.75 39.890625 18.8125 39.015625 \nQ 14.890625 38.140625 10.796875 36.28125 \nz\n\" id=\"DejaVuSans-53\"/>\n      </defs>\n      <g transform=\"translate(139.347436 254.356562)scale(0.1 -0.1)\">\n       <use xlink:href=\"#DejaVuSans-8722\"/>\n       <use x=\"83.789062\" xlink:href=\"#DejaVuSans-48\"/>\n       <use x=\"147.412109\" xlink:href=\"#DejaVuSans-46\"/>\n       <use x=\"179.199219\" xlink:href=\"#DejaVuSans-53\"/>\n      </g>\n     </g>\n    </g>\n    <g id=\"xtick_3\">\n     <g id=\"line2d_3\">\n      <g>\n       <use style=\"stroke:#000000;stroke-width:0.8;\" x=\"210.020313\" xlink:href=\"#m5633e6e784\" y=\"239.758125\"/>\n      </g>\n     </g>\n     <g id=\"text_3\">\n      <!-- 0.0 -->\n      <g transform=\"translate(202.06875 254.356562)scale(0.1 -0.1)\">\n       <use xlink:href=\"#DejaVuSans-48\"/>\n       <use x=\"63.623047\" xlink:href=\"#DejaVuSans-46\"/>\n       <use x=\"95.410156\" xlink:href=\"#DejaVuSans-48\"/>\n      </g>\n     </g>\n    </g>\n    <g id=\"xtick_4\">\n     <g id=\"line2d_4\">\n      <g>\n       <use style=\"stroke:#000000;stroke-width:0.8;\" x=\"268.551783\" xlink:href=\"#m5633e6e784\" y=\"239.758125\"/>\n      </g>\n     </g>\n     <g id=\"text_4\">\n      <!-- 0.5 -->\n      <g transform=\"translate(260.600221 254.356562)scale(0.1 -0.1)\">\n       <use xlink:href=\"#DejaVuSans-48\"/>\n       <use x=\"63.623047\" xlink:href=\"#DejaVuSans-46\"/>\n       <use x=\"95.410156\" xlink:href=\"#DejaVuSans-53\"/>\n      </g>\n     </g>\n    </g>\n    <g id=\"xtick_5\">\n     <g id=\"line2d_5\">\n      <g>\n       <use style=\"stroke:#000000;stroke-width:0.8;\" x=\"327.083254\" xlink:href=\"#m5633e6e784\" y=\"239.758125\"/>\n      </g>\n     </g>\n     <g id=\"text_5\">\n      <!-- 1.0 -->\n      <g transform=\"translate(319.131691 254.356562)scale(0.1 -0.1)\">\n       <use xlink:href=\"#DejaVuSans-49\"/>\n       <use x=\"63.623047\" xlink:href=\"#DejaVuSans-46\"/>\n       <use x=\"95.410156\" xlink:href=\"#DejaVuSans-48\"/>\n      </g>\n     </g>\n    </g>\n    <g id=\"text_6\">\n     <!-- X -->\n     <defs>\n      <path d=\"M 6.296875 72.90625 \nL 16.890625 72.90625 \nL 35.015625 45.796875 \nL 53.21875 72.90625 \nL 63.8125 72.90625 \nL 40.375 37.890625 \nL 65.375 0 \nL 54.78125 0 \nL 34.28125 31 \nL 13.625 0 \nL 2.984375 0 \nL 29 38.921875 \nz\n\" id=\"DejaVuSans-88\"/>\n     </defs>\n     <g transform=\"translate(206.595313 268.034687)scale(0.1 -0.1)\">\n      <use xlink:href=\"#DejaVuSans-88\"/>\n     </g>\n    </g>\n   </g>\n   <g id=\"matplotlib.axis_2\">\n    <g id=\"ytick_1\">\n     <g id=\"line2d_6\">\n      <defs>\n       <path d=\"M 0 0 \nL -3.5 0 \n\" id=\"ma39989538b\" style=\"stroke:#000000;stroke-width:0.8;\"/>\n      </defs>\n      <g>\n       <use style=\"stroke:#000000;stroke-width:0.8;\" x=\"42.620313\" xlink:href=\"#ma39989538b\" y=\"210.242815\"/>\n      </g>\n     </g>\n     <g id=\"text_7\">\n      <!-- −2 -->\n      <defs>\n       <path d=\"M 19.1875 8.296875 \nL 53.609375 8.296875 \nL 53.609375 0 \nL 7.328125 0 \nL 7.328125 8.296875 \nQ 12.9375 14.109375 22.625 23.890625 \nQ 32.328125 33.6875 34.8125 36.53125 \nQ 39.546875 41.84375 41.421875 45.53125 \nQ 43.3125 49.21875 43.3125 52.78125 \nQ 43.3125 58.59375 39.234375 62.25 \nQ 35.15625 65.921875 28.609375 65.921875 \nQ 23.96875 65.921875 18.8125 64.3125 \nQ 13.671875 62.703125 7.8125 59.421875 \nL 7.8125 69.390625 \nQ 13.765625 71.78125 18.9375 73 \nQ 24.125 74.21875 28.421875 74.21875 \nQ 39.75 74.21875 46.484375 68.546875 \nQ 53.21875 62.890625 53.21875 53.421875 \nQ 53.21875 48.921875 51.53125 44.890625 \nQ 49.859375 40.875 45.40625 35.40625 \nQ 44.1875 33.984375 37.640625 27.21875 \nQ 31.109375 20.453125 19.1875 8.296875 \nz\n\" id=\"DejaVuSans-50\"/>\n      </defs>\n      <g transform=\"translate(20.878125 214.042033)scale(0.1 -0.1)\">\n       <use xlink:href=\"#DejaVuSans-8722\"/>\n       <use x=\"83.789062\" xlink:href=\"#DejaVuSans-50\"/>\n      </g>\n     </g>\n    </g>\n    <g id=\"ytick_2\">\n     <g id=\"line2d_7\">\n      <g>\n       <use style=\"stroke:#000000;stroke-width:0.8;\" x=\"42.620313\" xlink:href=\"#ma39989538b\" y=\"161.942521\"/>\n      </g>\n     </g>\n     <g id=\"text_8\">\n      <!-- −1 -->\n      <g transform=\"translate(20.878125 165.74174)scale(0.1 -0.1)\">\n       <use xlink:href=\"#DejaVuSans-8722\"/>\n       <use x=\"83.789062\" xlink:href=\"#DejaVuSans-49\"/>\n      </g>\n     </g>\n    </g>\n    <g id=\"ytick_3\">\n     <g id=\"line2d_8\">\n      <g>\n       <use style=\"stroke:#000000;stroke-width:0.8;\" x=\"42.620313\" xlink:href=\"#ma39989538b\" y=\"113.642227\"/>\n      </g>\n     </g>\n     <g id=\"text_9\">\n      <!-- 0 -->\n      <g transform=\"translate(29.257813 117.441446)scale(0.1 -0.1)\">\n       <use xlink:href=\"#DejaVuSans-48\"/>\n      </g>\n     </g>\n    </g>\n    <g id=\"ytick_4\">\n     <g id=\"line2d_9\">\n      <g>\n       <use style=\"stroke:#000000;stroke-width:0.8;\" x=\"42.620313\" xlink:href=\"#ma39989538b\" y=\"65.341933\"/>\n      </g>\n     </g>\n     <g id=\"text_10\">\n      <!-- 1 -->\n      <g transform=\"translate(29.257813 69.141152)scale(0.1 -0.1)\">\n       <use xlink:href=\"#DejaVuSans-49\"/>\n      </g>\n     </g>\n    </g>\n    <g id=\"text_11\">\n     <!-- Y -->\n     <defs>\n      <path d=\"M -0.203125 72.90625 \nL 10.40625 72.90625 \nL 30.609375 42.921875 \nL 50.6875 72.90625 \nL 61.28125 72.90625 \nL 35.5 34.71875 \nL 35.5 0 \nL 25.59375 0 \nL 25.59375 34.71875 \nz\n\" id=\"DejaVuSans-89\"/>\n     </defs>\n     <g transform=\"translate(14.798438 134.092031)rotate(-90)scale(0.1 -0.1)\">\n      <use xlink:href=\"#DejaVuSans-89\"/>\n     </g>\n    </g>\n   </g>\n   <g id=\"line2d_10\">\n    <defs>\n     <path d=\"M -3 3 \nL 3 -3 \nM -3 -3 \nL 3 3 \n\" id=\"mca6f3e61d2\" style=\"stroke:#000000;\"/>\n    </defs>\n    <g clip-path=\"url(#paa3c0d8df1)\">\n     <use style=\"stroke:#000000;\" x=\"92.957371\" xlink:href=\"#mca6f3e61d2\" y=\"184.662437\"/>\n     <use style=\"stroke:#000000;\" x=\"102.712621\" xlink:href=\"#mca6f3e61d2\" y=\"194.093865\"/>\n     <use style=\"stroke:#000000;\" x=\"112.467857\" xlink:href=\"#mca6f3e61d2\" y=\"180.997316\"/>\n     <use style=\"stroke:#000000;\" x=\"122.223106\" xlink:href=\"#mca6f3e61d2\" y=\"159.429516\"/>\n     <use style=\"stroke:#000000;\" x=\"131.978356\" xlink:href=\"#mca6f3e61d2\" y=\"155.660486\"/>\n     <use style=\"stroke:#000000;\" x=\"141.733592\" xlink:href=\"#mca6f3e61d2\" y=\"179.539078\"/>\n     <use style=\"stroke:#000000;\" x=\"151.488842\" xlink:href=\"#mca6f3e61d2\" y=\"150.462546\"/>\n     <use style=\"stroke:#000000;\" x=\"161.244081\" xlink:href=\"#mca6f3e61d2\" y=\"156.044868\"/>\n     <use style=\"stroke:#000000;\" x=\"170.999338\" xlink:href=\"#mca6f3e61d2\" y=\"149.510061\"/>\n     <use style=\"stroke:#000000;\" x=\"180.754577\" xlink:href=\"#mca6f3e61d2\" y=\"138.175532\"/>\n     <use style=\"stroke:#000000;\" x=\"190.509816\" xlink:href=\"#mca6f3e61d2\" y=\"135.377845\"/>\n     <use style=\"stroke:#000000;\" x=\"200.265073\" xlink:href=\"#mca6f3e61d2\" y=\"113.988812\"/>\n     <use style=\"stroke:#000000;\" x=\"210.020313\" xlink:href=\"#mca6f3e61d2\" y=\"113.401833\"/>\n     <use style=\"stroke:#000000;\" x=\"219.775562\" xlink:href=\"#mca6f3e61d2\" y=\"110.177149\"/>\n     <use style=\"stroke:#000000;\" x=\"229.530798\" xlink:href=\"#mca6f3e61d2\" y=\"94.191616\"/>\n     <use style=\"stroke:#000000;\" x=\"239.286048\" xlink:href=\"#mca6f3e61d2\" y=\"81.636199\"/>\n     <use style=\"stroke:#000000;\" x=\"249.041298\" xlink:href=\"#mca6f3e61d2\" y=\"54.586183\"/>\n     <use style=\"stroke:#000000;\" x=\"258.796533\" xlink:href=\"#mca6f3e61d2\" y=\"60.83665\"/>\n     <use style=\"stroke:#000000;\" x=\"268.551783\" xlink:href=\"#mca6f3e61d2\" y=\"45.312266\"/>\n     <use style=\"stroke:#000000;\" x=\"278.307033\" xlink:href=\"#mca6f3e61d2\" y=\"53.325227\"/>\n     <use style=\"stroke:#000000;\" x=\"288.062269\" xlink:href=\"#mca6f3e61d2\" y=\"73.104079\"/>\n     <use style=\"stroke:#000000;\" x=\"297.817519\" xlink:href=\"#mca6f3e61d2\" y=\"44.113897\"/>\n     <use style=\"stroke:#000000;\" x=\"307.572768\" xlink:href=\"#mca6f3e61d2\" y=\"54.062737\"/>\n     <use style=\"stroke:#000000;\" x=\"317.328004\" xlink:href=\"#mca6f3e61d2\" y=\"87.86453\"/>\n     <use style=\"stroke:#000000;\" x=\"327.083254\" xlink:href=\"#mca6f3e61d2\" y=\"70.500981\"/>\n    </g>\n   </g>\n   <g id=\"line2d_11\">\n    <path clip-path=\"url(#paa3c0d8df1)\" d=\"M 57.838494 183.729027 \nL 62.415396 184.525607 \nL 66.992298 185.082725 \nL 71.569186 185.391086 \nL 76.146074 185.445659 \nL 80.722976 185.246063 \nL 85.299877 184.796652 \nL 89.876779 184.106361 \nL 94.453674 183.188147 \nL 99.030576 182.058486 \nL 104.370285 180.498358 \nL 109.709995 178.707577 \nL 115.812519 176.418212 \nL 122.677872 173.580695 \nL 129.54321 170.505194 \nL 137.171364 166.830677 \nL 144.03671 163.28396 \nL 150.902069 159.479353 \nL 157.004594 155.843237 \nL 163.107121 151.928344 \nL 168.446845 148.244029 \nL 173.786547 144.294563 \nL 179.12626 140.062815 \nL 184.46597 135.539242 \nL 189.805686 130.723673 \nL 195.145396 125.626846 \nL 201.247927 119.487139 \nL 208.113272 112.245579 \nL 217.267069 102.232989 \nL 230.997747 87.215742 \nL 237.100292 80.890215 \nL 242.440001 75.69719 \nL 247.0169 71.577456 \nL 250.830983 68.422146 \nL 254.645049 65.551982 \nL 258.459133 62.994057 \nL 261.510402 61.188224 \nL 264.561661 59.606959 \nL 267.61293 58.25823 \nL 270.664206 57.147888 \nL 273.71545 56.279928 \nL 276.766723 55.656186 \nL 279.817996 55.276445 \nL 282.869254 55.138613 \nL 285.920513 55.238725 \nL 288.971785 55.570947 \nL 292.023044 56.127903 \nL 295.074309 56.900617 \nL 298.125589 57.878973 \nL 301.939655 59.373427 \nL 305.753728 61.146705 \nL 309.567816 63.172441 \nL 314.144717 65.897297 \nL 318.721619 68.895913 \nL 324.061329 72.673205 \nL 330.163846 77.261228 \nL 339.317649 84.448678 \nL 353.811163 95.836357 \nL 361.439323 101.518318 \nL 362.202131 102.067713 \nL 362.202131 102.067713 \n\" style=\"fill:none;stroke:#0000ff;stroke-linecap:square;stroke-width:2;\"/>\n   </g>\n   <g id=\"patch_3\">\n    <path d=\"M 42.620313 239.758125 \nL 42.620313 22.318125 \n\" style=\"fill:none;stroke:#000000;stroke-linecap:square;stroke-linejoin:miter;stroke-width:0.8;\"/>\n   </g>\n   <g id=\"patch_4\">\n    <path d=\"M 377.420313 239.758125 \nL 377.420313 22.318125 \n\" style=\"fill:none;stroke:#000000;stroke-linecap:square;stroke-linejoin:miter;stroke-width:0.8;\"/>\n   </g>\n   <g id=\"patch_5\">\n    <path d=\"M 42.620313 239.758125 \nL 377.420313 239.758125 \n\" style=\"fill:none;stroke:#000000;stroke-linecap:square;stroke-linejoin:miter;stroke-width:0.8;\"/>\n   </g>\n   <g id=\"patch_6\">\n    <path d=\"M 42.620313 22.318125 \nL 377.420313 22.318125 \n\" style=\"fill:none;stroke:#000000;stroke-linecap:square;stroke-linejoin:miter;stroke-width:0.8;\"/>\n   </g>\n   <g id=\"text_12\">\n    <!-- mean predictions with 90% CI -->\n    <defs>\n     <path d=\"M 52 44.1875 \nQ 55.375 50.25 60.0625 53.125 \nQ 64.75 56 71.09375 56 \nQ 79.640625 56 84.28125 50.015625 \nQ 88.921875 44.046875 88.921875 33.015625 \nL 88.921875 0 \nL 79.890625 0 \nL 79.890625 32.71875 \nQ 79.890625 40.578125 77.09375 44.375 \nQ 74.3125 48.1875 68.609375 48.1875 \nQ 61.625 48.1875 57.5625 43.546875 \nQ 53.515625 38.921875 53.515625 30.90625 \nL 53.515625 0 \nL 44.484375 0 \nL 44.484375 32.71875 \nQ 44.484375 40.625 41.703125 44.40625 \nQ 38.921875 48.1875 33.109375 48.1875 \nQ 26.21875 48.1875 22.15625 43.53125 \nQ 18.109375 38.875 18.109375 30.90625 \nL 18.109375 0 \nL 9.078125 0 \nL 9.078125 54.6875 \nL 18.109375 54.6875 \nL 18.109375 46.1875 \nQ 21.1875 51.21875 25.484375 53.609375 \nQ 29.78125 56 35.6875 56 \nQ 41.65625 56 45.828125 52.96875 \nQ 50 49.953125 52 44.1875 \nz\n\" id=\"DejaVuSans-109\"/>\n     <path d=\"M 56.203125 29.59375 \nL 56.203125 25.203125 \nL 14.890625 25.203125 \nQ 15.484375 15.921875 20.484375 11.0625 \nQ 25.484375 6.203125 34.421875 6.203125 \nQ 39.59375 6.203125 44.453125 7.46875 \nQ 49.3125 8.734375 54.109375 11.28125 \nL 54.109375 2.78125 \nQ 49.265625 0.734375 44.1875 -0.34375 \nQ 39.109375 -1.421875 33.890625 -1.421875 \nQ 20.796875 -1.421875 13.15625 6.1875 \nQ 5.515625 13.8125 5.515625 26.8125 \nQ 5.515625 40.234375 12.765625 48.109375 \nQ 20.015625 56 32.328125 56 \nQ 43.359375 56 49.78125 48.890625 \nQ 56.203125 41.796875 56.203125 29.59375 \nz\nM 47.21875 32.234375 \nQ 47.125 39.59375 43.09375 43.984375 \nQ 39.0625 48.390625 32.421875 48.390625 \nQ 24.90625 48.390625 20.390625 44.140625 \nQ 15.875 39.890625 15.1875 32.171875 \nz\n\" id=\"DejaVuSans-101\"/>\n     <path d=\"M 34.28125 27.484375 \nQ 23.390625 27.484375 19.1875 25 \nQ 14.984375 22.515625 14.984375 16.5 \nQ 14.984375 11.71875 18.140625 8.90625 \nQ 21.296875 6.109375 26.703125 6.109375 \nQ 34.1875 6.109375 38.703125 11.40625 \nQ 43.21875 16.703125 43.21875 25.484375 \nL 43.21875 27.484375 \nz\nM 52.203125 31.203125 \nL 52.203125 0 \nL 43.21875 0 \nL 43.21875 8.296875 \nQ 40.140625 3.328125 35.546875 0.953125 \nQ 30.953125 -1.421875 24.3125 -1.421875 \nQ 15.921875 -1.421875 10.953125 3.296875 \nQ 6 8.015625 6 15.921875 \nQ 6 25.140625 12.171875 29.828125 \nQ 18.359375 34.515625 30.609375 34.515625 \nL 43.21875 34.515625 \nL 43.21875 35.40625 \nQ 43.21875 41.609375 39.140625 45 \nQ 35.0625 48.390625 27.6875 48.390625 \nQ 23 48.390625 18.546875 47.265625 \nQ 14.109375 46.140625 10.015625 43.890625 \nL 10.015625 52.203125 \nQ 14.9375 54.109375 19.578125 55.046875 \nQ 24.21875 56 28.609375 56 \nQ 40.484375 56 46.34375 49.84375 \nQ 52.203125 43.703125 52.203125 31.203125 \nz\n\" id=\"DejaVuSans-97\"/>\n     <path d=\"M 54.890625 33.015625 \nL 54.890625 0 \nL 45.90625 0 \nL 45.90625 32.71875 \nQ 45.90625 40.484375 42.875 44.328125 \nQ 39.84375 48.1875 33.796875 48.1875 \nQ 26.515625 48.1875 22.3125 43.546875 \nQ 18.109375 38.921875 18.109375 30.90625 \nL 18.109375 0 \nL 9.078125 0 \nL 9.078125 54.6875 \nL 18.109375 54.6875 \nL 18.109375 46.1875 \nQ 21.34375 51.125 25.703125 53.5625 \nQ 30.078125 56 35.796875 56 \nQ 45.21875 56 50.046875 50.171875 \nQ 54.890625 44.34375 54.890625 33.015625 \nz\n\" id=\"DejaVuSans-110\"/>\n     <path id=\"DejaVuSans-32\"/>\n     <path d=\"M 18.109375 8.203125 \nL 18.109375 -20.796875 \nL 9.078125 -20.796875 \nL 9.078125 54.6875 \nL 18.109375 54.6875 \nL 18.109375 46.390625 \nQ 20.953125 51.265625 25.265625 53.625 \nQ 29.59375 56 35.59375 56 \nQ 45.5625 56 51.78125 48.09375 \nQ 58.015625 40.1875 58.015625 27.296875 \nQ 58.015625 14.40625 51.78125 6.484375 \nQ 45.5625 -1.421875 35.59375 -1.421875 \nQ 29.59375 -1.421875 25.265625 0.953125 \nQ 20.953125 3.328125 18.109375 8.203125 \nz\nM 48.6875 27.296875 \nQ 48.6875 37.203125 44.609375 42.84375 \nQ 40.53125 48.484375 33.40625 48.484375 \nQ 26.265625 48.484375 22.1875 42.84375 \nQ 18.109375 37.203125 18.109375 27.296875 \nQ 18.109375 17.390625 22.1875 11.75 \nQ 26.265625 6.109375 33.40625 6.109375 \nQ 40.53125 6.109375 44.609375 11.75 \nQ 48.6875 17.390625 48.6875 27.296875 \nz\n\" id=\"DejaVuSans-112\"/>\n     <path d=\"M 41.109375 46.296875 \nQ 39.59375 47.171875 37.8125 47.578125 \nQ 36.03125 48 33.890625 48 \nQ 26.265625 48 22.1875 43.046875 \nQ 18.109375 38.09375 18.109375 28.8125 \nL 18.109375 0 \nL 9.078125 0 \nL 9.078125 54.6875 \nL 18.109375 54.6875 \nL 18.109375 46.1875 \nQ 20.953125 51.171875 25.484375 53.578125 \nQ 30.03125 56 36.53125 56 \nQ 37.453125 56 38.578125 55.875 \nQ 39.703125 55.765625 41.0625 55.515625 \nz\n\" id=\"DejaVuSans-114\"/>\n     <path d=\"M 45.40625 46.390625 \nL 45.40625 75.984375 \nL 54.390625 75.984375 \nL 54.390625 0 \nL 45.40625 0 \nL 45.40625 8.203125 \nQ 42.578125 3.328125 38.25 0.953125 \nQ 33.9375 -1.421875 27.875 -1.421875 \nQ 17.96875 -1.421875 11.734375 6.484375 \nQ 5.515625 14.40625 5.515625 27.296875 \nQ 5.515625 40.1875 11.734375 48.09375 \nQ 17.96875 56 27.875 56 \nQ 33.9375 56 38.25 53.625 \nQ 42.578125 51.265625 45.40625 46.390625 \nz\nM 14.796875 27.296875 \nQ 14.796875 17.390625 18.875 11.75 \nQ 22.953125 6.109375 30.078125 6.109375 \nQ 37.203125 6.109375 41.296875 11.75 \nQ 45.40625 17.390625 45.40625 27.296875 \nQ 45.40625 37.203125 41.296875 42.84375 \nQ 37.203125 48.484375 30.078125 48.484375 \nQ 22.953125 48.484375 18.875 42.84375 \nQ 14.796875 37.203125 14.796875 27.296875 \nz\n\" id=\"DejaVuSans-100\"/>\n     <path d=\"M 9.421875 54.6875 \nL 18.40625 54.6875 \nL 18.40625 0 \nL 9.421875 0 \nz\nM 9.421875 75.984375 \nL 18.40625 75.984375 \nL 18.40625 64.59375 \nL 9.421875 64.59375 \nz\n\" id=\"DejaVuSans-105\"/>\n     <path d=\"M 48.78125 52.59375 \nL 48.78125 44.1875 \nQ 44.96875 46.296875 41.140625 47.34375 \nQ 37.3125 48.390625 33.40625 48.390625 \nQ 24.65625 48.390625 19.8125 42.84375 \nQ 14.984375 37.3125 14.984375 27.296875 \nQ 14.984375 17.28125 19.8125 11.734375 \nQ 24.65625 6.203125 33.40625 6.203125 \nQ 37.3125 6.203125 41.140625 7.25 \nQ 44.96875 8.296875 48.78125 10.40625 \nL 48.78125 2.09375 \nQ 45.015625 0.34375 40.984375 -0.53125 \nQ 36.96875 -1.421875 32.421875 -1.421875 \nQ 20.0625 -1.421875 12.78125 6.34375 \nQ 5.515625 14.109375 5.515625 27.296875 \nQ 5.515625 40.671875 12.859375 48.328125 \nQ 20.21875 56 33.015625 56 \nQ 37.15625 56 41.109375 55.140625 \nQ 45.0625 54.296875 48.78125 52.59375 \nz\n\" id=\"DejaVuSans-99\"/>\n     <path d=\"M 18.3125 70.21875 \nL 18.3125 54.6875 \nL 36.8125 54.6875 \nL 36.8125 47.703125 \nL 18.3125 47.703125 \nL 18.3125 18.015625 \nQ 18.3125 11.328125 20.140625 9.421875 \nQ 21.96875 7.515625 27.59375 7.515625 \nL 36.8125 7.515625 \nL 36.8125 0 \nL 27.59375 0 \nQ 17.1875 0 13.234375 3.875 \nQ 9.28125 7.765625 9.28125 18.015625 \nL 9.28125 47.703125 \nL 2.6875 47.703125 \nL 2.6875 54.6875 \nL 9.28125 54.6875 \nL 9.28125 70.21875 \nz\n\" id=\"DejaVuSans-116\"/>\n     <path d=\"M 30.609375 48.390625 \nQ 23.390625 48.390625 19.1875 42.75 \nQ 14.984375 37.109375 14.984375 27.296875 \nQ 14.984375 17.484375 19.15625 11.84375 \nQ 23.34375 6.203125 30.609375 6.203125 \nQ 37.796875 6.203125 41.984375 11.859375 \nQ 46.1875 17.53125 46.1875 27.296875 \nQ 46.1875 37.015625 41.984375 42.703125 \nQ 37.796875 48.390625 30.609375 48.390625 \nz\nM 30.609375 56 \nQ 42.328125 56 49.015625 48.375 \nQ 55.71875 40.765625 55.71875 27.296875 \nQ 55.71875 13.875 49.015625 6.21875 \nQ 42.328125 -1.421875 30.609375 -1.421875 \nQ 18.84375 -1.421875 12.171875 6.21875 \nQ 5.515625 13.875 5.515625 27.296875 \nQ 5.515625 40.765625 12.171875 48.375 \nQ 18.84375 56 30.609375 56 \nz\n\" id=\"DejaVuSans-111\"/>\n     <path d=\"M 44.28125 53.078125 \nL 44.28125 44.578125 \nQ 40.484375 46.53125 36.375 47.5 \nQ 32.28125 48.484375 27.875 48.484375 \nQ 21.1875 48.484375 17.84375 46.4375 \nQ 14.5 44.390625 14.5 40.28125 \nQ 14.5 37.15625 16.890625 35.375 \nQ 19.28125 33.59375 26.515625 31.984375 \nL 29.59375 31.296875 \nQ 39.15625 29.25 43.1875 25.515625 \nQ 47.21875 21.78125 47.21875 15.09375 \nQ 47.21875 7.46875 41.1875 3.015625 \nQ 35.15625 -1.421875 24.609375 -1.421875 \nQ 20.21875 -1.421875 15.453125 -0.5625 \nQ 10.6875 0.296875 5.421875 2 \nL 5.421875 11.28125 \nQ 10.40625 8.6875 15.234375 7.390625 \nQ 20.0625 6.109375 24.8125 6.109375 \nQ 31.15625 6.109375 34.5625 8.28125 \nQ 37.984375 10.453125 37.984375 14.40625 \nQ 37.984375 18.0625 35.515625 20.015625 \nQ 33.0625 21.96875 24.703125 23.78125 \nL 21.578125 24.515625 \nQ 13.234375 26.265625 9.515625 29.90625 \nQ 5.8125 33.546875 5.8125 39.890625 \nQ 5.8125 47.609375 11.28125 51.796875 \nQ 16.75 56 26.8125 56 \nQ 31.78125 56 36.171875 55.265625 \nQ 40.578125 54.546875 44.28125 53.078125 \nz\n\" id=\"DejaVuSans-115\"/>\n     <path d=\"M 4.203125 54.6875 \nL 13.1875 54.6875 \nL 24.421875 12.015625 \nL 35.59375 54.6875 \nL 46.1875 54.6875 \nL 57.421875 12.015625 \nL 68.609375 54.6875 \nL 77.59375 54.6875 \nL 63.28125 0 \nL 52.6875 0 \nL 40.921875 44.828125 \nL 29.109375 0 \nL 18.5 0 \nz\n\" id=\"DejaVuSans-119\"/>\n     <path d=\"M 54.890625 33.015625 \nL 54.890625 0 \nL 45.90625 0 \nL 45.90625 32.71875 \nQ 45.90625 40.484375 42.875 44.328125 \nQ 39.84375 48.1875 33.796875 48.1875 \nQ 26.515625 48.1875 22.3125 43.546875 \nQ 18.109375 38.921875 18.109375 30.90625 \nL 18.109375 0 \nL 9.078125 0 \nL 9.078125 75.984375 \nL 18.109375 75.984375 \nL 18.109375 46.1875 \nQ 21.34375 51.125 25.703125 53.5625 \nQ 30.078125 56 35.796875 56 \nQ 45.21875 56 50.046875 50.171875 \nQ 54.890625 44.34375 54.890625 33.015625 \nz\n\" id=\"DejaVuSans-104\"/>\n     <path d=\"M 10.984375 1.515625 \nL 10.984375 10.5 \nQ 14.703125 8.734375 18.5 7.8125 \nQ 22.3125 6.890625 25.984375 6.890625 \nQ 35.75 6.890625 40.890625 13.453125 \nQ 46.046875 20.015625 46.78125 33.40625 \nQ 43.953125 29.203125 39.59375 26.953125 \nQ 35.25 24.703125 29.984375 24.703125 \nQ 19.046875 24.703125 12.671875 31.3125 \nQ 6.296875 37.9375 6.296875 49.421875 \nQ 6.296875 60.640625 12.9375 67.421875 \nQ 19.578125 74.21875 30.609375 74.21875 \nQ 43.265625 74.21875 49.921875 64.515625 \nQ 56.59375 54.828125 56.59375 36.375 \nQ 56.59375 19.140625 48.40625 8.859375 \nQ 40.234375 -1.421875 26.421875 -1.421875 \nQ 22.703125 -1.421875 18.890625 -0.6875 \nQ 15.09375 0.046875 10.984375 1.515625 \nz\nM 30.609375 32.421875 \nQ 37.25 32.421875 41.125 36.953125 \nQ 45.015625 41.5 45.015625 49.421875 \nQ 45.015625 57.28125 41.125 61.84375 \nQ 37.25 66.40625 30.609375 66.40625 \nQ 23.96875 66.40625 20.09375 61.84375 \nQ 16.21875 57.28125 16.21875 49.421875 \nQ 16.21875 41.5 20.09375 36.953125 \nQ 23.96875 32.421875 30.609375 32.421875 \nz\n\" id=\"DejaVuSans-57\"/>\n     <path d=\"M 72.703125 32.078125 \nQ 68.453125 32.078125 66.03125 28.46875 \nQ 63.625 24.859375 63.625 18.40625 \nQ 63.625 12.0625 66.03125 8.421875 \nQ 68.453125 4.78125 72.703125 4.78125 \nQ 76.859375 4.78125 79.265625 8.421875 \nQ 81.6875 12.0625 81.6875 18.40625 \nQ 81.6875 24.8125 79.265625 28.4375 \nQ 76.859375 32.078125 72.703125 32.078125 \nz\nM 72.703125 38.28125 \nQ 80.421875 38.28125 84.953125 32.90625 \nQ 89.5 27.546875 89.5 18.40625 \nQ 89.5 9.28125 84.9375 3.921875 \nQ 80.375 -1.421875 72.703125 -1.421875 \nQ 64.890625 -1.421875 60.34375 3.921875 \nQ 55.8125 9.28125 55.8125 18.40625 \nQ 55.8125 27.59375 60.375 32.9375 \nQ 64.9375 38.28125 72.703125 38.28125 \nz\nM 22.3125 68.015625 \nQ 18.109375 68.015625 15.6875 64.375 \nQ 13.28125 60.75 13.28125 54.390625 \nQ 13.28125 47.953125 15.671875 44.328125 \nQ 18.0625 40.71875 22.3125 40.71875 \nQ 26.5625 40.71875 28.96875 44.328125 \nQ 31.390625 47.953125 31.390625 54.390625 \nQ 31.390625 60.6875 28.953125 64.34375 \nQ 26.515625 68.015625 22.3125 68.015625 \nz\nM 66.40625 74.21875 \nL 74.21875 74.21875 \nL 28.609375 -1.421875 \nL 20.796875 -1.421875 \nz\nM 22.3125 74.21875 \nQ 30.03125 74.21875 34.609375 68.875 \nQ 39.203125 63.53125 39.203125 54.390625 \nQ 39.203125 45.171875 34.640625 39.84375 \nQ 30.078125 34.515625 22.3125 34.515625 \nQ 14.546875 34.515625 10.03125 39.859375 \nQ 5.515625 45.21875 5.515625 54.390625 \nQ 5.515625 63.484375 10.046875 68.84375 \nQ 14.59375 74.21875 22.3125 74.21875 \nz\n\" id=\"DejaVuSans-37\"/>\n     <path d=\"M 64.40625 67.28125 \nL 64.40625 56.890625 \nQ 59.421875 61.53125 53.78125 63.8125 \nQ 48.140625 66.109375 41.796875 66.109375 \nQ 29.296875 66.109375 22.65625 58.46875 \nQ 16.015625 50.828125 16.015625 36.375 \nQ 16.015625 21.96875 22.65625 14.328125 \nQ 29.296875 6.6875 41.796875 6.6875 \nQ 48.140625 6.6875 53.78125 8.984375 \nQ 59.421875 11.28125 64.40625 15.921875 \nL 64.40625 5.609375 \nQ 59.234375 2.09375 53.4375 0.328125 \nQ 47.65625 -1.421875 41.21875 -1.421875 \nQ 24.65625 -1.421875 15.125 8.703125 \nQ 5.609375 18.84375 5.609375 36.375 \nQ 5.609375 53.953125 15.125 64.078125 \nQ 24.65625 74.21875 41.21875 74.21875 \nQ 47.75 74.21875 53.53125 72.484375 \nQ 59.328125 70.75 64.40625 67.28125 \nz\n\" id=\"DejaVuSans-67\"/>\n     <path d=\"M 9.8125 72.90625 \nL 19.671875 72.90625 \nL 19.671875 0 \nL 9.8125 0 \nz\n\" id=\"DejaVuSans-73\"/>\n    </defs>\n    <g transform=\"translate(120.127188 16.318125)scale(0.12 -0.12)\">\n     <use xlink:href=\"#DejaVuSans-109\"/>\n     <use x=\"97.412109\" xlink:href=\"#DejaVuSans-101\"/>\n     <use x=\"158.935547\" xlink:href=\"#DejaVuSans-97\"/>\n     <use x=\"220.214844\" xlink:href=\"#DejaVuSans-110\"/>\n     <use x=\"283.59375\" xlink:href=\"#DejaVuSans-32\"/>\n     <use x=\"315.380859\" xlink:href=\"#DejaVuSans-112\"/>\n     <use x=\"378.857422\" xlink:href=\"#DejaVuSans-114\"/>\n     <use x=\"417.720703\" xlink:href=\"#DejaVuSans-101\"/>\n     <use x=\"479.244141\" xlink:href=\"#DejaVuSans-100\"/>\n     <use x=\"542.720703\" xlink:href=\"#DejaVuSans-105\"/>\n     <use x=\"570.503906\" xlink:href=\"#DejaVuSans-99\"/>\n     <use x=\"625.484375\" xlink:href=\"#DejaVuSans-116\"/>\n     <use x=\"664.693359\" xlink:href=\"#DejaVuSans-105\"/>\n     <use x=\"692.476562\" xlink:href=\"#DejaVuSans-111\"/>\n     <use x=\"753.658203\" xlink:href=\"#DejaVuSans-110\"/>\n     <use x=\"817.037109\" xlink:href=\"#DejaVuSans-115\"/>\n     <use x=\"869.136719\" xlink:href=\"#DejaVuSans-32\"/>\n     <use x=\"900.923828\" xlink:href=\"#DejaVuSans-119\"/>\n     <use x=\"982.710938\" xlink:href=\"#DejaVuSans-105\"/>\n     <use x=\"1010.494141\" xlink:href=\"#DejaVuSans-116\"/>\n     <use x=\"1049.703125\" xlink:href=\"#DejaVuSans-104\"/>\n     <use x=\"1113.082031\" xlink:href=\"#DejaVuSans-32\"/>\n     <use x=\"1144.869141\" xlink:href=\"#DejaVuSans-57\"/>\n     <use x=\"1208.492188\" xlink:href=\"#DejaVuSans-48\"/>\n     <use x=\"1272.115234\" xlink:href=\"#DejaVuSans-37\"/>\n     <use x=\"1367.134766\" xlink:href=\"#DejaVuSans-32\"/>\n     <use x=\"1398.921875\" xlink:href=\"#DejaVuSans-67\"/>\n     <use x=\"1468.746094\" xlink:href=\"#DejaVuSans-73\"/>\n    </g>\n   </g>\n  </g>\n </g>\n <defs>\n  <clipPath id=\"paa3c0d8df1\">\n   <rect height=\"217.44\" width=\"334.8\" x=\"42.620313\" y=\"22.318125\"/>\n  </clipPath>\n </defs>\n</svg>\n",
      "image/png": "[encoded data removed]"
     },
     "metadata": {
      "needs_background": "light"
     }
    },
    {
     "output_type": "display_data",
     "data": {
      "text/plain": "<Figure size 432x288 with 0 Axes>"
     },
     "metadata": {}
    }
   ],
   "source": [
    "fig, ax = plt.subplots(1,1)\n",
    "\n",
    "ax.plot(X,Y, 'kx')\n",
    "\n",
    "ax.fill_between(X_test, percentiles[0,:], percentiles[1,:], color='lightblue',)\n",
    "\n",
    "ax.plot(X_test, mean_prediction, 'blue', ls='solid', lw=2.)\n",
    "ax.set(xlabel='X',ylabel='Y', title=\"mean predictions with 90% CI\")\n",
    "\n",
    "plt.show()\n",
    "plt.tight_layout()"
   ]
  },
  {
   "cell_type": "code",
   "execution_count": null,
   "metadata": {},
   "outputs": [],
   "source": []
  }
 ]
}
{
 "cells": [
  {
   "cell_type": "code",
   "execution_count": 2,
   "metadata": {},
   "outputs": [],
   "source": [
    "import numpy as np\n",
    "import matplotlib.pyplot as plt"
   ]
  },
  {
   "cell_type": "code",
   "execution_count": 11,
   "metadata": {},
   "outputs": [
    {
     "data": {
      "image/png": "[encoded data removed]",
      "text/plain": [
       "<Figure size 432x288 with 1 Axes>"
      ]
     },
     "metadata": {
      "needs_background": "light"
     },
     "output_type": "display_data"
    }
   ],
   "source": [
    "p1 = np.array([0.0,0.1,0.2,0.3,0.2,0.1,0.1])\n",
    "p2 = np.array([0.1,0.2,0.3,0.2,0.1,0.1,0.0])\n",
    "\n",
    "fig, ax = plt.subplots()\n",
    "\n",
    "ax.bar(range(len(p1)), p1, label=r\"$p_1$\")\n",
    "ax.bar(range(len(p2)), p2, alpha=0.6, label=r\"$p_2$\")\n",
    "ax.legend()\n",
    "plt.show()"
   ]
  },
  {
   "cell_type": "markdown",
   "metadata": {},
   "source": [
    "$$ \\text{KL}\\left(p \\left\\lVert \\right. q \\right) = \\mathbb{E}_p\\left[ \\log \\frac{q\\left(\\cdot\\right)}{p\\left(\\cdot\\right)} \\right] = \\mathbb{E}_p\\left[ \\log q\\left(\\cdot\\right)\\right] - \\mathbb{E}_p \\left[ \\log p\\left(\\cdot\\right) \\right] $$"
   ]
  },
  {
   "cell_type": "code",
   "execution_count": 12,
   "metadata": {},
   "outputs": [],
   "source": [
    "def kl_discrete(p,q):\n",
    "    return (\n",
    "        p_i * np.log(q_i) \n",
    "         - np.sum([ p_i * np.log(p_i) if p_i > 0 else 0.0 for p_i in p1 ])\n",
    "    )"
   ]
  },
  {
   "cell_type": "code",
   "execution_count": 26,
   "metadata": {},
   "outputs": [
    {
     "data": {
      "text/plain": [
       "-1.6957425341696346"
      ]
     },
     "execution_count": 26,
     "metadata": {},
     "output_type": "execute_result"
    }
   ],
   "source": [
    "np.sum([ p_i * np.log(p_i) if p_i > 0 else 0.0 for p_i in p1 ])"
   ]
  },
  {
   "cell_type": "code",
   "execution_count": null,
   "metadata": {},
   "outputs": [],
   "source": []
  }
 ],
 "metadata": {
  "kernelspec": {
   "display_name": "Python 3.10.5 ('pymc3_env')",
   "language": "python",
   "name": "python3"
  },
  "language_info": {
   "codemirror_mode": {
    "name": "ipython",
    "version": 3
   },
   "file_extension": ".py",
   "mimetype": "text/x-python",
   "name": "python",
   "nbconvert_exporter": "python",
   "pygments_lexer": "ipython3",
   "version": "3.10.5"
  },
  "orig_nbformat": 4,
  "vscode": {
   "interpreter": {
    "hash": "cc620a1e663e2469989c8a420117e86934ce483c1158acdb5849407470120c90"
   }
  }
 },
 "nbformat": 4,
 "nbformat_minor": 2
}

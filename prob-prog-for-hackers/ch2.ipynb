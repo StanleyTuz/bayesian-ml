{
 "cells": [
  {
   "cell_type": "code",
   "execution_count": 1,
   "metadata": {},
   "outputs": [],
   "source": [
    "import pymc3 as pm"
   ]
  },
  {
   "cell_type": "code",
   "execution_count": 3,
   "metadata": {},
   "outputs": [],
   "source": [
    "with pm.Model() as model:\n",
    "    parameter = pm.Exponential('poisson_param', 1.0)\n",
    "    data_generator = pm.Poisson('data_generator', parameter)"
   ]
  },
  {
   "cell_type": "markdown",
   "metadata": {},
   "source": [
    "For multivariate problems, the `shape` keyword passed to a stochastic variable constructor will give an array of independent stochastic variables."
   ]
  },
  {
   "cell_type": "code",
   "execution_count": 4,
   "metadata": {},
   "outputs": [],
   "source": [
    "with pm.Model() as model:\n",
    "    params = pm.Exponential('params', 1.0, shape=(3,3))"
   ]
  },
  {
   "cell_type": "code",
   "execution_count": 5,
   "metadata": {},
   "outputs": [
    {
     "data": {
      "text/plain": [
       "pymc3.model.TransformedRV"
      ]
     },
     "execution_count": 5,
     "metadata": {},
     "output_type": "execute_result"
    }
   ],
   "source": [
    "type(params)"
   ]
  },
  {
   "cell_type": "markdown",
   "metadata": {},
   "source": [
    "Deterministic variables are objects of the `pm.Deterministic` class."
   ]
  },
  {
   "cell_type": "code",
   "execution_count": 6,
   "metadata": {},
   "outputs": [],
   "source": [
    "with pm.Model() as model:\n",
    "    stoch_var = pm.Exponential('stoch_var', 1.0)\n",
    "    determ_var = pm.Deterministic('determ_var', 3*stoch_var + 2)"
   ]
  },
  {
   "cell_type": "markdown",
   "metadata": {},
   "source": [
    ">Modeling approaches: A good starting thought to Bayesian modeling is to think about how your data might have been generated. Position yourself in an omniscient position, and try to imagine how you would recreate the dataset."
   ]
  },
  {
   "cell_type": "code",
   "execution_count": 6,
   "metadata": {},
   "outputs": [
    {
     "data": {
      "text/plain": [
       "<Axes:>"
      ]
     },
     "execution_count": 6,
     "metadata": {},
     "output_type": "execute_result"
    },
    {
     "data": {
      "image/png": "[encoded data removed]",
      "text/plain": [
       "<Figure size 96.378x96.378 with 1 Axes>"
      ]
     },
     "metadata": {},
     "output_type": "display_data"
    }
   ],
   "source": [
    "import daft\n",
    "\n",
    "pgm = daft.PGM()\n",
    "pgm.add_node('alpha', r\"$\\alpha$\", 0.5, 0)\n",
    "pgm.add_node('lambda_1', r\"$\\lambda_1$\", 0.25, 0.25)\n",
    "pgm.add_node('lambda_2', r\"$\\lambda_2$\", 0.75, 0.25)\n",
    "pgm.add_node('tau', r\"$\\tau$\", 0.0, 0.0)\n",
    "pgm.add_node('lambda', r\"$\\lambda$\", 0.0, 1.0)\n",
    "pgm.add_node('obs', \"obs\", 1.0, 1.0, observed=True)\n",
    "\n",
    "pgm.add_edge('alpha', 'lambda_1')\n",
    "pgm.add_edge('alpha', 'lambda_2')\n",
    "pgm.add_edge('lambda_1', 'lambda')\n",
    "pgm.add_edge('lambda_2', 'lambda')\n",
    "pgm.add_edge('tau', 'lambda')\n",
    "pgm.add_edge('lambda', 'obs')\n",
    "\n",
    "pgm.render()"
   ]
  },
  {
   "cell_type": "code",
   "execution_count": null,
   "metadata": {},
   "outputs": [],
   "source": []
  }
 ],
 "metadata": {
  "interpreter": {
   "hash": "cc620a1e663e2469989c8a420117e86934ce483c1158acdb5849407470120c90"
  },
  "kernelspec": {
   "display_name": "Python 3.10.4 ('pymc3_env')",
   "language": "python",
   "name": "python3"
  },
  "language_info": {
   "codemirror_mode": {
    "name": "ipython",
    "version": 3
   },
   "file_extension": ".py",
   "mimetype": "text/x-python",
   "name": "python",
   "nbconvert_exporter": "python",
   "pygments_lexer": "ipython3",
   "version": "3.10.4"
  },
  "orig_nbformat": 4
 },
 "nbformat": 4,
 "nbformat_minor": 2
}

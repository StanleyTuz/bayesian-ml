{
 "cells": [
  {
   "cell_type": "markdown",
   "metadata": {},
   "source": [
    "Bayesian statistics offers us a principled way to account for uncertainty. Probability is belief. Bayesian inference is all about updating our beliefs once we obtain some data.\n",
    "\n",
    "This updating of beliefs is exactly how we move from the prior distribution to the posterior distribution. The \"Bayesian\" part is the methodology for doing this.\n",
    "\n",
    "At the end of the day, Bayesian inference returns a posterior *probability distribution* over all \"possibilities,\" not a single point estimate. This differentiates it from a lot of frequentist analyses, and it's what is meant when one says something about Bayesian methods keeping track of uncertainty. After we factor the data into our beliefs, we are still usually not completely certain.\n",
    "\n",
    "What do I mean by \"possibilities?\" Usually we are trying to infer information about some unknown quantities, such as data-generating parameters or unobserved variables, given that we have some observed data. We have a prior distribution over the possible values of these \"unseens,\" and after the data is factored in, we are left with an updated, posterior distribution over the possible values.\n",
    "\n",
    "These \"unseens\" are usually called *latent variables.* The terminlogy can be confusing, and seems to refer to two different types of variables:\n",
    "* A unobserved random variable which takes an unknown value whenever an observed value does. For example, we have a bunch of real-valued data points which we assume are each drawn from one of two possible Gaussian distributions. Which distribution any given point is drawn from is a latent variable which *has* a value for every data point, but we didn't observe it. We probably have some prior knowledge about how these variables are distributed, but only performing Bayesian inference will allow us to use the data to update that knowledge. We are probably interested in inferring which Gaussian distribution each data point came from (this is a popular \"Gaussian mixture\" model). \n",
    "* A data-generating parameter which is unknown. For example, we can assume that the heights of a collection of individuals are drawn from a normal distribution, but we don't know *a priori* what the mean or standard deviation of that distribution are. We may have some prior ideas about the values of these parameters, and performing inference via Bayes' rule will allow us to update our priors into posteriors. Note that under our model the same mean and standard deviation are used for every individual, in contrast with the latent variable in the previous example."
   ]
  },
  {
   "cell_type": "markdown",
   "metadata": {},
   "source": [
    "In any case, we start with some prior knowledge about (distributions over) the unknown variables/parameters. The general inference problem is to use the data to update this prior knowledge. The posterior distribution thus represents our knowledge about the plausible values of these variables, having factored in our observations.\n",
    "\n",
    "I think about this Bayesian updating as \"tuning\" the priors toward the data; in fact, the more data we have, the more tuned toward the data the distributions will become. As the book states, the prior naturally becomes \"washed out\" by the observations. This is natural in the sense that it's a mathematical result of Bayes' rule: we don't need to set some parameter to handle the trade-off between the prior and the data, the quantity of data and the distributions we chose will do this automatically!\n",
    "\n",
    "For cases where data is sparse, our posterior will more closely represent the prior, and this is intuitively satisfying!\n",
    "\n",
    "Joe once told me he thought of Bayesian stats being useful in situations where we don't have a lot of data. I think it's more broadly applicable than that quote might suggest, but the point is well-taken. The book even emphasizes that Bayesian stats is particular useful in the cases of not-quite-enough data.\n",
    "\n",
    "I used Bayesian modeling to some success in the safety stock project, where many SKUs had sparse sales data. I was able to make satisfying predictions for these SKUs by\n",
    "1. choosing a prior distribution which gave me realistic results even before factoring in the data, and\n",
    "2. using a Bayesian hierchical model, which leveraged data across all SKUs while respecting the natural SKU hierarchy.\n",
    "\n",
    "For SKUs with very sparse data, the resulting distributions more closely resemble the prior; for SKUs with plenty of data, the results look very representative of the data!\n",
    "\n",
    "\n",
    "\n"
   ]
  },
  {
   "cell_type": "markdown",
   "metadata": {},
   "source": [
    "### Coin Flip Example"
   ]
  },
  {
   "cell_type": "markdown",
   "metadata": {},
   "source": [
    "Let $X$ represent the result of a coin flip, either heads or tails. Our data consists of a collection of coin tosses, and we are interested in making inferences about the (latent) coin fairness parameter, $\\theta$, defined as $$ Pr\\left(X = H \\, \\middle| \\, \\theta \\right) = \\theta. $$ That is, $\\theta$ is the probability of the coin flip resulting in heads.\n",
    "\n",
    "We can initially assume nothing about the coin's fairness; this corresponds to a uniform prior distribution over possible values of $\\theta$: $$p\\left(\\theta\\right) = \\text{U}\\left(0,1\\right). $$ The goal of Bayesian inference is to use the observed data to obtain a posterior distribution over possible values of $\\theta$: $$ p\\left(\\theta \\, \\middle| \\, \\mathcal{D}\\right) $$ where $\\mathcal{D} = \\left\\{ X_i \\, : \\, i = 1,2,...,N \\right\\}$ is the observed data set.\n",
    "\n",
    "By using Bayes' rule, we get $$ p\\left(\\theta \\, \\middle| \\, \\mathcal{D}\\right) \\propto p\\left(\\mathcal{D} \\, \\middle| \\, \\theta\\right) p\\left(\\theta \\right). $$ On the right-hand side, the factor on the right is the prior distribution. The factor on the left is the data likelihood, a function which measures how likely the observed data is, given a particular value of $\\theta$. Bayes' rule has allowed us to \"invert\" this quantity to determine (up to a proportionality constant) the likelihood/plausibility of various values of $\\theta$ given the data $\\mathcal{D}$; this is exactly what we're looking for!\n",
    "\n",
    "The data likelihood for this problem is going to be \n",
    "\\begin{align} \n",
    "    p\\left(\\mathcal{D}\\,\\middle|\\, \\theta\\right) & = \\prod_{i=1}^N p\\left(y^i \\, \\middle| \\, \\theta\\right) \\\\\n",
    "    & = \\prod_{i=1}^N \\theta^{y^i}\\left(1-\\theta\\right)^{1-y^i}\n",
    "\\end{align}\n",
    "where we have encoded $y^i = 1$ to mean that coin flip $i$ resulted in a heads, and $y^i = 0$ if it was a tails. We assume that the coin flips were i.i.d. generated."
   ]
  },
  {
   "cell_type": "code",
   "execution_count": 1,
   "metadata": {},
   "outputs": [
    {
     "data": {
      "image/png": "[encoded data removed]",
      "text/plain": [
       "<Figure size 432x288 with 1 Axes>"
      ]
     },
     "metadata": {
      "needs_background": "light"
     },
     "output_type": "display_data"
    }
   ],
   "source": [
    "import numpy as np\n",
    "import matplotlib.pyplot as plt\n",
    "import scipy.stats as stats\n",
    "\n",
    "\n",
    "# generate some data from a Bernoulli distribution\n",
    "theta_exact = 0.645  # actual coin \"fairness\"\n",
    "D = stats.bernoulli(p=theta_exact).rvs(20) \n",
    "\n",
    "plt.hist(D, bins=2);"
   ]
  },
  {
   "cell_type": "code",
   "execution_count": 45,
   "metadata": {},
   "outputs": [
    {
     "data": {
      "image/png": "[encoded data removed]",
      "text/plain": [
       "<Figure size 432x288 with 1 Axes>"
      ]
     },
     "metadata": {
      "needs_background": "light"
     },
     "output_type": "display_data"
    }
   ],
   "source": [
    "# prior = uniform distribution over [0, 1]\n",
    "x = np.arange(start=0, stop=1, step=.01)\n",
    "prior = np.ones_like(x)\n",
    "\n",
    "fig, ax = plt.subplots()\n",
    "ax.plot(x, prior)\n",
    "ax.set(ylim=[0,2], title=r'prior $p\\left(\\theta\\right)$', xlabel=r'$\\theta$')\n",
    "plt.show()\n"
   ]
  },
  {
   "cell_type": "markdown",
   "metadata": {},
   "source": [
    "The posterior distribution is $$ p\\left(\\theta \\, \\middle| \\, \\mathcal{D}\\right) = k \\, p\\left(\\theta\\right) \\prod_{i=1}^n \\theta^{y^i} \\left(1-\\theta\\right)^{1-y^i} $$ where $k$ is a (normalization) constant of proportionality and $p\\left(\\theta\\right)$ is the uniform density on $\\left[0,1\\right]$, i.e., $p\\left(\\theta\\right) = 1$. \n",
    "\n",
    "This is a small enough problem that we can cover the space of $\\theta$ with a discrete grid and for each value of $\\theta$ on this grid, calculate this product. What we will see is that for some values of $\\theta$, this quantity will be very small; this indicates that that value of $\\theta$ is not very plausible, given the data. Other values of $\\theta$ will see this posterior being relatively large, indicating more plausible values.\n",
    "\n",
    "The book creates graphs by actually analytically computing the posterior and simply plotting it. In this toy example it's fairly easy to do this, but for real problems, we will be able to take neither the analytical approach or this grid method I do here."
   ]
  },
  {
   "cell_type": "code",
   "execution_count": 2,
   "metadata": {},
   "outputs": [
    {
     "data": {
      "image/png": "[encoded data removed]",
      "text/plain": [
       "<Figure size 432x288 with 1 Axes>"
      ]
     },
     "metadata": {
      "needs_background": "light"
     },
     "output_type": "display_data"
    }
   ],
   "source": [
    "\n",
    "n_grid = 50\n",
    "theta_grid = np.linspace(start=0, stop=1, num=n_grid)  # grid\n",
    "\n",
    "# generate some data\n",
    "D_size = 12\n",
    "Dp = stats.bernoulli(p=theta_exact).rvs(size=D_size)\n",
    "\n",
    "post = np.zeros_like(theta_grid)\n",
    "# compute the value of the posterior for every theta\n",
    "for i,t in enumerate(theta_grid):\n",
    "    post[i] = np.array([t**(d) * (1 - t)**(1-d) for d in Dp]).prod()\n",
    "# normalize it to circumvent the proportionality constant\n",
    "post = post / post.sum()\n",
    "\n",
    "fig, ax = plt.subplots()\n",
    "ax.plot(theta_grid, post)\n",
    "ax.set(\n",
    "    title=rf\"Posterior $p\\left(\\theta | D \\right)$ after observing {Dp.sum()} heads\",\n",
    "    xlabel=r\"$\\theta$\",\n",
    "    ylim=[0,.1]\n",
    "    )\n",
    "plt.show()"
   ]
  },
  {
   "cell_type": "markdown",
   "metadata": {},
   "source": [
    "Issue: the \"amplitude\" of the posterior drops as I use more points in my grid. Does this make sense? The quantities I'm computing for each value of $\\theta$ in the grid don't change, but the total number of them increases, so it makes sense. There is some issue with the normalization. But if this was truly continuous instead of discrete, this wouldn't be a problem? **Check the Rethinking Statistics book to see how it's done there!**"
   ]
  },
  {
   "cell_type": "markdown",
   "metadata": {},
   "source": [
    "### Text messages example"
   ]
  },
  {
   "cell_type": "code",
   "execution_count": 3,
   "metadata": {},
   "outputs": [
    {
     "data": {
      "image/png": "[encoded data removed]",
      "text/plain": [
       "<Figure size 900x252 with 1 Axes>"
      ]
     },
     "metadata": {
      "needs_background": "light"
     },
     "output_type": "display_data"
    }
   ],
   "source": [
    "from scipy.stats import poisson\n",
    "import matplotlib.pyplot as plt\n",
    "import numpy as np\n",
    "\n",
    "lam_1 = 17.8\n",
    "lam_2 = 22.5\n",
    "tau = 44\n",
    "N = 75\n",
    "\n",
    "y = np.concatenate([\n",
    "    poisson(mu=lam_1).rvs(size=tau),\n",
    "    poisson(mu=lam_2).rvs(size=N-tau),\n",
    "])\n",
    "x = np.arange(start=1, stop=N+1, step=1)\n",
    "\n",
    "fig, ax = plt.subplots(figsize=(12.5, 3.5))\n",
    "# ax.vlines(x, 0, y, lw=3)\n",
    "ax.bar(x, y, color='tab:blue')\n",
    "ax.set(xlabel='Time (days)', ylabel='Count', ylim=[0,np.max(y)+5], xlim=[0, N+1])\n",
    "plt.show()"
   ]
  },
  {
   "cell_type": "markdown",
   "metadata": {},
   "source": [
    "The following model (kind of) represents our understanding of the data-generating process.\n",
    "\\begin{align}\n",
    "\\tau & \\sim \\text{DiscreteUniform}\\left(1,75\\right) \\\\\n",
    "\\mu & = \\left\\{ \\begin{array}{rl} \\mu_1 & \\text{if } t < \\tau \\\\ \\mu_2 & \\text{if } t \\geq \\tau \\end{array} \\right. \\\\\n",
    "y_i & \\sim \\text{Poisson}\\left(\\mu\\right) \\\\\n",
    "\\mu_1, \\, \\mu_2 & \\sim \\text{Exp}\\left(\\alpha\\right) \\\\\n",
    "\\end{align}"
   ]
  },
  {
   "cell_type": "code",
   "execution_count": 4,
   "metadata": {},
   "outputs": [
    {
     "name": "stderr",
     "output_type": "stream",
     "text": [
      "WARNING (aesara.tensor.blas): Using NumPy C-API based implementation for BLAS functions.\n"
     ]
    }
   ],
   "source": [
    "import pymc as pm\n",
    "\n",
    "with pm.Model() as model:\n",
    "    alpha = 1.0 / y.mean()  # using data to set prior hyperparameter\n",
    "    \n",
    "    # prior on lambdas: both lambdas drawn from the same prior\n",
    "    lambda_1 = pm.Exponential('lambda_1', alpha)\n",
    "    lambda_2 = pm.Exponential('lambda_2', alpha)\n",
    "\n",
    "    # prior on tau\n",
    "    tau = pm.DiscreteUniform('tau', lower=0, upper=len(y))\n",
    "\n",
    "    # implement switching\n",
    "    idx = np.arange(len(y))\n",
    "    lambda_ = pm.math.switch( tau > idx, lambda_1, lambda_2)\n",
    "\n",
    "    # likelihood: how was data generated?\n",
    "    y_obs = pm.Poisson('obs', lambda_, observed=y)"
   ]
  },
  {
   "cell_type": "code",
   "execution_count": 18,
   "metadata": {},
   "outputs": [
    {
     "data": {
      "image/png": "[encoded data removed]",
      "text/plain": [
       "<Figure size 432x288 with 1 Axes>"
      ]
     },
     "metadata": {
      "needs_background": "light"
     },
     "output_type": "display_data"
    }
   ],
   "source": [
    "import numpy as np\n",
    "import scipy.stats as ss\n",
    "import matplotlib.pyplot as plt\n",
    "\n",
    "\n",
    "lambda_1 = 17.5\n",
    "# lambda_2 = 24.0\n",
    "lambda_2 = 30.0\n",
    "tau = 44\n",
    "lambda_ = lambda x: lambda_1 if x < tau else lambda_2\n",
    "\n",
    "t = 39\n",
    "\n",
    "p1 = ss.poisson(mu=lambda_1)\n",
    "p2 = ss.poisson(mu=lambda_2)\n",
    "\n",
    "t = np.linspace(0, 70, 71)\n",
    "mu = [lambda_(tp) for tp in t]\n",
    "fig, ax = plt.subplots()\n",
    "ax.bar(t, ss.poisson(mu=mu).rvs())\n",
    "ax.set(xlim=[0,70], ylim=[0,50])\n",
    "\n",
    "\n",
    "# fig, ax = plt.subplots()\n",
    "# ax.bar(t, p1.rvs(size=len(t)), alpha=0.5)\n",
    "# ax.bar(t, p2.rvs(size=len(t)), alpha=0.5)\n",
    "# ax.set(xlim=[0,70], ylim=[0,50])\n",
    "\n",
    "# # p(y| lambda_1, lambda_2, tau, t)\n",
    "\n",
    "plt.show()"
   ]
  },
  {
   "cell_type": "code",
   "execution_count": 5,
   "metadata": {},
   "outputs": [
    {
     "name": "stderr",
     "output_type": "stream",
     "text": [
      "Sequential sampling (2 chains in 1 job)\n",
      "CompoundStep\n",
      ">Metropolis: [lambda_1]\n",
      ">Metropolis: [lambda_2]\n",
      ">Metropolis: [tau]\n"
     ]
    },
    {
     "data": {
      "text/html": [
       "\n",
       "<style>\n",
       "    /* Turns off some styling */\n",
       "    progress {\n",
       "        /* gets rid of default border in Firefox and Opera. */\n",
       "        border: none;\n",
       "        /* Needs to be in here for Safari polyfill so background images work as expected. */\n",
       "        background-size: auto;\n",
       "    }\n",
       "    .progress-bar-interrupted, .progress-bar-interrupted::-webkit-progress-bar {\n",
       "        background: #F44336;\n",
       "    }\n",
       "</style>\n"
      ],
      "text/plain": [
       "<IPython.core.display.HTML object>"
      ]
     },
     "metadata": {},
     "output_type": "display_data"
    },
    {
     "data": {
      "text/html": [
       "\n",
       "    <div>\n",
       "      <progress value='15000' class='' max='15000' style='width:300px; height:20px; vertical-align: middle;'></progress>\n",
       "      100.00% [15000/15000 00:07<00:00 Sampling chain 0, 0 divergences]\n",
       "    </div>\n",
       "    "
      ],
      "text/plain": [
       "<IPython.core.display.HTML object>"
      ]
     },
     "metadata": {},
     "output_type": "display_data"
    },
    {
     "data": {
      "text/html": [
       "\n",
       "<style>\n",
       "    /* Turns off some styling */\n",
       "    progress {\n",
       "        /* gets rid of default border in Firefox and Opera. */\n",
       "        border: none;\n",
       "        /* Needs to be in here for Safari polyfill so background images work as expected. */\n",
       "        background-size: auto;\n",
       "    }\n",
       "    .progress-bar-interrupted, .progress-bar-interrupted::-webkit-progress-bar {\n",
       "        background: #F44336;\n",
       "    }\n",
       "</style>\n"
      ],
      "text/plain": [
       "<IPython.core.display.HTML object>"
      ]
     },
     "metadata": {},
     "output_type": "display_data"
    },
    {
     "data": {
      "text/html": [
       "\n",
       "    <div>\n",
       "      <progress value='15000' class='' max='15000' style='width:300px; height:20px; vertical-align: middle;'></progress>\n",
       "      100.00% [15000/15000 00:06<00:00 Sampling chain 1, 0 divergences]\n",
       "    </div>\n",
       "    "
      ],
      "text/plain": [
       "<IPython.core.display.HTML object>"
      ]
     },
     "metadata": {},
     "output_type": "display_data"
    },
    {
     "name": "stderr",
     "output_type": "stream",
     "text": [
      "Sampling 2 chains for 5_000 tune and 10_000 draw iterations (10_000 + 20_000 draws total) took 15 seconds.\n",
      "We recommend running at least 4 chains for robust computation of convergence diagnostics\n"
     ]
    }
   ],
   "source": [
    "with model:\n",
    "    step = pm.Metropolis()\n",
    "    trace = pm.sample(10000, tune=5000, step=step, return_inferencedata=False)"
   ]
  },
  {
   "cell_type": "code",
   "execution_count": 7,
   "metadata": {},
   "outputs": [
    {
     "data": {
      "image/png": "[encoded data removed]",
      "text/plain": [
       "<Figure size 720x360 with 3 Axes>"
      ]
     },
     "metadata": {
      "needs_background": "light"
     },
     "output_type": "display_data"
    }
   ],
   "source": [
    "fig, ax = plt.subplots(nrows=3, ncols=1, figsize=(10,5))\n",
    "\n",
    "kwargs_hist = {\n",
    "    \"bins\": 30,\n",
    "    \"alpha\": 0.85,\n",
    "    \"histtype\": 'stepfilled',\n",
    "    \"density\": True,\n",
    "}\n",
    "\n",
    "kwargs_set = {\n",
    "    \"xlim\": [15,30],\n",
    "    \"ylim\": [0,1],\n",
    "    # \"xticks\": np.arange(N),\n",
    "}\n",
    "\n",
    "# ax[0].hist(trace['lambda_1'], bins=30, alpha=0.85, histtype='stepfilled', density=True)\n",
    "ax[0].hist(trace['lambda_1'], color='#A60628', label=r\"posterior of $\\mu_1$\", **kwargs_hist)\n",
    "ax[0].set(xlabel=r\"$\\mu_1$\", **kwargs_set)\n",
    "ax[0].legend(loc='upper left')\n",
    "\n",
    "ax[1].hist(trace['lambda_2'], color='#7A68A6', label=r\"posterior of $\\mu_2$\", **kwargs_hist)\n",
    "ax[1].set(xlabel=r\"$\\mu_2$\", **kwargs_set)\n",
    "ax[1].legend(loc='upper left')\n",
    "\n",
    "w = (1.0 / trace['tau'].shape[0]) * np.ones_like(trace['tau']) # normalizing weights\n",
    "ax[2].hist(trace['tau'], bins=N, weights=w, rwidth=2., color='#467821', label=r\"posterior of $\\tau$\")\n",
    "ax[2].set_xticks(np.arange(N))\n",
    "ax[2].set(xlim=[35,N-20], ylim=[0,1.00])\n",
    "ax[2].legend(loc='upper left')\n",
    "\n",
    "fig.suptitle(r\"\"\"Posterior distributions of the variables\n",
    "    $\\mu_1,\\;\\mu_2,\\;\\tau$\"\"\")\n",
    "plt.show()"
   ]
  },
  {
   "cell_type": "markdown",
   "metadata": {},
   "source": [
    "1. What are the posterior means of the lambdas?"
   ]
  },
  {
   "cell_type": "code",
   "execution_count": 16,
   "metadata": {},
   "outputs": [
    {
     "name": "stdout",
     "output_type": "stream",
     "text": [
      "Mean of mu_1: 17.73\n",
      "Mean of mu_2: 22.79\n"
     ]
    }
   ],
   "source": [
    "mean_lambda_1 = np.mean(trace['lambda_1'][500:])\n",
    "mean_lambda_2 = np.mean(trace['lambda_2'][500:])\n",
    "print(f\"Mean of mu_1: {mean_lambda_1:.2f}\")\n",
    "print(f\"Mean of mu_2: {mean_lambda_2:.2f}\")"
   ]
  },
  {
   "cell_type": "markdown",
   "metadata": {},
   "source": [
    "2. What is the mean increase sampled?\n",
    "\n",
    "This is not the increase of the means. Why? Because the parameters $\\left(\\mu_1, \\mu_2, \\tau\\right)$ are all sampled *jointly* from the posterior."
   ]
  },
  {
   "cell_type": "code",
   "execution_count": 17,
   "metadata": {},
   "outputs": [
    {
     "data": {
      "text/plain": [
       "0.7789350328713989"
      ]
     },
     "execution_count": 17,
     "metadata": {},
     "output_type": "execute_result"
    }
   ],
   "source": [
    "np.mean(trace['lambda_1'][500:] / trace['lambda_2'][500:])"
   ]
  },
  {
   "cell_type": "markdown",
   "metadata": {},
   "source": [
    "3. Assume that $\\tau < 45$. Then what is the mean of $\\lambda_1$?"
   ]
  },
  {
   "cell_type": "markdown",
   "metadata": {},
   "source": [
    "By definition of the expectation value, this question is asking for:\n",
    "\\begin{align}\n",
    "    \\mathbb{E}\\left[\\mu_1 \\, \\middle| \\tau < 45 \\right] & = \\int_{\\mu_1} \\mu_1 \\, p\\left(\\mu_1\\, \\middle| \\, \\tau < 45, \\mathcal{D}\\right) \\\\\n",
    "\\end{align}"
   ]
  },
  {
   "cell_type": "markdown",
   "metadata": {},
   "source": [
    "$$ p\\left(\\mu_1 \\, \\middle| \\, \\tau < 45, \\mathcal{D}\\right) = p\\left( \\mu_1, \\mu_2, \\tau<45 \\, \\middle| \\, \\mathcal{D}\\right)/p\\left(\\tau<45 \\, \\middle| \\, \\mathcal{D}\\right) $$"
   ]
  },
  {
   "cell_type": "markdown",
   "metadata": {},
   "source": [
    "$$ \\mathbb{E}\\left[\\mu_1 \\, \\middle|\\, \\tau < 45\\right] = \\int_{\\mu_1} \\mu_1 \\frac{p\\left( \\mu_1, \\mu_2, \\tau<45 \\, \\middle| \\, \\mathcal{D}\\right)}{p\\left(\\tau<45 \\, \\middle| \\, \\mathcal{D}\\right)}$$"
   ]
  },
  {
   "cell_type": "markdown",
   "metadata": {},
   "source": [
    "$$ \\mathbb{E}\\left[\\mu_1 \\, \\middle|\\, \\tau < 45\\right] = \\int_{\\mu_1} \\mu_1 \\frac{p\\left( \\mu_1, \\mu_2, \\tau<45 \\, \\middle| \\, \\mathcal{D}\\right)}{ \\int_{\\mu_1',\\mu_2'} p\\left(\\mu_1', \\mu_2', \\tau<45 \\, \\middle| \\, \\mathcal{D}\\right)}$$"
   ]
  },
  {
   "cell_type": "markdown",
   "metadata": {},
   "source": [
    "Both distributions in this equation are the same distribution: the posterior distribution. We don't actually have an exact expression for the posterior, but we have a ton of samples from it. We can use the Monte Carlo integration method, which says that \n",
    "\n",
    "$$ \\int f\\left(x\\right) dx \\approx  \\frac{1}{N}\\sum_{i=1}^N f\\left(x^{\\left(i\\right)}\\right) $$\n",
    "\n",
    "i.e., the integral can be approximated as the average of samples."
   ]
  },
  {
   "cell_type": "markdown",
   "metadata": {},
   "source": [
    "$$ \\int_{\\mu_1',\\mu_2'} p\\left(\\mu_1', \\mu_2', \\tau<45 \\, \\middle| \\, \\mathcal{D}\\right) \\approx \\frac{1}{N} \\sum_{i=1}^N p\\left(\\mu_1^{\\left(i\\right)}, \\mu_2^{\\left(i\\right)}, \\tau<45 \\, \\middle| \\, \\mathcal{D} \\right)$$"
   ]
  },
  {
   "cell_type": "markdown",
   "metadata": {},
   "source": [
    "Am I overthinking this? After doing the inference with the data set $\\mathcal{D}$, the new prior is $$ p\\left(\\mu_1, \\mu_2, \\tau\\right) := p\\left(\\mu_1, \\mu_2, \\tau \\, \\middle| \\, \\mathcal{D}\\right) $$ and the new data is $$ p\\left(\\tau < 45\\right) = 1. $$"
   ]
  },
  {
   "cell_type": "markdown",
   "metadata": {},
   "source": [
    "$$ p\\left(\\mu_1, \\mu_2, \\tau, \\mathcal{D}'\\right) \\propto p\\left(\\mu_1, \\mu_2, \\tau \\, \\middle| \\, \\mathcal{D}' \\right) p\\left( \\mathcal{D}' \\right) $$"
   ]
  },
  {
   "cell_type": "markdown",
   "metadata": {},
   "source": [
    "What we really want is \n",
    "\n",
    "\\begin{align}\n",
    "\n",
    "\\end{align}"
   ]
  },
  {
   "cell_type": "markdown",
   "metadata": {},
   "source": []
  },
  {
   "cell_type": "code",
   "execution_count": null,
   "metadata": {},
   "outputs": [],
   "source": []
  },
  {
   "cell_type": "markdown",
   "metadata": {},
   "source": [
    "Where does everything else come in? Like graphical models, or neural nets, all that other ML?"
   ]
  }
 ],
 "metadata": {
  "interpreter": {
   "hash": "1cccfed4a45e180b007d1c3f4fd5fffc4b2ee55a7eb744fceb1d84627e049512"
  },
  "kernelspec": {
   "display_name": "Python 3.10.4 ('pymc_env')",
   "language": "python",
   "name": "python3"
  },
  "language_info": {
   "codemirror_mode": {
    "name": "ipython",
    "version": 3
   },
   "file_extension": ".py",
   "mimetype": "text/x-python",
   "name": "python",
   "nbconvert_exporter": "python",
   "pygments_lexer": "ipython3",
   "version": "3.10.4"
  },
  "orig_nbformat": 4
 },
 "nbformat": 4,
 "nbformat_minor": 2
}

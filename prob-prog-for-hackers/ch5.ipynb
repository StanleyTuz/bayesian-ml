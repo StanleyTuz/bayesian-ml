{
 "cells": [
  {
   "cell_type": "markdown",
   "metadata": {},
   "source": [
    ">Using a measure that emphasizes estimation accuracy, while an appealing and objective thing to do, misses the point of why you are even performing the statistical inference in the first place: results of inference."
   ]
  },
  {
   "cell_type": "markdown",
   "metadata": {},
   "source": [
    "Loss functions measure the distance between a true \"parameter\" value and an estimate of that value: $$ L\\left(\\theta, \\hat{\\theta}\\right) $$"
   ]
  },
  {
   "cell_type": "markdown",
   "metadata": {},
   "source": [
    "Squared-error loss: $ L\\left(\\theta, \\hat{\\theta}\\right) = \\left(\\theta - \\hat{\\theta}\\right)^2 $."
   ]
  },
  {
   "cell_type": "markdown",
   "metadata": {},
   "source": []
  },
  {
   "cell_type": "markdown",
   "metadata": {},
   "source": [
    ">By shifting our focus from trying to be incredibly precise about parameter estimation to focusing on the outcomes of our parameter estimation, we can customize our estimates to be optimized for our application."
   ]
  },
  {
   "cell_type": "markdown",
   "metadata": {},
   "source": []
  },
  {
   "cell_type": "code",
   "execution_count": 1,
   "metadata": {},
   "outputs": [],
   "source": [
    "import numpy as np\n",
    "import matplotlib.pyplot as plt"
   ]
  },
  {
   "cell_type": "code",
   "execution_count": 21,
   "metadata": {},
   "outputs": [
    {
     "data": {
      "image/png": "[encoded data removed]",
      "text/plain": [
       "<Figure size 432x288 with 1 Axes>"
      ]
     },
     "metadata": {
      "needs_background": "light"
     },
     "output_type": "display_data"
    }
   ],
   "source": [
    "\n",
    "\n",
    "def loss_1(theta_est, theta):\n",
    "    \"\"\"'Politician' loss\"\"\"\n",
    "    return np.abs(theta-theta_est)/(theta * (1-theta))\n",
    "\n",
    "def loss_2(theta_est, theta):\n",
    "    \"\"\"Bounded between 0 and 1, permissive of nearby values.\"\"\"\n",
    "    return 1 - np.exp(-(theta - theta_est)**2)\n",
    "\n",
    "def loss_3(theta_est, theta):\n",
    "    \"\"\"linear dependence on differences\"\"\"\n",
    "    return np.abs(theta-theta_est)\n",
    "\n",
    "def loss_4(theta_est, theta):\n",
    "    \"\"\"quadratic dependence on differences\"\"\"\n",
    "    return np.abs(theta-theta_est)**2\n",
    "\n",
    "loss_fn = loss_4\n",
    "\n",
    "theta_est = np.linspace(0+0.001, 1-0.001, num=100)\n",
    "theta = 0.2\n",
    "loss_ = loss_fn(theta_est, theta)\n",
    "\n",
    "fig, ax = plt.subplots()\n",
    "ax.plot(theta_est, loss_)\n",
    "ax.vlines(theta, loss_.min(), loss_.max(), ls='--', color='red')\n",
    "plt.show()"
   ]
  },
  {
   "cell_type": "markdown",
   "metadata": {},
   "source": [
    "Q: How can we actually compute a \"loss\" if we don't know the actual, true value of the parameter, $\\theta$?\n",
    "\n",
    ">...if we knew the true parameter, bothering to guess an estimate is pointless. Hence a loss function is really only practical when the true parameter is unknown."
   ]
  },
  {
   "cell_type": "markdown",
   "metadata": {},
   "source": [
    "In Bayesian inference, we assume that the latent vars are drawn from a distribution. We use data to infer about what this distribution is: the posterior distribution is our belief in possible values for the latent variables. Thus, our inference gives us **an entire distribution of what the latent variables might be**."
   ]
  },
  {
   "cell_type": "markdown",
   "metadata": {},
   "source": []
  }
 ],
 "metadata": {
  "kernelspec": {
   "display_name": "Python 3.10.5 ('pymc3_env')",
   "language": "python",
   "name": "python3"
  },
  "language_info": {
   "codemirror_mode": {
    "name": "ipython",
    "version": 3
   },
   "file_extension": ".py",
   "mimetype": "text/x-python",
   "name": "python",
   "nbconvert_exporter": "python",
   "pygments_lexer": "ipython3",
   "version": "3.10.5"
  },
  "orig_nbformat": 4,
  "vscode": {
   "interpreter": {
    "hash": "cc620a1e663e2469989c8a420117e86934ce483c1158acdb5849407470120c90"
   }
  }
 },
 "nbformat": 4,
 "nbformat_minor": 2
}

{
 "cells": [
  {
   "cell_type": "markdown",
   "metadata": {},
   "source": [
    ">Backpropagating errors to parameters and then updating those parameters by tak- ing the gradient with respect to the loss is the same no matter what the underlying model is."
   ]
  },
  {
   "cell_type": "markdown",
   "metadata": {},
   "source": [
    "The `torch.nn` module contains building blocks for building neural networks. \n",
    "\n",
    "The building blocks are called \"modules\" (analogous to \"layers\" in the literature). The base class is `nn.Module`.\n",
    "\n",
    "A `nn.Module` can have `Parameter` instances as attributes; they can also have `nn.Module` instances as submodules. These must be top-level data attributes! Otherwise use `nn.ModuleList` or `nn.ModuleDict`."
   ]
  },
  {
   "cell_type": "markdown",
   "metadata": {},
   "source": [
    "One popular examples is `nn.Linear`, an affine transformation."
   ]
  },
  {
   "cell_type": "markdown",
   "metadata": {},
   "source": [
    "`nn.Module` classes all have `__call__` defined, so we can call them like a function. This computes a forward pass."
   ]
  },
  {
   "cell_type": "code",
   "execution_count": 13,
   "metadata": {},
   "outputs": [
    {
     "data": {
      "text/plain": [
       "[('weight',\n",
       "  Parameter containing:\n",
       "  tensor([[0.0589]], requires_grad=True)),\n",
       " ('bias',\n",
       "  Parameter containing:\n",
       "  tensor([0.3777], requires_grad=True))]"
      ]
     },
     "execution_count": 13,
     "metadata": {},
     "output_type": "execute_result"
    }
   ],
   "source": [
    "import torch\n",
    "\n",
    "linear_model = torch.nn.Linear(in_features=1, out_features=1)\n",
    "\n",
    "list(linear_model.named_parameters())"
   ]
  },
  {
   "cell_type": "markdown",
   "metadata": {},
   "source": [
    "Important! `nn.Module` is designed to take multiple samples at once. The zeroth dimension is the batch dim."
   ]
  },
  {
   "cell_type": "code",
   "execution_count": 16,
   "metadata": {},
   "outputs": [
    {
     "data": {
      "text/plain": [
       "tensor([[1.],\n",
       "        [1.],\n",
       "        [1.],\n",
       "        [1.],\n",
       "        [1.],\n",
       "        [1.],\n",
       "        [1.],\n",
       "        [1.],\n",
       "        [1.],\n",
       "        [1.]])"
      ]
     },
     "execution_count": 16,
     "metadata": {},
     "output_type": "execute_result"
    }
   ],
   "source": [
    "x = torch.ones(size=(10, 1))\n",
    "x"
   ]
  },
  {
   "cell_type": "code",
   "execution_count": 17,
   "metadata": {},
   "outputs": [
    {
     "data": {
      "text/plain": [
       "tensor([[0.4366],\n",
       "        [0.4366],\n",
       "        [0.4366],\n",
       "        [0.4366],\n",
       "        [0.4366],\n",
       "        [0.4366],\n",
       "        [0.4366],\n",
       "        [0.4366],\n",
       "        [0.4366],\n",
       "        [0.4366]], grad_fn=<AddmmBackward0>)"
      ]
     },
     "execution_count": 17,
     "metadata": {},
     "output_type": "execute_result"
    }
   ],
   "source": [
    "linear_model(x)"
   ]
  },
  {
   "cell_type": "code",
   "execution_count": 24,
   "metadata": {},
   "outputs": [
    {
     "name": "stdout",
     "output_type": "stream",
     "text": [
      "Epoch 1, Training loss 127.5501\n",
      "Epoch 1000, Training loss 3.8621\n",
      "Epoch 2000, Training loss 2.9588\n",
      "Epoch 3000, Training loss 2.9287\n",
      "\n",
      " Parameter containing:\n",
      "tensor([[5.3485]], requires_grad=True) \n",
      " Parameter containing:\n",
      "tensor([-17.1960], requires_grad=True)\n"
     ]
    }
   ],
   "source": [
    "def training_loop(n_epochs, optimizer, model, loss_fn, t_u_train, t_c_train, t_u_val = None, t_c_val = None):\n",
    "    for epoch in range(1, n_epochs+1):\n",
    "        t_p_train = model(t_u_train)\n",
    "        loss_train = loss_fn(t_p_train, t_c_train)\n",
    "        # t_p_val = model(t_u_val)\n",
    "        # loss_val = loss_fn(t_p_val, t_c_val)\n",
    "\n",
    "        optimizer.zero_grad()\n",
    "        loss_train.backward()\n",
    "        optimizer.step()\n",
    "\n",
    "        if epoch == 1 or epoch % 1000 == 0:\n",
    "            print(f\"Epoch {epoch}, Training loss {loss_train.item():.4f}\")\n",
    "                #   f\" Validation loss {loss_val.item():.4f}\")\n",
    "\n",
    "t_c = [0.5,  14.0, 15.0, 28.0, 11.0,  8.0,  3.0, -4.0,  6.0, 13.0, 21.0]\n",
    "t_u = [35.7, 55.9, 58.2, 81.9, 56.3, 48.9, 33.9, 21.8, 48.4, 60.4, 68.4]\n",
    "t_c = torch.tensor(t_c).unsqueeze(1)\n",
    "t_u = torch.tensor(t_u).unsqueeze(1)\n",
    "t_un = 0.1 * t_u\n",
    "\n",
    "linear_model = torch.nn.Linear(1, 1)\n",
    "optimizer = torch.optim.SGD(\n",
    "    linear_model.parameters(),\n",
    "    lr=1e-2,\n",
    ")\n",
    "\n",
    "training_loop(\n",
    "    n_epochs=3000,\n",
    "    model=linear_model,\n",
    "    optimizer=optimizer,\n",
    "    loss_fn=torch.nn.MSELoss(),\n",
    "    t_u_train=t_un,\n",
    "    t_c_train=t_c,\n",
    ")\n",
    "\n",
    "print(\"\\n\",linear_model.weight,\"\\n\",linear_model.bias)"
   ]
  },
  {
   "cell_type": "code",
   "execution_count": null,
   "metadata": {},
   "outputs": [],
   "source": []
  },
  {
   "cell_type": "code",
   "execution_count": 18,
   "metadata": {},
   "outputs": [
    {
     "name": "stdout",
     "output_type": "stream",
     "text": [
      "Epoch 1, Training loss 200.3813\n",
      "Epoch 1000, Training loss 4.7249\n",
      "Epoch 2000, Training loss 3.8763\n",
      "Epoch 3000, Training loss 2.4319\n",
      "Epoch 4000, Training loss 1.9357\n",
      "Epoch 5000, Training loss 1.8356\n"
     ]
    }
   ],
   "source": [
    "import torch\n",
    "\n",
    "def training_loop(n_epochs, optimizer, model, loss_fn, t_u_train, t_c_train, t_u_val = None, t_c_val = None):\n",
    "    for epoch in range(1, n_epochs+1):\n",
    "        t_p_train = model(t_u_train)\n",
    "        loss_train = loss_fn(t_p_train, t_c_train)\n",
    "        # t_p_val = model(t_u_val)\n",
    "        # loss_val = loss_fn(t_p_val, t_c_val)\n",
    "\n",
    "        optimizer.zero_grad()\n",
    "        loss_train.backward()\n",
    "        optimizer.step()\n",
    "\n",
    "        if epoch == 1 or epoch % 1000 == 0:\n",
    "            print(f\"Epoch {epoch}, Training loss {loss_train.item():.4f}\")\n",
    "                #   f\" Validation loss {loss_val.item():.4f}\")\n",
    "\n",
    "\n",
    "t_c = [0.5,  14.0, 15.0, 28.0, 11.0,  8.0,  3.0, -4.0,  6.0, 13.0, 21.0]\n",
    "t_u = [35.7, 55.9, 58.2, 81.9, 56.3, 48.9, 33.9, 21.8, 48.4, 60.4, 68.4]\n",
    "t_c = torch.tensor(t_c).unsqueeze(1)\n",
    "t_u = torch.tensor(t_u).unsqueeze(1)\n",
    "t_un = 0.1 * t_u\n",
    "\n",
    "from collections import OrderedDict\n",
    "\n",
    "seq_model = torch.nn.Sequential(OrderedDict([\n",
    "                ('hidden_linear', torch.nn.Linear(1, 13)),\n",
    "                ('hidden_activation', torch.nn.Tanh()),\n",
    "                ('output_linear', torch.nn.Linear(13, 1)),\n",
    "                ]))\n",
    "\n",
    "optimizer = torch.optim.SGD(\n",
    "    seq_model.parameters(),\n",
    "    lr=1e-3,\n",
    ")\n",
    "\n",
    "training_loop(\n",
    "    n_epochs=5_000,\n",
    "    model=seq_model,\n",
    "    optimizer=optimizer,\n",
    "    loss_fn=torch.nn.MSELoss(),\n",
    "    t_u_train=t_un,\n",
    "    t_c_train=t_c,\n",
    ")\n",
    "\n",
    "# print(\"\\n\",seq_model.weight,\"\\n\",seq_model.bias)"
   ]
  },
  {
   "cell_type": "code",
   "execution_count": 19,
   "metadata": {},
   "outputs": [
    {
     "data": {
      "image/png": "[encoded data removed]",
      "text/plain": [
       "<Figure size 432x288 with 1 Axes>"
      ]
     },
     "metadata": {
      "needs_background": "light"
     },
     "output_type": "display_data"
    }
   ],
   "source": [
    "import matplotlib.pyplot as plt\n",
    "\n",
    "t_range = torch.arange(20., 90.).unsqueeze(1)\n",
    "\n",
    "fig, ax = plt.subplots()\n",
    "\n",
    "ax.plot(t_u, t_c, 'o', label='data')\n",
    "ax.plot(t_range, seq_model( 0.1 * t_range).detach(), 'c-', label='model predictions')\n",
    "ax.vlines(t_u, t_c, seq_model(0.1 * t_u).detach(), 'k');"
   ]
  },
  {
   "cell_type": "markdown",
   "metadata": {},
   "source": [
    "### 6.5.1"
   ]
  },
  {
   "cell_type": "code",
   "execution_count": 28,
   "metadata": {},
   "outputs": [
    {
     "name": "stdout",
     "output_type": "stream",
     "text": [
      "Epoch 1, Training loss 179.8479\n",
      "Epoch 1000, Training loss 36.2536\n",
      "Epoch 2000, Training loss 1.3136\n",
      "Epoch 3000, Training loss 1.2394\n",
      "Epoch 4000, Training loss 1.2253\n",
      "Epoch 5000, Training loss 1.1967\n",
      "Epoch 6000, Training loss 1.0399\n",
      "Epoch 7000, Training loss 0.9004\n",
      "Epoch 8000, Training loss 0.8966\n",
      "Epoch 9000, Training loss 0.9607\n",
      "Epoch 10000, Training loss 0.8526\n",
      "Epoch 11000, Training loss 0.8542\n",
      "Epoch 12000, Training loss 0.8402\n",
      "Epoch 13000, Training loss 1.7963\n",
      "Epoch 14000, Training loss 0.8263\n",
      "Epoch 15000, Training loss 0.8324\n",
      "Epoch 16000, Training loss 0.8189\n",
      "Epoch 17000, Training loss 0.7883\n",
      "Epoch 18000, Training loss 0.7453\n",
      "Epoch 19000, Training loss 0.7842\n",
      "Epoch 20000, Training loss 0.8663\n",
      "Epoch 21000, Training loss 0.8891\n",
      "Epoch 22000, Training loss 0.8769\n",
      "Epoch 23000, Training loss 0.8349\n",
      "Epoch 24000, Training loss 0.5877\n",
      "Epoch 25000, Training loss 1.0222\n"
     ]
    },
    {
     "data": {
      "image/png": "[encoded data removed]",
      "text/plain": [
       "<Figure size 432x288 with 1 Axes>"
      ]
     },
     "metadata": {
      "needs_background": "light"
     },
     "output_type": "display_data"
    }
   ],
   "source": [
    "t_c = [0.5,  14.0, 15.0, 28.0, 11.0,  8.0,  3.0, -4.0,  6.0, 13.0, 21.0]\n",
    "t_u = [35.7, 55.9, 58.2, 81.9, 56.3, 48.9, 33.9, 21.8, 48.4, 60.4, 68.4]\n",
    "t_c = torch.tensor(t_c).unsqueeze(1)\n",
    "t_u = torch.tensor(t_u).unsqueeze(1)\n",
    "t_un = 0.1 * t_u\n",
    "\n",
    "n_hidden_neurons = 50\n",
    "seq_model = torch.nn.Sequential(OrderedDict([\n",
    "                ('hidden_linear', torch.nn.Linear(1, n_hidden_neurons)),\n",
    "                ('hidden_activation', torch.nn.Tanh()),\n",
    "                ('hidden_linear2', torch.nn.Linear(n_hidden_neurons, n_hidden_neurons)),\n",
    "                ('hidden_activation2', torch.nn.Tanh()),\n",
    "                ('output_linear', torch.nn.Linear(n_hidden_neurons, 1)),\n",
    "                ]))\n",
    "\n",
    "optimizer = torch.optim.SGD(\n",
    "    seq_model.parameters(),\n",
    "    lr=1e-2,\n",
    ")\n",
    "\n",
    "training_loop(\n",
    "    n_epochs=25_000,\n",
    "    model=seq_model,\n",
    "    optimizer=optimizer,\n",
    "    loss_fn=torch.nn.MSELoss(),\n",
    "    t_u_train=t_un,\n",
    "    t_c_train=t_c,\n",
    ")\n",
    "\n",
    "t_range = torch.arange(20., 90.).unsqueeze(1)\n",
    "\n",
    "fig, ax = plt.subplots()\n",
    "\n",
    "ax.plot(t_u, t_c, 'o', label='data')\n",
    "ax.plot(t_range, seq_model( 0.1 * t_range).detach(), 'c-', label='model predictions')\n",
    "ax.vlines(t_u, t_c, seq_model(0.1 * t_u).detach(), 'k');"
   ]
  },
  {
   "cell_type": "markdown",
   "metadata": {},
   "source": [
    "### 6.5.2"
   ]
  },
  {
   "cell_type": "code",
   "execution_count": 29,
   "metadata": {},
   "outputs": [],
   "source": [
    "import pandas as pd\n",
    "uri = \"https://raw.githubusercontent.com/deep-learning-with-pytorch/dlwpt-code/master/data/p1ch4/tabular-wine/winequality-white.csv\"\n",
    "\n",
    "wineq_numpy = pd.read_csv(uri, delimiter=';')\n",
    "col_list = list(wineq_numpy.columns)\n",
    "wineq_numpy = wineq_numpy.to_numpy(dtype='float32')"
   ]
  },
  {
   "cell_type": "code",
   "execution_count": 78,
   "metadata": {},
   "outputs": [
    {
     "data": {
      "text/plain": [
       "tensor([[6],\n",
       "        [6],\n",
       "        [6],\n",
       "        ...,\n",
       "        [6],\n",
       "        [7],\n",
       "        [6]])"
      ]
     },
     "execution_count": 78,
     "metadata": {},
     "output_type": "execute_result"
    }
   ],
   "source": []
  },
  {
   "cell_type": "code",
   "execution_count": 80,
   "metadata": {},
   "outputs": [],
   "source": [
    "wineq_numpy.shape\n",
    "X = torch.tensor(wineq_numpy[:,:-1])\n",
    "y = torch.tensor(wineq_numpy[:,-1]).long()\n",
    "\n",
    "X_normalized = (X - X.mean(axis=0)) / X.std(axis=0)\n",
    "n_classes = len(y.unique())\n",
    "\n",
    "y_onehot = torch.zeros(y.shape[0], 10)\n",
    "y_onehot.scatter_(1, y.unsqueeze(1), 1.0)  #  in-place\n",
    "\n",
    "n_features = X.shape[1]"
   ]
  },
  {
   "cell_type": "code",
   "execution_count": 87,
   "metadata": {},
   "outputs": [
    {
     "name": "stdout",
     "output_type": "stream",
     "text": [
      "Epoch 1, Training loss 2.1580\n",
      "Epoch 1000, Training loss 1.4513\n",
      "Epoch 2000, Training loss 1.3771\n",
      "Epoch 3000, Training loss 1.3503\n",
      "Epoch 4000, Training loss 1.3361\n",
      "Epoch 5000, Training loss 1.3270\n",
      "Epoch 6000, Training loss 1.3206\n",
      "Epoch 7000, Training loss 1.3159\n",
      "Epoch 8000, Training loss 1.3123\n",
      "Epoch 9000, Training loss 1.3094\n",
      "Epoch 10000, Training loss 1.3072\n"
     ]
    }
   ],
   "source": [
    "# try with ordinal label encoding\n",
    "model_wine = torch.nn.Sequential(\n",
    "    torch.nn.Linear(in_features=n_features, out_features=10),\n",
    "    torch.nn.Tanh(),\n",
    "    torch.nn.Linear(in_features=10, out_features=10),\n",
    ")\n",
    "\n",
    "optimizer = torch.optim.SGD(\n",
    "    model_wine.parameters(),\n",
    "    lr=1e-3,\n",
    ")\n",
    "import torch\n",
    "\n",
    "def training_loop(n_epochs, optimizer, model, loss_fn, t_u_train, t_c_train, t_u_val = None, t_c_val = None):\n",
    "    for epoch in range(1, n_epochs+1):\n",
    "        t_p_train = model(t_u_train)\n",
    "        loss_train = loss_fn(t_p_train, t_c_train)\n",
    "        # t_p_val = model(t_u_val)\n",
    "        # loss_val = loss_fn(t_p_val, t_c_val)\n",
    "\n",
    "        optimizer.zero_grad()\n",
    "        loss_train.backward()\n",
    "        optimizer.step()\n",
    "\n",
    "        if epoch == 1 or epoch % 1000 == 0:\n",
    "            print(f\"Epoch {epoch}, Training loss {loss_train.item():.4f}\")\n",
    "            # print(f\"    gradients: {model.params}\")\n",
    "                #   f\" Validation loss {loss_val.item():.4f}\")\n",
    "\n",
    "training_loop(\n",
    "    n_epochs=10_000,\n",
    "    model=model_wine,\n",
    "    optimizer=optimizer,\n",
    "    loss_fn=torch.nn.CrossEntropyLoss(),\n",
    "    t_u_train=X,\n",
    "    t_c_train=y,\n",
    ")"
   ]
  },
  {
   "cell_type": "code",
   "execution_count": null,
   "metadata": {},
   "outputs": [],
   "source": []
  }
 ],
 "metadata": {
  "interpreter": {
   "hash": "05483f9220296ac6701beca760617d71fd368db46c55bd0e8f8bdeca047a6cee"
  },
  "kernelspec": {
   "display_name": "Python 3.10.4",
   "language": "python",
   "name": "python3"
  },
  "language_info": {
   "codemirror_mode": {
    "name": "ipython",
    "version": 3
   },
   "file_extension": ".py",
   "mimetype": "text/x-python",
   "name": "python",
   "nbconvert_exporter": "python",
   "pygments_lexer": "ipython3",
   "version": "3.10.4"
  },
  "orig_nbformat": 4
 },
 "nbformat": 4,
 "nbformat_minor": 2
}

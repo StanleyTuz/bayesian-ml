{
 "cells": [
  {
   "cell_type": "code",
   "execution_count": 1,
   "metadata": {},
   "outputs": [],
   "source": [
    "import numpy as np\n",
    "import scipy.stats as ss"
   ]
  },
  {
   "cell_type": "markdown",
   "metadata": {},
   "source": [
    "$\\chi^2$ distribution is closely related to the normal distribution and the gamma distribution. It is a less \"natural\" distribution than, say, the normal or exponential, but it appears in many hypothesis tests."
   ]
  },
  {
   "cell_type": "markdown",
   "metadata": {},
   "source": [
    "If $Z_{1:k}$ are independent standard normal rvs, then the sum of their squares is $\\chi^2$-distributed, with $k$ degrees of freedom.\n",
    "\n",
    "$$ \\sum_{i=1}^k Z_i \\sim \\chi^2_k $$"
   ]
  },
  {
   "cell_type": "markdown",
   "metadata": {},
   "source": [
    "The inverse-$\\chi^2$ distribution is the distribution of an rv whose (multiplicative) inverse is $\\chi^2$-distributed. It is thus the distribution for $1/s^2$ where $s^2$ is a sample mean of the squares of $v$ independent standard normal rvs."
   ]
  },
  {
   "cell_type": "markdown",
   "metadata": {},
   "source": [
    "The **scaled** inverse-$\\chi^2$ distribution is similarly the distribution for $1/s^2$ where $s^2$ is a sample mean of the squares of $v$ independent normal rvs with mean zero and variance $\\sigma^2$ (no longer a *standard* normal)."
   ]
  },
  {
   "cell_type": "markdown",
   "metadata": {},
   "source": [
    "In Bayesian statistics, the scaled-inverse-$\\chi^2$ distribution is typically used as a conjugate prior for the variance parameter of an unknown normal distribution."
   ]
  },
  {
   "cell_type": "code",
   "execution_count": 19,
   "metadata": {},
   "outputs": [
    {
     "data": {
      "text/plain": [
       "1.6919954730228444"
      ]
     },
     "execution_count": 19,
     "metadata": {},
     "output_type": "execute_result"
    }
   ],
   "source": [
    "J = 4\n",
    "\n",
    "# \n",
    "z = ss.uniform.rvs()\n",
    "\n",
    "ss.chi2.ppf(scale=1.0, q=z, df=J-1)"
   ]
  },
  {
   "cell_type": "markdown",
   "metadata": {},
   "source": []
  }
 ],
 "metadata": {
  "kernelspec": {
   "display_name": "Python 3.8.12 ('.venv': venv)",
   "language": "python",
   "name": "python3"
  },
  "language_info": {
   "codemirror_mode": {
    "name": "ipython",
    "version": 3
   },
   "file_extension": ".py",
   "mimetype": "text/x-python",
   "name": "python",
   "nbconvert_exporter": "python",
   "pygments_lexer": "ipython3",
   "version": "3.8.12"
  },
  "orig_nbformat": 4,
  "vscode": {
   "interpreter": {
    "hash": "5ee19b82fd99a012bea4ec0e3f76be5c7a0cf5cc25d107856e87c55c22b4f3d1"
   }
  }
 },
 "nbformat": 4,
 "nbformat_minor": 2
}

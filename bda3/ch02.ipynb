{
 "cells": [
  {
   "cell_type": "code",
   "execution_count": 2,
   "metadata": {},
   "outputs": [],
   "source": [
    "import matplotlib.pyplot as plt\n",
    "import numpy as np"
   ]
  },
  {
   "cell_type": "markdown",
   "metadata": {},
   "source": [
    "Binomial data looks like a sequence of Bernoulli (binary-valued) trials $\\left\\{y_1, y_2, \\ldots, y_n\\right\\}$."
   ]
  },
  {
   "cell_type": "markdown",
   "metadata": {},
   "source": [
    "By reframing this data as a collection of $y$ successes in $n$ total trials, the model, by which we assume this data was generated, is exceedingly simple: $$ p\\left(y\\middle|\\theta\\right) = \\text{Bin}\\left(y\\middle|n,\\theta\\right) =\\left(\\begin{array}{c} n \\\\ y \\end{array}\\right) \\theta^y \\left(1-\\theta\\right)^{n-y} $$"
   ]
  },
  {
   "cell_type": "markdown",
   "metadata": {},
   "source": [
    "Let's generate some synthetic data with $\\theta = 0.485$."
   ]
  },
  {
   "cell_type": "code",
   "execution_count": 10,
   "metadata": {},
   "outputs": [
    {
     "name": "stdout",
     "output_type": "stream",
     "text": [
      "[1 1 1 1 1]\n",
      "28 40\n"
     ]
    }
   ],
   "source": [
    "N = 40 \n",
    "y = np.random.binomial(1, 0.485, N)\n",
    "print(y[:5])\n",
    "\n",
    "Y = y.sum()\n",
    "print(Y, N)"
   ]
  },
  {
   "cell_type": "markdown",
   "metadata": {},
   "source": [
    "To perform Bayesian inference, we need priors on the possible values of $\\theta$. Start with something basic: $$ \\theta \\sim U\\left[0,1\\right]$$"
   ]
  },
  {
   "cell_type": "markdown",
   "metadata": {},
   "source": [
    "Then by Bayes' rule, the posterior is \n",
    "\\begin{align*}\n",
    " p\\left(\\theta \\middle| y\\right) & \\propto p\\left(y\\middle|\\theta\\right)p\\left(\\theta\\right) \\\\\n",
    " & \\propto \\theta^y \\left(1-\\theta\\right)^{n-y} \\\\ \n",
    "\\end{align*}"
   ]
  },
  {
   "cell_type": "markdown",
   "metadata": {},
   "source": [
    "which can  be recognized as the beta distribution: $$ p\\left(\\theta\\middle|y\\right) $$"
   ]
  },
  {
   "cell_type": "code",
   "execution_count": null,
   "metadata": {},
   "outputs": [],
   "source": []
  }
 ],
 "metadata": {
  "kernelspec": {
   "display_name": "Python 3",
   "language": "python",
   "name": "python3"
  },
  "language_info": {
   "codemirror_mode": {
    "name": "ipython",
    "version": 3
   },
   "file_extension": ".py",
   "mimetype": "text/x-python",
   "name": "python",
   "nbconvert_exporter": "python",
   "pygments_lexer": "ipython3",
   "version": "3.9.6"
  }
 },
 "nbformat": 4,
 "nbformat_minor": 2
}

{
 "cells": [
  {
   "cell_type": "markdown",
   "metadata": {},
   "source": [
    "https://towardsdatascience.com/variational-autoencoder-demystified-with-pytorch-implementation-3a06bee395ed"
   ]
  },
  {
   "cell_type": "code",
   "execution_count": 2,
   "metadata": {},
   "outputs": [],
   "source": [
    "import torch"
   ]
  },
  {
   "cell_type": "markdown",
   "metadata": {},
   "source": [
    "ELBO Loss: $$ \\min \\mathbb{E}_q \\left[ \\log q\\left(z\\middle|x\\right) - \\log p\\left(z\\right) \\right] - \\mathbb{E}_q \\log p\\left(x\\middle|z\\right) $$"
   ]
  },
  {
   "cell_type": "markdown",
   "metadata": {},
   "source": [
    "The first expectation is the KL divergence.\n",
    "\n",
    "Think: the first term wants to minimize the (expected) difference between the probs given by $p$ and $q$. We're controlling $q$ here."
   ]
  },
  {
   "cell_type": "code",
   "execution_count": 13,
   "metadata": {},
   "outputs": [
    {
     "name": "stdout",
     "output_type": "stream",
     "text": [
      "tensor(3.2009)\n"
     ]
    }
   ],
   "source": [
    "p = torch.distributions.Normal(loc=0, scale=1)\n",
    "q = torch.distributions.Normal(loc=2, scale=4)\n",
    "\n",
    "# take a sample\n",
    "z = q.rsample()\n",
    "print(z)"
   ]
  },
  {
   "cell_type": "markdown",
   "metadata": {},
   "source": [
    "Given a sample from $q$, we can take the logs in the KL divergence:"
   ]
  },
  {
   "cell_type": "code",
   "execution_count": 17,
   "metadata": {},
   "outputs": [
    {
     "name": "stdout",
     "output_type": "stream",
     "text": [
      "prob pz:  0.0024\n",
      "prob qzx: 0.0953\n",
      "kld (single point): 3.6914\n"
     ]
    }
   ],
   "source": [
    "log_pz = p.log_prob(z)\n",
    "log_qzx = q.log_prob(z)\n",
    "\n",
    "print(f\"prob pz:  {torch.exp(log_pz):.4f}\")\n",
    "print(f\"prob qzx: {torch.exp(log_qzx):.4f}\")\n",
    "\n",
    "kld = log_qzx - log_pz\n",
    "print(f\"kld (single point): {kld:.4f}\")"
   ]
  },
  {
   "cell_type": "markdown",
   "metadata": {},
   "source": [
    "These are the probs of observing $z$ from the two distributions. If these two probs are vastly different for a given $x$, then if we do this over all $x$ and take the expected value, this difference will be large. Thus the KL divergence will be large."
   ]
  },
  {
   "cell_type": "markdown",
   "metadata": {},
   "source": [
    "We can move the distributions closer together and try again."
   ]
  },
  {
   "cell_type": "code",
   "execution_count": 19,
   "metadata": {},
   "outputs": [
    {
     "name": "stdout",
     "output_type": "stream",
     "text": [
      "kld: 7.2369\n"
     ]
    }
   ],
   "source": [
    "p = torch.distributions.Normal(loc=0, scale=1)\n",
    "q = torch.distributions.Normal(loc=1, scale=2)\n",
    "\n",
    "# plot\n",
    "# ...\n",
    "\n",
    "# take a sample\n",
    "z = q.rsample()\n",
    "kld = q.log_prob(z) - p.log_prob(z)\n",
    "print(f\"kld (single point): {kld:.4f}\")"
   ]
  },
  {
   "cell_type": "markdown",
   "metadata": {},
   "source": [
    "Issue: this is technically only difference in the log probabilities for a single point $z \\sim q$; what we *really* want is the **expected difference** under all possible values for $z$ (as drawn from $q$)!"
   ]
  },
  {
   "cell_type": "code",
   "execution_count": 20,
   "metadata": {},
   "outputs": [],
   "source": [
    "def kl_divergence(z, mu, std):\n",
    "    p = torch.distributions.Normal(torch.zeros_like(mu), torch.ones_like(std))\n",
    "    q = torch.distributions.Normal(mu, std)\n",
    "\n",
    "    log_qzx = q.log_prob(z)\n",
    "    log_pz = p.log_prob(z)\n",
    "\n",
    "    kld = log_qzx - log_pz\n",
    "\n",
    "    return kld"
   ]
  },
  {
   "cell_type": "code",
   "execution_count": null,
   "metadata": {},
   "outputs": [],
   "source": []
  }
 ],
 "metadata": {
  "interpreter": {
   "hash": "05483f9220296ac6701beca760617d71fd368db46c55bd0e8f8bdeca047a6cee"
  },
  "kernelspec": {
   "display_name": "Python 3.10.4",
   "language": "python",
   "name": "python3"
  },
  "language_info": {
   "codemirror_mode": {
    "name": "ipython",
    "version": 3
   },
   "file_extension": ".py",
   "mimetype": "text/x-python",
   "name": "python",
   "nbconvert_exporter": "python",
   "pygments_lexer": "ipython3",
   "version": "3.10.4"
  },
  "orig_nbformat": 4
 },
 "nbformat": 4,
 "nbformat_minor": 2
}
